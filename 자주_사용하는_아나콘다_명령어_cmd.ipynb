{
  "nbformat": 4,
  "nbformat_minor": 0,
  "metadata": {
    "colab": {
      "provenance": [],
      "authorship_tag": "ABX9TyOsmezG2Q5hcacNdVncPS8k",
      "include_colab_link": true
    },
    "kernelspec": {
      "name": "python3",
      "display_name": "Python 3"
    },
    "language_info": {
      "name": "python"
    }
  },
  "cells": [
    {
      "cell_type": "markdown",
      "metadata": {
        "id": "view-in-github",
        "colab_type": "text"
      },
      "source": [
        "<a href=\"https://colab.research.google.com/github/yangjik/yang.study/blob/main/%EC%9E%90%EC%A3%BC_%EC%82%AC%EC%9A%A9%ED%95%98%EB%8A%94_%EC%95%84%EB%82%98%EC%BD%98%EB%8B%A4_%EB%AA%85%EB%A0%B9%EC%96%B4_cmd.ipynb\" target=\"_parent\"><img src=\"https://colab.research.google.com/assets/colab-badge.svg\" alt=\"Open In Colab\"/></a>"
      ]
    },
    {
      "cell_type": "markdown",
      "source": [
        "1. 가상환경 조회"
      ],
      "metadata": {
        "id": "VFQN_k4g-33B"
      }
    },
    {
      "cell_type": "code",
      "execution_count": null,
      "metadata": {
        "id": "NLyllhTT-3UB"
      },
      "outputs": [],
      "source": [
        "# 가상환경 조회\n",
        "conda env list"
      ]
    },
    {
      "cell_type": "markdown",
      "source": [
        "2. 가상환경 생성"
      ],
      "metadata": {
        "id": "kqqB-j_U_IoZ"
      }
    },
    {
      "cell_type": "code",
      "source": [
        "# 가상환경 생성\n",
        "conda create -n [가상환경 이름] python=[버전지정]"
      ],
      "metadata": {
        "id": "uxXZH3ti_Hoo"
      },
      "execution_count": null,
      "outputs": []
    },
    {
      "cell_type": "markdown",
      "source": [
        "3. 가상환경 삭제"
      ],
      "metadata": {
        "id": "S8vBVuws_bWA"
      }
    },
    {
      "cell_type": "code",
      "source": [
        "conda remove --name [가상환경 이름] -- all"
      ],
      "metadata": {
        "id": "i5arQ4-g_Hmg"
      },
      "execution_count": null,
      "outputs": []
    },
    {
      "cell_type": "markdown",
      "source": [
        "4. 가상환경 활성화"
      ],
      "metadata": {
        "id": "SApwnTHh_6qb"
      }
    },
    {
      "cell_type": "code",
      "source": [
        "conda activate [가상환경 명]"
      ],
      "metadata": {
        "id": "9sME_qFc_Hj6"
      },
      "execution_count": null,
      "outputs": []
    },
    {
      "cell_type": "markdown",
      "source": [
        "5. 가상환경 비활성화"
      ],
      "metadata": {
        "id": "ITXUJunf_823"
      }
    },
    {
      "cell_type": "code",
      "source": [
        "conda deactivate"
      ],
      "metadata": {
        "id": "90g48U9Z_Hd_"
      },
      "execution_count": null,
      "outputs": []
    }
  ]
}