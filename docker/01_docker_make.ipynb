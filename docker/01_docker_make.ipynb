{
 "cells": [
  {
   "cell_type": "markdown",
   "metadata": {},
   "source": [
    "# 로컬에서 도커 만들기 - VS code"
   ]
  },
  {
   "cell_type": "markdown",
   "metadata": {},
   "source": [
    "Vscode 에서 확장프로그램에서 도커 설치하기"
   ]
  },
  {
   "cell_type": "markdown",
   "metadata": {},
   "source": [
    "### 도커 컨테이너 구조\n",
    "\n",
    "- 컨테이너는 컨테이너 레이어(Read / Write)와 이미지 레이어(Read, 다른 컨테이너와 공유할 수 있는)로 구성\n",
    "\n",
    "- 도커의 구조 <br>\n",
    "                - container<br>\n",
    "                - image<br>\n",
    "                - volume<br>\n",
    "                - network<br>"
   ]
  },
  {
   "cell_type": "markdown",
   "metadata": {},
   "source": [
    "### 도커 커맨드\n",
    "\n",
    "| 커맨드 | 설명 | 주요옵션 |\n",
    "|---|---|---|\n",
    "|start| 컨테이너 실행| -i|\n",
    "| stop | 컨테이너 정지| |\n",
    "|create | 컨테이너 생성| --name, -e, -p, -v|\n",
    "|run | 이미지를 내려받고 컨테이너를 생성 및 실행 | -name, -e, -p, -v, -d, -i, -t|\n",
    "|rm | 컨테이너 삭제 | -f, -v |\n",
    "|exec | 컨테이너에서 프로그램 실행 | -i, -t |\n",
    "|ls | 컨테이너 목록 출력 | -a |\n",
    "|cp | 컨테이너와 호스트 간 파일 복사 | |\n",
    "|commit | 컨테이너를 이미지로 변환 | |"
   ]
  },
  {
   "cell_type": "markdown",
   "metadata": {},
   "source": [
    "### 도커 이미지 커맨드\n",
    "\n",
    "|커맨드 | 설명 | 주요옵션|\n",
    "|---|---|---|\n",
    "|pull | 이미지를 내려받음 | |\n",
    "|rm | 이미지 삭제 | |\n",
    "|ls | 가지고 있는 이미지 목록을 출력 | |\n",
    "|build | 이미지 생성| -t|\n"
   ]
  },
  {
   "cell_type": "markdown",
   "metadata": {},
   "source": [
    "### 도커 사용하기"
   ]
  },
  {
   "cell_type": "markdown",
   "metadata": {},
   "source": [
    "### 주요 옵션 설명\n",
    "\n",
    "|옵션 | 설명 |\n",
    "|--|--|\n",
    "|--name| 컨테이너 이름|\n",
    "|-p | 포트 번호 지정|\n",
    "|-v | 볼륨 설정|\n",
    "|-e | 환경 변수 설정|\n",
    "|-d | 백그라운드 실행|\n",
    "|-i | 컨테이너에 터미널 연결|\n",
    "|-t | 특수 키를 사용가능하게 설정|"
   ]
  },
  {
   "cell_type": "code",
   "execution_count": 3,
   "metadata": {},
   "outputs": [
    {
     "name": "stderr",
     "output_type": "stream",
     "text": [
      "\n",
      "Usage:  docker [OPTIONS] COMMAND\n",
      "\n",
      "A self-sufficient runtime for containers\n",
      "\n",
      "Options:\n",
      "      --config string      Location of client config files (default\n",
      "                           \"C:\\\\Users\\\\Jik\\\\.docker\")\n",
      "  -c, --context string     Name of the context to use to connect to the\n",
      "                           daemon (overrides DOCKER_HOST env var and\n",
      "                           default context set with \"docker context use\")\n",
      "  -D, --debug              Enable debug mode\n",
      "  -H, --host list          Daemon socket(s) to connect to\n",
      "  -l, --log-level string   Set the logging level\n",
      "                           (\"debug\"|\"info\"|\"warn\"|\"error\"|\"fatal\")\n",
      "                           (default \"info\")\n",
      "      --tls                Use TLS; implied by --tlsverify\n",
      "      --tlscacert string   Trust certs signed only by this CA (default\n",
      "                           \"C:\\\\Users\\\\Jik\\\\.docker\\\\ca.pem\")\n",
      "      --tlscert string     Path to TLS certificate file (default\n",
      "                           \"C:\\\\Users\\\\Jik\\\\.docker\\\\cert.pem\")\n",
      "      --tlskey string      Path to TLS key file (default\n",
      "                           \"C:\\\\Users\\\\Jik\\\\.docker\\\\key.pem\")\n",
      "      --tlsverify          Use TLS and verify the remote\n",
      "  -v, --version            Print version information and quit\n",
      "\n",
      "Management Commands:\n",
      "  builder     Manage builds\n",
      "  buildx*     Docker Buildx (Docker Inc., v0.12.0-desktop.2)\n",
      "  compose*    Docker Compose (Docker Inc., v2.23.3-desktop.2)\n",
      "  config      Manage Docker configs\n",
      "  container   Manage containers\n",
      "  context     Manage contexts\n",
      "  dev*        Docker Dev Environments (Docker Inc., v0.1.0)\n",
      "  extension*  Manages Docker extensions (Docker Inc., v0.2.21)\n",
      "  feedback*   Provide feedback, right in your terminal! (Docker Inc., 0.1)\n",
      "  image       Manage images\n",
      "  init*       Creates Docker-related starter files for your project (Docker Inc., v0.1.0-beta.10)\n",
      "  manifest    Manage Docker image manifests and manifest lists\n",
      "  network     Manage networks\n",
      "  node        Manage Swarm nodes\n",
      "  plugin      Manage plugins\n",
      "  sbom*       View the packaged-based Software Bill Of Materials (SBOM) for an image (Anchore Inc., 0.6.0)\n",
      "  scan*       Docker Scan (Docker Inc., v0.26.0)\n",
      "  scout*      Docker Scout (Docker Inc., v1.2.0)\n",
      "  secret      Manage Docker secrets\n",
      "  service     Manage services\n",
      "  stack       Manage Docker stacks\n",
      "  swarm       Manage Swarm\n",
      "  system      Manage Docker\n",
      "  trust       Manage trust on Docker images\n",
      "  volume      Manage volumes\n",
      "\n",
      "Commands:\n",
      "  attach      Attach local standard input, output, and error streams to a running container\n",
      "  build       Build an image from a Dockerfile\n",
      "  commit      Create a new image from a container's changes\n",
      "  cp          Copy files/folders between a container and the local filesystem\n",
      "  create      Create a new container\n",
      "  diff        Inspect changes to files or directories on a container's filesystem\n",
      "  events      Get real time events from the server\n",
      "  exec        Run a command in a running container\n",
      "  export      Export a container's filesystem as a tar archive\n",
      "  history     Show the history of an image\n",
      "  images      List images\n",
      "  import      Import the contents from a tarball to create a filesystem image\n",
      "  info        Display system-wide information\n",
      "  inspect     Return low-level information on Docker objects\n",
      "  kill        Kill one or more running containers\n",
      "  load        Load an image from a tar archive or STDIN\n",
      "  login       Log in to a Docker registry\n",
      "  logout      Log out from a Docker registry\n",
      "  logs        Fetch the logs of a container\n",
      "  pause       Pause all processes within one or more containers\n",
      "  port        List port mappings or a specific mapping for the container\n",
      "  ps          List containers\n",
      "  pull        Pull an image or a repository from a registry\n",
      "  push        Push an image or a repository to a registry\n",
      "  rename      Rename a container\n",
      "  restart     Restart one or more containers\n",
      "  rm          Remove one or more containers\n",
      "  rmi         Remove one or more images\n",
      "  run         Run a command in a new container\n",
      "  save        Save one or more images to a tar archive (streamed to STDOUT by default)\n",
      "  search      Search the Docker Hub for images\n",
      "  start       Start one or more stopped containers\n",
      "  stats       Display a live stream of container(s) resource usage statistics\n",
      "  stop        Stop one or more running containers\n",
      "  tag         Create a tag TARGET_IMAGE that refers to SOURCE_IMAGE\n",
      "  top         Display the running processes of a container\n",
      "  unpause     Unpause all processes within one or more containers\n",
      "  update      Update configuration of one or more containers\n",
      "  version     Show the Docker version information\n",
      "  wait        Block until one or more containers stop, then print their exit codes\n",
      "\n",
      "Run 'docker COMMAND --help' for more information on a command.\n",
      "\n",
      "\u001b[1mTo get more help with docker, check out our guides at https://docs.docker.com/go/guides/\u001b[0m\n"
     ]
    }
   ],
   "source": [
    "!docker"
   ]
  },
  {
   "cell_type": "code",
   "execution_count": 16,
   "metadata": {},
   "outputs": [
    {
     "name": "stdout",
     "output_type": "stream",
     "text": [
      "CONTAINER ID   IMAGE     COMMAND   CREATED   STATUS    PORTS     NAMES\n"
     ]
    }
   ],
   "source": [
    "# 컨테이너 목록 확인\n",
    "!docker container ls"
   ]
  },
  {
   "cell_type": "code",
   "execution_count": 15,
   "metadata": {},
   "outputs": [
    {
     "name": "stdout",
     "output_type": "stream",
     "text": [
      "REPOSITORY   TAG       IMAGE ID   CREATED   SIZE\n"
     ]
    }
   ],
   "source": [
    "# 이미지 목록 확인\n",
    "!docker images ls\n",
    "# !docker images <- 위와 동일"
   ]
  },
  {
   "cell_type": "code",
   "execution_count": 6,
   "metadata": {},
   "outputs": [
    {
     "name": "stderr",
     "output_type": "stream",
     "text": [
      "Error response from daemon: No such container: {컨테이너명}\n"
     ]
    }
   ],
   "source": [
    "# 도커 정지\n",
    "!docker stop {컨테이너명}"
   ]
  },
  {
   "cell_type": "code",
   "execution_count": 7,
   "metadata": {},
   "outputs": [
    {
     "name": "stderr",
     "output_type": "stream",
     "text": [
      "Error: No such container: {컨테이너명}\n"
     ]
    }
   ],
   "source": [
    "# 도커 삭제\n",
    "!docker rm {컨테이너명}"
   ]
  },
  {
   "cell_type": "code",
   "execution_count": 8,
   "metadata": {},
   "outputs": [
    {
     "name": "stdout",
     "output_type": "stream",
     "text": [
      "b0100fb134d3761801f6f57dbe84bf873503dce6e765a3fa1273778d848b50c9\n"
     ]
    },
    {
     "name": "stderr",
     "output_type": "stream",
     "text": [
      "Unable to find image 'httpd:latest' locally\n",
      "latest: Pulling from library/httpd\n",
      "2f44b7a888fa: Pulling fs layer\n",
      "5abb3599da34: Pulling fs layer\n",
      "4f4fb700ef54: Pulling fs layer\n",
      "fa608a886227: Pulling fs layer\n",
      "afe6bbf00437: Pulling fs layer\n",
      "fd0ef2a49677: Pulling fs layer\n",
      "fa608a886227: Waiting\n",
      "afe6bbf00437: Waiting\n",
      "fd0ef2a49677: Waiting\n",
      "4f4fb700ef54: Download complete\n",
      "5abb3599da34: Verifying Checksum\n",
      "5abb3599da34: Download complete\n",
      "fa608a886227: Verifying Checksum\n",
      "fa608a886227: Download complete\n",
      "fd0ef2a49677: Download complete\n",
      "afe6bbf00437: Verifying Checksum\n",
      "afe6bbf00437: Download complete\n",
      "2f44b7a888fa: Verifying Checksum\n",
      "2f44b7a888fa: Download complete\n",
      "2f44b7a888fa: Pull complete\n",
      "5abb3599da34: Pull complete\n",
      "4f4fb700ef54: Pull complete\n",
      "fa608a886227: Pull complete\n",
      "afe6bbf00437: Pull complete\n",
      "fd0ef2a49677: Pull complete\n",
      "Digest: sha256:07ec9546c9198f065b45600e3081ea2a8aca472999a72ff45cd3bdc345f09f3e\n",
      "Status: Downloaded newer image for httpd:latest\n"
     ]
    }
   ],
   "source": [
    "# 컨테이너 생성 후 실행\n",
    "!docker run --name test1 -d httpd\n",
    "#                 {컨테이너 이름} -d {이미지 이름}"
   ]
  },
  {
   "cell_type": "code",
   "execution_count": null,
   "metadata": {},
   "outputs": [],
   "source": [
    "!docker run --name test2 -d -p 8080:80 httpd"
   ]
  },
  {
   "cell_type": "code",
   "execution_count": null,
   "metadata": {},
   "outputs": [],
   "source": [
    "# 컨테이너 목록 재확인\n",
    "!docker container ls"
   ]
  },
  {
   "cell_type": "code",
   "execution_count": null,
   "metadata": {},
   "outputs": [],
   "source": [
    "# 도커 삭제는 무조건 정지 후\n",
    "!docker stop test1 test2"
   ]
  },
  {
   "cell_type": "code",
   "execution_count": null,
   "metadata": {},
   "outputs": [],
   "source": [
    "# 위에서 만든 도커 삭제\n",
    "!docker rm test1 test2"
   ]
  },
  {
   "cell_type": "code",
   "execution_count": null,
   "metadata": {},
   "outputs": [],
   "source": [
    "!docker container ls"
   ]
  },
  {
   "cell_type": "code",
   "execution_count": null,
   "metadata": {},
   "outputs": [],
   "source": [
    "!docker image rm httpd"
   ]
  },
  {
   "cell_type": "markdown",
   "metadata": {},
   "source": [
    "### 도커 파일 만들기\n",
    "\n",
    "FROM\n",
    "- base가 되는 image를 지정 주로 os 이미지나 런타임 이미지를 지정함.<br>\n",
    "\n",
    "RUN\n",
    "- 이미지를 빌드할 때 사용하는 커맨드 설정.<br>\n",
    "\n",
    "ADD\n",
    "- 이미제 호스트의 파일이나 폴더를 추가하기 위해 사용\n",
    "- 만약 이미지에 복사하려는 디렉토리가 존재하지 않으면 docker가 자동으로 생성<br>\n",
    "\n",
    "COPY\n",
    "- 호스트 환경의 파일이나 폴더를 이미지 안으로 복사하기 위해 사용\n",
    "- 'ADD'와 동일하게 동작하지만 가장 확실한 차이점은 URL을 지정하거나, 압축파일을 자동으로 풀지 않음.<br>\n",
    "\n",
    "EXPOSE\n",
    "- 이미지가 통신에 사용할 포트를 지정할 때 사용.\n",
    "\n",
    "ENV\n",
    "- 환경 변수를 지정할 때 사용.\n",
    "- 여기서 설정한 변수는  $name, ${name} 의 형태로 사용할 수 있음.\n",
    "- 추가로 아래와 같은 문법을 사용하여 사용가능.\n",
    "- ${name:-else} : name이 정의가 안되어 있다면 'else'가 사용됨.\n",
    "\n",
    "CMD\n",
    "- 도커 컨테이너가 실행될 때 실행할 커맨드를 지정.\n",
    "- 'RUN'과 비슷하지만 CMD는 도커 이미지를 빌드할 때 실행되는 것이 아니라 \n",
    "- 컨테이너를 시작할 때 실행된다는 것이 다름.\n",
    "\n",
    "ENTRYPOINT\n",
    "- 도커 이미지가 실행될 때 사용되는 기본 커맨드를 지정(강제)\n",
    "\n",
    "WORKDIR\n",
    "- RUN, CMD, ENTRYPOINT 등을 사용할 커맨드를 실행하는 디렉토리를 지정.\n",
    "- -w 옵션으로 오버라이딩 할 수 있음.\n",
    "\n",
    "VOLUME\n",
    "- 퍼시스턴스 데이터를 저장할 경로를 지정할 때 사용.\n",
    "- 호스트의 디렉토리를 도커 컨테이너에 연결.\n",
    "- 주로 휘발성으로 사용되면 안되는 데이터를 저장할 때 사용.\n",
    "\n"
   ]
  },
  {
   "cell_type": "markdown",
   "metadata": {},
   "source": [
    "### docker build 커맨드\n",
    "\n",
    "dockerfile을 실행하기 위해서는 docker build\n",
    "- docker build ${option} ${dockerfile directory}\n",
    "\n",
    "생성된 이미지를 컨테이너로 실행하기 위해서는 run 커맨드를 사용\n",
    "- docker run --name test -p 80:80 test\n",
    " "
   ]
  },
  {
   "cell_type": "code",
   "execution_count": null,
   "metadata": {},
   "outputs": [],
   "source": [
    "!docker build -t test"
   ]
  },
  {
   "cell_type": "code",
   "execution_count": 59,
   "metadata": {},
   "outputs": [
    {
     "name": "stdout",
     "output_type": "stream",
     "text": [
      "CONTAINER ID   IMAGE     COMMAND   CREATED   STATUS    PORTS     NAMES\n"
     ]
    }
   ],
   "source": [
    "!docker container ls -a"
   ]
  },
  {
   "cell_type": "code",
   "execution_count": 67,
   "metadata": {},
   "outputs": [
    {
     "name": "stdout",
     "output_type": "stream",
     "text": [
      "REPOSITORY   TAG       IMAGE ID       CREATED              SIZE\n",
      "<none>       <none>    fd25f26e832e   About a minute ago   77.9MB\n",
      "<none>       <none>    1eb4201ffe5e   4 weeks ago          77.9MB\n"
     ]
    }
   ],
   "source": [
    "!docker image ls -a"
   ]
  },
  {
   "cell_type": "code",
   "execution_count": 45,
   "metadata": {},
   "outputs": [
    {
     "name": "stderr",
     "output_type": "stream",
     "text": [
      "Unable to find image 'txttest:latest' locally\n",
      "docker: Error response from daemon: pull access denied for txttest, repository does not exist or may require 'docker login': denied: requested access to the resource is denied.\n",
      "See 'docker run --help'.\n"
     ]
    }
   ],
   "source": [
    "!docker run --name test1 txttest"
   ]
  },
  {
   "cell_type": "code",
   "execution_count": 106,
   "metadata": {},
   "outputs": [
    {
     "name": "stderr",
     "output_type": "stream",
     "text": [
      "#1 [internal] load .dockerignore\n",
      "#1 sha256:6927c4050e97f0acf5b66abbffc11b39b8025bf63a14695bf50a559998bd5154\n",
      "#1 transferring context: 2B done\n",
      "#1 DONE 0.0s\n",
      "\n",
      "#2 [internal] load build definition from Dockerfile\n",
      "#2 sha256:47a845f553189e454a63a5eff562d6abd9b02e7f8c39531ee2478982ab1dad26\n",
      "#2 transferring dockerfile: 74B done\n",
      "#2 DONE 0.0s\n",
      "\n",
      "#3 [internal] load metadata for docker.io/library/ubuntu:latest\n",
      "#3 sha256:8c6bdfb121a69744f11ffa1fedfc68ec20085c2dcce567aac97a3ff72e53502d\n",
      "#3 DONE 1.7s\n",
      "\n",
      "#5 [1/2] FROM docker.io/library/ubuntu:latest@sha256:6042500cf4b44023ea1894effe7890666b0c5c7871ed83a97c36c76ae560bb9b\n",
      "#5 sha256:1aaa7699e8353183fd15aecd093599d07adadcdf713a1c23d0168e8408d2d1ae\n",
      "#5 DONE 0.0s\n",
      "\n",
      "#4 [2/2] RUN mkdir ./txt\n",
      "#4 sha256:41a08394c7586c5a74b961beb796f7ddfdf985fe2d71cfa19ca325219ce2ca64\n",
      "#4 CACHED\n",
      "\n",
      "#6 exporting to image\n",
      "#6 sha256:600663b964fabf82ddf08a4058643ace615385364bc024d1b2cf5bb2e2a94e0c\n",
      "#6 exporting layers done\n",
      "#6 writing image sha256:fd25f26e832e87e68cc473e59d7ac832aa60d0ceb1205442a075e68525e22147 done\n",
      "#6 naming to docker.io/library/txt:aa done\n",
      "#6 DONE 0.0s\n"
     ]
    }
   ],
   "source": [
    "# 도커파일로 이미지 생성\n",
    "# docker build -t {이미지명:태그명} {도커파일경로}\n",
    "!docker build -t txt:aa ./"
   ]
  },
  {
   "cell_type": "code",
   "execution_count": 102,
   "metadata": {},
   "outputs": [
    {
     "name": "stdout",
     "output_type": "stream",
     "text": [
      "REPOSITORY   TAG       IMAGE ID       CREATED          SIZE\n",
      "txt_test     latest    fd25f26e832e   20 minutes ago   77.9MB\n"
     ]
    }
   ],
   "source": [
    "!docker images"
   ]
  },
  {
   "cell_type": "code",
   "execution_count": 94,
   "metadata": {},
   "outputs": [
    {
     "name": "stdout",
     "output_type": "stream",
     "text": [
      "CONTAINER ID   IMAGE          COMMAND       CREATED          STATUS                      PORTS     NAMES\n",
      "c7b93c59e75e   fd25f26e832e   \"/bin/bash\"   11 minutes ago   Exited (0) 11 minutes ago             test\n"
     ]
    }
   ],
   "source": [
    "!docker container ls -a"
   ]
  },
  {
   "cell_type": "code",
   "execution_count": 78,
   "metadata": {},
   "outputs": [
    {
     "name": "stdout",
     "output_type": "stream",
     "text": [
      "c7b93c59e75ec8296230249282883cba39054597c703e7e29d96c345753f373e\n"
     ]
    }
   ],
   "source": [
    "!docker run --name test -d fd25f26e832e"
   ]
  },
  {
   "cell_type": "code",
   "execution_count": null,
   "metadata": {},
   "outputs": [],
   "source": []
  }
 ],
 "metadata": {
  "kernelspec": {
   "display_name": "docker",
   "language": "python",
   "name": "python3"
  },
  "language_info": {
   "codemirror_mode": {
    "name": "ipython",
    "version": 3
   },
   "file_extension": ".py",
   "mimetype": "text/x-python",
   "name": "python",
   "nbconvert_exporter": "python",
   "pygments_lexer": "ipython3",
   "version": "3.10.13"
  }
 },
 "nbformat": 4,
 "nbformat_minor": 2
}
