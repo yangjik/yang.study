{
  "nbformat": 4,
  "nbformat_minor": 0,
  "metadata": {
    "colab": {
      "provenance": [],
      "authorship_tag": "ABX9TyPfgymNRYv952rQqb5yxnRZ",
      "include_colab_link": true
    },
    "kernelspec": {
      "name": "python3",
      "display_name": "Python 3"
    },
    "language_info": {
      "name": "python"
    }
  },
  "cells": [
    {
      "cell_type": "markdown",
      "metadata": {
        "id": "view-in-github",
        "colab_type": "text"
      },
      "source": [
        "<a href=\"https://colab.research.google.com/github/yangjik/yang.study/blob/main/01_%EC%9E%90%EB%A3%8C%EA%B5%AC%EC%A1%B0_Stack.ipynb\" target=\"_parent\"><img src=\"https://colab.research.google.com/assets/colab-badge.svg\" alt=\"Open In Colab\"/></a>"
      ]
    },
    {
      "cell_type": "markdown",
      "source": [
        "# 스택\n",
        "\n",
        "- 후입선출(LIFO : Last-In First-Out)\n",
        "- 요소의 삽입과 삭제가 상단에서만 가능한 구조\n",
        "- 스택의 연산\n",
        "  - push() : 새로운 요소 e를 스택의 맨 위에 쌓기\n",
        "  - pop() : 스택의 맨 위에 있는 요소를 꺼내기\n",
        "  - isEmpty() : 스택이 비어 있으면 True, 아니면 False 반환\n",
        "  - isFull() : 스택이 가득 차 있으면 True, 아니면 False 반환\n",
        "  - peek() : 스택의 맨 위에 있는 항목을 삭제하지 않고 반환\n",
        "  - size() : 스택에 들어 있는 전체 요소의 수를 반환"
      ],
      "metadata": {
        "id": "BCa12HbKyGCB"
      }
    },
    {
      "cell_type": "code",
      "execution_count": null,
      "metadata": {
        "id": "DoaO6VnuvgUH"
      },
      "outputs": [],
      "source": []
    },
    {
      "cell_type": "code",
      "source": [],
      "metadata": {
        "id": "zMYC1FoEGbu3"
      },
      "execution_count": null,
      "outputs": []
    },
    {
      "cell_type": "code",
      "source": [],
      "metadata": {
        "id": "adzWzZMvGcJh"
      },
      "execution_count": null,
      "outputs": []
    }
  ]
}