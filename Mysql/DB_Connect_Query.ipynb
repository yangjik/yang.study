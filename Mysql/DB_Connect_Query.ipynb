{
 "cells": [
  {
   "cell_type": "markdown",
   "metadata": {},
   "source": [
    "# Mysql 데이터베이스 연동"
   ]
  },
  {
   "cell_type": "code",
   "execution_count": 1,
   "metadata": {},
   "outputs": [],
   "source": [
    "import pymysql"
   ]
  },
  {
   "cell_type": "code",
   "execution_count": 2,
   "metadata": {},
   "outputs": [],
   "source": [
    "# 데이터 베이스 접속\n",
    "conn = pymysql.connect(\n",
    "    host = 'localhost',         # 서버의 호스트 이름 또는 ip주소\n",
    "    user = 'root',              # mysql 접속시 id\n",
    "    password = '0000',          # password\n",
    "    database = 'movie_db',      # 연결할 데이터베이스\n",
    "    charset = 'utf8'            # 데이터베이스의 문자 세트\n",
    ")"
   ]
  },
  {
   "cell_type": "code",
   "execution_count": 3,
   "metadata": {},
   "outputs": [],
   "source": [
    "# 커서 생성\n",
    "cursor = conn.cursor()"
   ]
  },
  {
   "cell_type": "markdown",
   "metadata": {},
   "source": [
    "## 쿼리문 사용"
   ]
  },
  {
   "cell_type": "markdown",
   "metadata": {},
   "source": [
    "### DROP TABLE - 데이터가 아닌 테이블 삭제!!!!!!!!!!!"
   ]
  },
  {
   "cell_type": "code",
   "execution_count": 4,
   "metadata": {},
   "outputs": [],
   "source": [
    "# 쿼리문 작성 - DROP 테이블\n",
    "# 조건. 현재 학습 중이므로 테이블이 존재하면 삭제후 테이블 생성\n",
    "# 실무에서는 절대 테이블 중요도 보고 삭제\n",
    "query = 'DROP TABLE if exists week_movie;'\n",
    "\n",
    "# 커서이용해서 쿼리 실행\n",
    "cursor.execute(query=query)\n",
    "\n",
    "# 서버에 현재 트랜잭션을 커밋\n",
    "conn.commit()"
   ]
  },
  {
   "cell_type": "markdown",
   "metadata": {},
   "source": [
    "### CREATE TABLE - 테이블 생성"
   ]
  },
  {
   "cell_type": "code",
   "execution_count": 5,
   "metadata": {},
   "outputs": [],
   "source": [
    "# 쿼리문 작성 - CREATE 테이블\n",
    "# 데이터 저장할 테이블 생성 <-- 여기에 PK, NOT NULL, foreign key 등 지정\n",
    "query = 'CREATE TABLE week_movie(showRange VARCHAR(50), ranking INT, rankInten INT, rankOldAndNew VARCHAR(3), movieCd VARCHAR(20) NOT NULL UNIQUE, movieNm VARCHAR(50),openDt DATE,audiCnt INT, audiInten INT, audiAcc INT, scrnCnt INT, showCnt INT);'\n",
    "\n",
    "# 쿼리 실행\n",
    "cursor.execute(query=query)\n",
    "\n",
    "# 서버에 현재 트랜잭션을 커밋\n",
    "conn.commit()"
   ]
  },
  {
   "cell_type": "markdown",
   "metadata": {},
   "source": [
    "### INSERT INTO - 테이블에 데이터 넣기\n",
    "- 사용한 api 사이트 : https://www.kobis.or.kr/kobisopenapi/homepg/apiservice/searchServiceInfo.do"
   ]
  },
  {
   "cell_type": "code",
   "execution_count": 6,
   "metadata": {},
   "outputs": [],
   "source": [
    "import requests\n",
    "import json\n",
    "import movie"
   ]
  },
  {
   "cell_type": "code",
   "execution_count": 7,
   "metadata": {},
   "outputs": [],
   "source": [
    "# 절대 비공개 해야함.\n",
    "key = movie.key\n",
    "\n",
    "# get방식으로 api 호출시 필요한 파라미터 값\n",
    "params = {\n",
    "    'targetDt' : '20231212',\n",
    "    'weekGb' : '0'\n",
    "}\n",
    "# url\n",
    "url_api = f'http://kobis.or.kr/kobisopenapi/webservice/rest/boxoffice/searchWeeklyBoxOfficeList.json?key={key}'"
   ]
  },
  {
   "cell_type": "code",
   "execution_count": 8,
   "metadata": {},
   "outputs": [
    {
     "data": {
      "text/plain": [
       "<Response [200]>"
      ]
     },
     "execution_count": 8,
     "metadata": {},
     "output_type": "execute_result"
    }
   ],
   "source": [
    "# get 방식으로 전송상태 확인\n",
    "response = requests.get(url_api, params=params)\n",
    "response"
   ]
  },
  {
   "cell_type": "code",
   "execution_count": 9,
   "metadata": {},
   "outputs": [
    {
     "data": {
      "text/plain": [
       "'{\"boxOfficeResult\":{\"boxofficeType\":\"주간 박스오피스\",\"showRange\":\"20231211~20231217\",\"yearWeekTime\":\"202350\",\"weeklyBoxOfficeList\":[{\"rnum\":\"1\",\"rank\":\"1\",\"rankInten\":\"0\",\"rankOldAndNew\":\"OLD\",\"movieCd\":\"20212866\",\"movieNm\":\"서울의 봄\",\"openDt\":\"2023-11-22\",\"salesAmt\":\"19298138579\",\"salesShare\":\"70.8\",\"salesInten\":\"-3369142460\",\"salesChange\":\"-14.9\",\"salesAcc\":\"86500588671\",\"audiCnt\":\"1968942\",\"audiInten\":\"-347892\",\"audiChange\":\"-15.0\",\"audiAcc\":\"8940820\",\"scrnCnt\":\"2313\",\"showCnt\":\"56850\"},{\"rnum\":\"2\",\"rank\":\"2\",\"rankInten\":\"0\",\"rankOldAndNew\":\"OLD\",\"movieCd\":\"20190324\",\"movieNm\":\"3일의 휴가\",\"openDt\":\"2023-12-06\",\"salesAmt\":\"1970797079\",\"salesShare\":\"7.2\",\"salesInten\":\"-57998738\",\"salesChange\":\"-2.9\",\"salesAcc\":\"4026993896\",\"audiCnt\":\"209297\",\"audiInten\":\"-4288\",\"audiChange\":\"-2.0\",\"audiAcc\":\"425865\",\"scrnCnt\":\"861\",\"showCnt\":\"13992\"},{\"rnum\":\"3\",\"rank\":\"3\",\"rankInten\":\"4\",\"rankOldAndNew\":\"OLD\",\"movieCd\":\"20234673\",\"movieNm\":\"뽀로로 극장판 슈퍼스타 대모험\",\"openDt\":\"2023-12-13\",\"salesAmt\":\"1098821230\",\"salesShare\":\"4.0\",\"salesInten\":\"758490862\",\"salesChange\":\"222.9\",\"salesAcc\":\"1443183598\",\"audiCnt\":\"123434\",\"audiInten\":\"87751\",\"audiChange\":\"245.9\",\"audiAcc\":\"159693\",\"scrnCnt\":\"850\",\"showCnt\":\"5414\"},{\"rnum\":\"4\",\"rank\":\"4\",\"rankInten\":\"1\",\"rankOldAndNew\":\"OLD\",\"movieCd\":\"20234114\",\"movieNm\":\"괴물\",\"openDt\":\"2023-11-29\",\"salesAmt\":\"830312337\",\"salesShare\":\"3.0\",\"salesInten\":\"-15773528\",\"salesChange\":\"-1.9\",\"salesAcc\":\"2778565838\",\"audiCnt\":\"84258\",\"audiInten\":\"-2286\",\"audiChange\":\"-2.6\",\"audiAcc\":\"288601\",\"scrnCnt\":\"433\",\"showCnt\":\"4155\"},{\"rnum\":\"5\",\"rank\":\"5\",\"rankInten\":\"-2\",\"rankOldAndNew\":\"OLD\",\"movieCd\":\"20235098\",\"movieNm\":\"나폴레옹\",\"openDt\":\"2023-12-06\",\"salesAmt\":\"653095890\",\"salesShare\":\"2.4\",\"salesInten\":\"-700654588\",\"salesChange\":\"-51.8\",\"salesAcc\":\"2089583868\",\"audiCnt\":\"68524\",\"audiInten\":\"-65865\",\"audiChange\":\"-49.0\",\"audiAcc\":\"208100\",\"scrnCnt\":\"731\",\"showCnt\":\"6839\"},{\"rnum\":\"6\",\"rank\":\"6\",\"rankInten\":\"29\",\"rankOldAndNew\":\"OLD\",\"movieCd\":\"20235698\",\"movieNm\":\"쏘우 X\",\"openDt\":\"2023-12-13\",\"salesAmt\":\"507752177\",\"salesShare\":\"1.9\",\"salesInten\":\"491580177\",\"salesChange\":\"3039.7\",\"salesAcc\":\"524330177\",\"audiCnt\":\"48635\",\"audiInten\":\"47010\",\"audiChange\":\"2892.9\",\"audiAcc\":\"50318\",\"scrnCnt\":\"571\",\"showCnt\":\"5251\"},{\"rnum\":\"7\",\"rank\":\"7\",\"rankInten\":\"-3\",\"rankOldAndNew\":\"OLD\",\"movieCd\":\"20202247\",\"movieNm\":\"싱글 인 서울\",\"openDt\":\"2023-11-29\",\"salesAmt\":\"436318870\",\"salesShare\":\"1.6\",\"salesInten\":\"-604940485\",\"salesChange\":\"-58.1\",\"salesAcc\":\"3569191206\",\"audiCnt\":\"46107\",\"audiInten\":\"-63528\",\"audiChange\":\"-57.9\",\"audiAcc\":\"381205\",\"scrnCnt\":\"646\",\"showCnt\":\"5012\"},{\"rnum\":\"8\",\"rank\":\"8\",\"rankInten\":\"23\",\"rankOldAndNew\":\"OLD\",\"movieCd\":\"20235980\",\"movieNm\":\"말하고 싶은 비밀\",\"openDt\":\"2023-12-13\",\"salesAmt\":\"424411290\",\"salesShare\":\"1.6\",\"salesInten\":\"407642290\",\"salesChange\":\"2430.9\",\"salesAcc\":\"441180290\",\"audiCnt\":\"43869\",\"audiInten\":\"42042\",\"audiChange\":\"2301.1\",\"audiAcc\":\"45696\",\"scrnCnt\":\"401\",\"showCnt\":\"3158\"},{\"rnum\":\"9\",\"rank\":\"9\",\"rankInten\":\"0\",\"rankOldAndNew\":\"NEW\",\"movieCd\":\"20203702\",\"movieNm\":\"노량: 죽음의 바다\",\"openDt\":\"2023-12-20\",\"salesAmt\":\"274591010\",\"salesShare\":\"1.0\",\"salesInten\":\"274591010\",\"salesChange\":\"100.0\",\"salesAcc\":\"274591010\",\"audiCnt\":\"27503\",\"audiInten\":\"27503\",\"audiChange\":\"100.0\",\"audiAcc\":\"27503\",\"scrnCnt\":\"27\",\"showCnt\":\"134\"},{\"rnum\":\"10\",\"rank\":\"10\",\"rankInten\":\"-4\",\"rankOldAndNew\":\"OLD\",\"movieCd\":\"20235030\",\"movieNm\":\"프레디의 피자가게\",\"openDt\":\"2023-11-15\",\"salesAmt\":\"194003731\",\"salesShare\":\"0.7\",\"salesInten\":\"-189560788\",\"salesChange\":\"-49.4\",\"salesAcc\":\"6934650101\",\"audiCnt\":\"19251\",\"audiInten\":\"-19172\",\"audiChange\":\"-49.9\",\"audiAcc\":\"709645\",\"scrnCnt\":\"230\",\"showCnt\":\"1286\"}]}}'"
      ]
     },
     "execution_count": 9,
     "metadata": {},
     "output_type": "execute_result"
    }
   ],
   "source": [
    "# 나온 결과 json 형태로 받기때문에 데이터 \n",
    "json_data = response.content.decode(encoding='utf-8')\n",
    "json_data"
   ]
  },
  {
   "cell_type": "code",
   "execution_count": 10,
   "metadata": {},
   "outputs": [],
   "source": [
    "movie_list = json.loads(json_data)\n",
    "# movie_list"
   ]
  },
  {
   "cell_type": "code",
   "execution_count": 11,
   "metadata": {},
   "outputs": [
    {
     "data": {
      "text/plain": [
       "{'rnum': '1',\n",
       " 'rank': '1',\n",
       " 'rankInten': '0',\n",
       " 'rankOldAndNew': 'OLD',\n",
       " 'movieCd': '20212866',\n",
       " 'movieNm': '서울의 봄',\n",
       " 'openDt': '2023-11-22',\n",
       " 'salesAmt': '19298138579',\n",
       " 'salesShare': '70.8',\n",
       " 'salesInten': '-3369142460',\n",
       " 'salesChange': '-14.9',\n",
       " 'salesAcc': '86500588671',\n",
       " 'audiCnt': '1968942',\n",
       " 'audiInten': '-347892',\n",
       " 'audiChange': '-15.0',\n",
       " 'audiAcc': '8940820',\n",
       " 'scrnCnt': '2313',\n",
       " 'showCnt': '56850'}"
      ]
     },
     "execution_count": 11,
     "metadata": {},
     "output_type": "execute_result"
    }
   ],
   "source": [
    "movie_list['boxOfficeResult']['weeklyBoxOfficeList'][0]"
   ]
  },
  {
   "cell_type": "code",
   "execution_count": 12,
   "metadata": {},
   "outputs": [
    {
     "data": {
      "text/plain": [
       "10"
      ]
     },
     "execution_count": 12,
     "metadata": {},
     "output_type": "execute_result"
    }
   ],
   "source": [
    "# 데이터 총 개수 확인\n",
    "len(movie_list['boxOfficeResult']['weeklyBoxOfficeList'])"
   ]
  },
  {
   "cell_type": "code",
   "execution_count": 13,
   "metadata": {},
   "outputs": [
    {
     "name": "stdout",
     "output_type": "stream",
     "text": [
      "INSERT INTO week_movie VALUES ('20231211~20231217', '1', '0', 'OLD', '20212866', '서울의 봄', '2023-11-22', '1968942', '-347892', '8940820', '2313', '56850'); 저장 완료\n",
      "INSERT INTO week_movie VALUES ('20231211~20231217', '2', '0', 'OLD', '20190324', '3일의 휴가', '2023-12-06', '209297', '-4288', '425865', '861', '13992'); 저장 완료\n",
      "INSERT INTO week_movie VALUES ('20231211~20231217', '3', '4', 'OLD', '20234673', '뽀로로 극장판 슈퍼스타 대모험', '2023-12-13', '123434', '87751', '159693', '850', '5414'); 저장 완료\n",
      "INSERT INTO week_movie VALUES ('20231211~20231217', '4', '1', 'OLD', '20234114', '괴물', '2023-11-29', '84258', '-2286', '288601', '433', '4155'); 저장 완료\n",
      "INSERT INTO week_movie VALUES ('20231211~20231217', '5', '-2', 'OLD', '20235098', '나폴레옹', '2023-12-06', '68524', '-65865', '208100', '731', '6839'); 저장 완료\n",
      "INSERT INTO week_movie VALUES ('20231211~20231217', '6', '29', 'OLD', '20235698', '쏘우 X', '2023-12-13', '48635', '47010', '50318', '571', '5251'); 저장 완료\n",
      "INSERT INTO week_movie VALUES ('20231211~20231217', '7', '-3', 'OLD', '20202247', '싱글 인 서울', '2023-11-29', '46107', '-63528', '381205', '646', '5012'); 저장 완료\n",
      "INSERT INTO week_movie VALUES ('20231211~20231217', '8', '23', 'OLD', '20235980', '말하고 싶은 비밀', '2023-12-13', '43869', '42042', '45696', '401', '3158'); 저장 완료\n",
      "INSERT INTO week_movie VALUES ('20231211~20231217', '9', '0', 'NEW', '20203702', '노량: 죽음의 바다', '2023-12-20', '27503', '27503', '27503', '27', '134'); 저장 완료\n",
      "INSERT INTO week_movie VALUES ('20231211~20231217', '10', '-4', 'OLD', '20235030', '프레디의 피자가게', '2023-11-15', '19251', '-19172', '709645', '230', '1286'); 저장 완료\n"
     ]
    }
   ],
   "source": [
    "# 위에서 얻은 데이터로 INSERT INTO 바로 실행\n",
    "version = 1\n",
    "\n",
    "showRange = movie_list['boxOfficeResult']['showRange']\n",
    "\n",
    "for _ in range(0, len(movie_list['boxOfficeResult']['weeklyBoxOfficeList'])):\n",
    "    ranking = movie_list['boxOfficeResult']['weeklyBoxOfficeList'][_]['rank']\n",
    "    rankInten = movie_list['boxOfficeResult']['weeklyBoxOfficeList'][_]['rankInten']\n",
    "    rankOldAndNew = movie_list['boxOfficeResult']['weeklyBoxOfficeList'][_]['rankOldAndNew']\n",
    "    movieCd = movie_list['boxOfficeResult']['weeklyBoxOfficeList'][_]['movieCd']\n",
    "    movieNm = movie_list['boxOfficeResult']['weeklyBoxOfficeList'][_]['movieNm']\n",
    "    openDt = movie_list['boxOfficeResult']['weeklyBoxOfficeList'][_]['openDt']\n",
    "    audiCnt = movie_list['boxOfficeResult']['weeklyBoxOfficeList'][_]['audiCnt']\n",
    "    audiInten = movie_list['boxOfficeResult']['weeklyBoxOfficeList'][_]['audiInten']\n",
    "    audiAcc = movie_list['boxOfficeResult']['weeklyBoxOfficeList'][_]['audiAcc']\n",
    "    scrnCnt = movie_list['boxOfficeResult']['weeklyBoxOfficeList'][_]['scrnCnt']\n",
    "    showCnt = movie_list['boxOfficeResult']['weeklyBoxOfficeList'][_]['showCnt']\n",
    "\n",
    "    if version == 1:\n",
    "        # 버전1. INSERT INTO 테이블 컬럼지정X VALUES(컬럼 순서대로 데이터)\n",
    "        data = [showRange, ranking, rankInten, rankOldAndNew, movieCd, movieNm, openDt, audiCnt, audiInten, audiAcc, scrnCnt, showCnt]\n",
    "        query = f'INSERT INTO week_movie VALUES ({data});'.replace('[', '').replace(']', '')\n",
    "        \n",
    "        # 쿼리 실행\n",
    "        cursor.execute(query=query)\n",
    "        print(query, '저장 완료')\n",
    "        # 서버에 현재 트랜잭션을 커밋\n",
    "        conn.commit()\n",
    "\n",
    "    elif version == 2:\n",
    "        # 버전2. INSERT INTO 테이블 (컬럼지정) VALUES(컬럼 == 데이터)\n",
    "        data = [showRange, ranking, rankInten, rankOldAndNew, movieCd, movieNm, openDt, audiCnt, audiInten, audiAcc, scrnCnt, showCnt]\n",
    "        query = f'INSERT INTO week_movie (showRange, ranking, rankInten, rankOldAndNew, movieCd, movieNm, openDt, audiCnt, audiInten, audiAcc, scrnCnt, showCnt) VALUES ({data});'.replace('[', '').replace(']', '')\n",
    "\n",
    "        # 쿼리 실행\n",
    "        cursor.execute(query=query)\n",
    "        print(query, '저장 완료')\n",
    "\n",
    "        # 서버에 현재 트랜잭션을 커밋\n",
    "        conn.commit()\n"
   ]
  },
  {
   "cell_type": "markdown",
   "metadata": {},
   "source": [
    "### UPDATE TABLE - 데이터 수정"
   ]
  },
  {
   "cell_type": "code",
   "execution_count": 14,
   "metadata": {},
   "outputs": [
    {
     "name": "stdout",
     "output_type": "stream",
     "text": [
      "UPDATE week_movie SET rankOldAndNew=\"신규\" WHERE rankOldAndNew=\"NEW\"; 수정 완료\n"
     ]
    }
   ],
   "source": [
    "query = 'UPDATE week_movie SET rankOldAndNew=\"신규\" WHERE rankOldAndNew=\"NEW\";'\n",
    "\n",
    "cursor.execute(query=query)\n",
    "print(query, '수정 완료')\n",
    "\n",
    "# 서버에 현재 트랜잭션을 커밋\n",
    "conn.commit()"
   ]
  },
  {
   "cell_type": "markdown",
   "metadata": {},
   "source": [
    "### DELETE FROM 테이블 - 테이블의 행 삭제 OR 테이블 데이터 전체삭제"
   ]
  },
  {
   "cell_type": "code",
   "execution_count": 15,
   "metadata": {},
   "outputs": [
    {
     "name": "stdout",
     "output_type": "stream",
     "text": [
      "DELETE FROM week_movie WHERE rankOldAndNew=\"신규\"; 데이터 삭제\n"
     ]
    }
   ],
   "source": [
    "version = 1\n",
    "\n",
    "if version == 1:\n",
    "    # 테이블의 행삭제\n",
    "    query = 'DELETE FROM week_movie WHERE rankOldAndNew=\"신규\";'\n",
    "\n",
    "    cursor.execute(query=query)\n",
    "    print(query, '데이터 삭제')\n",
    "\n",
    "    # 서버에 현재 트랜잭션을 커밋\n",
    "    conn.commit()\n",
    "    \n",
    "elif version == 2:\n",
    "    # 테이블의 전체 데이터 삭제\n",
    "    query = 'DELETE FROM week_movie;'\n",
    "\n",
    "    cursor.execute(query=query)\n",
    "    print(query, '테이블 전체 데이터 삭제')\n",
    "\n",
    "    # 서버에 현재 트랜잭션을 커밋\n",
    "    conn.commit()\n"
   ]
  },
  {
   "cell_type": "markdown",
   "metadata": {},
   "source": [
    "### SELECT문 - 테이블 조회"
   ]
  },
  {
   "cell_type": "code",
   "execution_count": 19,
   "metadata": {},
   "outputs": [
    {
     "name": "stdout",
     "output_type": "stream",
     "text": [
      "('20231211~20231217', 2, 0, 'OLD', '20190324', '3일의 휴가', datetime.date(2023, 12, 6), 209297, -4288, 425865, 861, 13992)\n",
      "('20231211~20231217', 7, -3, 'OLD', '20202247', '싱글 인 서울', datetime.date(2023, 11, 29), 46107, -63528, 381205, 646, 5012)\n",
      "('20231211~20231217', 1, 0, 'OLD', '20212866', '서울의 봄', datetime.date(2023, 11, 22), 1968942, -347892, 8940820, 2313, 56850)\n",
      "('20231211~20231217', 4, 1, 'OLD', '20234114', '괴물', datetime.date(2023, 11, 29), 84258, -2286, 288601, 433, 4155)\n",
      "('20231211~20231217', 3, 4, 'OLD', '20234673', '뽀로로 극장판 슈퍼스타 대모험', datetime.date(2023, 12, 13), 123434, 87751, 159693, 850, 5414)\n",
      "('20231211~20231217', 10, -4, 'OLD', '20235030', '프레디의 피자가게', datetime.date(2023, 11, 15), 19251, -19172, 709645, 230, 1286)\n",
      "('20231211~20231217', 5, -2, 'OLD', '20235098', '나폴레옹', datetime.date(2023, 12, 6), 68524, -65865, 208100, 731, 6839)\n",
      "('20231211~20231217', 6, 29, 'OLD', '20235698', '쏘우 X', datetime.date(2023, 12, 13), 48635, 47010, 50318, 571, 5251)\n",
      "('20231211~20231217', 8, 23, 'OLD', '20235980', '말하고 싶은 비밀', datetime.date(2023, 12, 13), 43869, 42042, 45696, 401, 3158)\n"
     ]
    }
   ],
   "source": [
    "query = 'SELECT * FROM week_movie;'\n",
    "\n",
    "cursor.execute(query=query)\n",
    "\n",
    "# fetchall() : 지정 테이블 안의 모든 데이터 추출\n",
    "data = cursor.fetchall()\n",
    "\n",
    "for _ in data:\n",
    "    print(_)"
   ]
  },
  {
   "cell_type": "code",
   "execution_count": null,
   "metadata": {},
   "outputs": [],
   "source": []
  }
 ],
 "metadata": {
  "kernelspec": {
   "display_name": "study",
   "language": "python",
   "name": "python3"
  },
  "language_info": {
   "codemirror_mode": {
    "name": "ipython",
    "version": 3
   },
   "file_extension": ".py",
   "mimetype": "text/x-python",
   "name": "python",
   "nbconvert_exporter": "python",
   "pygments_lexer": "ipython3",
   "version": "3.10.13"
  }
 },
 "nbformat": 4,
 "nbformat_minor": 2
}
