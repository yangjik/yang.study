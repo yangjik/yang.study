{
  "nbformat": 4,
  "nbformat_minor": 0,
  "metadata": {
    "colab": {
      "provenance": [],
      "authorship_tag": "ABX9TyM+ah3I+16tur3b1TTWy+7U",
      "include_colab_link": true
    },
    "kernelspec": {
      "name": "python3",
      "display_name": "Python 3"
    },
    "language_info": {
      "name": "python"
    }
  },
  "cells": [
    {
      "cell_type": "markdown",
      "metadata": {
        "id": "view-in-github",
        "colab_type": "text"
      },
      "source": [
        "<a href=\"https://colab.research.google.com/github/yangjik/yang.study/blob/main/02_%EC%9E%90%EB%A3%8C%EA%B5%AC%EC%A1%B0_Queue.ipynb\" target=\"_parent\"><img src=\"https://colab.research.google.com/assets/colab-badge.svg\" alt=\"Open In Colab\"/></a>"
      ]
    },
    {
      "cell_type": "markdown",
      "source": [
        "# Queue(큐)\n",
        "\n",
        "- 선입선출(FIFO : First-In First-Out)\n",
        "- 요소의 삽입과 삭제 연산이 같은 쪽이 아니라 서로 다른쪽에서 일어난다.(스택, 큐의 차이점)\n",
        "- 큐의 연산\n",
        "  - enqueue(e) : 새로운 요소 e를 큐의 맨 뒤에 추가\n",
        "  - dequeue() : 큐의 맨 앞에 있는 요소를 꺼내서 반환\n",
        "  - isEmpty() : 큐가 비어 있으면 True, 아니면 False\n",
        "  - isFull() : 큐가 가득 차 있으면 True, 아니면 False\n",
        "  - peek() : 큐의 맨 앞에 있는 요소를 삭제하지 않고 반환\n",
        "  - size() : 큐에 들어 있는 전체 요소의 수를 반환"
      ],
      "metadata": {
        "id": "xoVFBDlDs3mM"
      }
    },
    {
      "cell_type": "markdown",
      "source": [
        "### 연산을 실행하는데 Overflow / Underflow\n",
        "\n",
        "- Overflow : 큐의 공간이 5라고 가정하고 가득차있는 큐에 새로운 요소를 넣으면 공간이 없기 때문에 overflow 오류 발생!!!\n",
        "\n",
        "- Underflow : 큐의 공간이 5라고 가정하고 비어있는 경우 요소를 추출 하려고 하면 값이 없기 때문에 underflow 오류 발생!!!"
      ],
      "metadata": {
        "id": "8UPQCU5zuzkf"
      }
    },
    {
      "cell_type": "markdown",
      "source": [
        "### 배열로 구현하는 큐\n",
        "\n",
        "- 선형 Queue : 스택처럼 막대로 되어있어서 동작을 이해하기는 쉽지만 요소들의 이동이 필요하므로 비효율적\n",
        "\n",
        "- 원형 Queue : 인덱스 front(인덱스 시작점 앞), rear(인덱스 마지막) 를 원형으로 회전시키는 방법."
      ],
      "metadata": {
        "id": "kyWY1vMDvW2e"
      }
    },
    {
      "cell_type": "code",
      "execution_count": null,
      "metadata": {
        "id": "QSFkImL8svHC"
      },
      "outputs": [],
      "source": [
        "# 원형 큐\n",
        "class circle_queue:\n",
        "  def __init__(self, capacity = 10):    # 생성자 정의 기본 크기는 10\n",
        "    self.capacity = capacity            # 큐의 크기\n",
        "    self.array = [None] * capacity      # 요소들 저장할 배열\n",
        "    self.front = 0                      # 시작 인덱스\n",
        "    self.rear = 0                       # 마지막 인덱스\n",
        "\n",
        "  # 원형 큐 연산 - isEmpty\n",
        "  # 공백 상태일때 front == rear 인 경우\n",
        "  def isEmpty(self) :\n",
        "    return self.front == self.rear\n",
        "\n",
        "  # 원형 큐 연산 - isFull\n",
        "  # front가 rear 바로 다음에 있으면 포화 상태\n",
        "  def isFull(self) :\n",
        "    return self.front == (self.rear + 1) % self.capacity\n",
        "\n",
        "  # 원형 큐 연산 - enqueue(e)\n",
        "  # 먼저 rear를 시계방향으로 한칸 회전, 그 위치에 새로운 요소 e를 복사\n",
        "  # 포화 상태 X\n",
        "  def enqueue(self, item):\n",
        "    if not self.isFull():\n",
        "      self.rear = (self.rear + 1) % self.capacity\n",
        "      self.array[self.rear] = item\n",
        "    else :\n",
        "      pass    # 오버플로우 오류일때\n",
        "\n",
        "  # 원형 큐 연산 - dequeue()\n",
        "  # 먼저 front를 시계방향으로 한칸 회전, 그 위치에 새로운 요소를 반환\n",
        "  # 큐에 요소가 남아있어야함.\n",
        "  def dequeue(self) :\n",
        "    if not self.isEmpty():\n",
        "      self.front = (self.front + 1) % self.capacity\n",
        "      return self.array[self.front]\n",
        "    else:\n",
        "      pass    # 언더플로우 오류일때\n",
        "\n",
        "  # 원형 큐 연산 - peek\n",
        "  # front를 시계 방향으로 한칸 회전시킨 위치의 요소를 반환\n",
        "  # 이때 front 자체를 변경하지 않는게 포인트\n",
        "  def peek (self) :\n",
        "    if not self.isEmpty():\n",
        "      return self.array[(self.front + 1) % self.capacity ]\n",
        "    else:\n",
        "      pass      # 언더플로 오류일때\n",
        "\n",
        "  # 원형 큐 연산 - size\n",
        "  def size(self) :\n",
        "    return (self.rear - self.front + self.capacity) % self.capacity"
      ]
    },
    {
      "cell_type": "code",
      "source": [],
      "metadata": {
        "id": "KHRB8jDNxToc"
      },
      "execution_count": null,
      "outputs": []
    },
    {
      "cell_type": "code",
      "source": [],
      "metadata": {
        "id": "4_oBBxhzxTmf"
      },
      "execution_count": null,
      "outputs": []
    },
    {
      "cell_type": "code",
      "source": [],
      "metadata": {
        "id": "1k4AUMT6xQEv"
      },
      "execution_count": null,
      "outputs": []
    }
  ]
}