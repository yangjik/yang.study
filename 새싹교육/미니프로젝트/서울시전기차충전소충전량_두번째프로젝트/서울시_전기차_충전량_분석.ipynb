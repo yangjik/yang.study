{
 "cells": [
  {
   "cell_type": "markdown",
   "metadata": {
    "id": "2bXnL_VD3D8O"
   },
   "source": [
    "# 데이터 출처 - 공공데이터포털\n",
    "\n",
    "- 한국전력공사_서울시 전기차 충전소 충전량\n",
    "- https://www.data.go.kr/data/15100212/fileData.do\n",
    "- 2021.1.1-2022.3.31 기간의 서울시에 위치하고 있는 한국전력공사의 전기차 충전소의 충전량을 제공합니다.\n",
    "- 데이터 사이즈가 큰 관계로 21년도 데이터만 사용합니다.<br>참고 : https://colab.research.google.com/drive/1EkpAURXDs5mpLRpIVtlImUayJBgiOPiX#scrollTo=KZYY5LGUIQ1Q&uniqifier=1"
   ]
  },
  {
   "cell_type": "markdown",
   "metadata": {
    "id": "9-xo85053F-X"
   },
   "source": [
    "###분석 목표\n",
    "\n",
    "- 서울시 자치구별 전기차 충전소 충전량 분석\n",
    "-"
   ]
  },
  {
   "cell_type": "markdown",
   "metadata": {
    "id": "uUjmePvm7HGm"
   },
   "source": [
    "### 기본설정"
   ]
  },
  {
   "cell_type": "code",
   "execution_count": null,
   "metadata": {
    "colab": {
     "base_uri": "https://localhost:8080/"
    },
    "executionInfo": {
     "elapsed": 98533,
     "status": "ok",
     "timestamp": 1698238338513,
     "user": {
      "displayName": "양윤직",
      "userId": "04353150235659315219"
     },
     "user_tz": -540
    },
    "id": "I59FbdJ23DPx",
    "outputId": "a09af8f6-74ec-474d-8a5d-4eb5db498848"
   },
   "outputs": [],
   "source": [
    "# 구글마운트\n",
    "from google.colab import drive\n",
    "drive.mount('/content/drive')\n",
    "\n",
    "# 한글폰트\n",
    "sudo apt-get install -y fonts-nanum\n",
    "!sudo fc-cache -fv\n",
    "!rm ~/.cache/matplotlib -rf"
   ]
  },
  {
   "cell_type": "code",
   "execution_count": 45,
   "metadata": {},
   "outputs": [],
   "source": [
    "# 주피터에서 실행하는 한글패치\n",
    "# 단점 매번 실행 시켜야됨...\n",
    "\n",
    "import matplotlib.pyplot as plt\n",
    "# %matplotlib inline\n",
    "\n",
    "from matplotlib import font_manager, rc\n",
    "\n",
    "f_path = 'c:/Windows/Fonts/malgun.ttf'\n",
    "font_name = font_manager.FontProperties(fname=f_path).get_name()\n",
    "rc('font', family=font_name)"
   ]
  },
  {
   "cell_type": "code",
   "execution_count": null,
   "metadata": {
    "executionInfo": {
     "elapsed": 345,
     "status": "ok",
     "timestamp": 1698238873438,
     "user": {
      "displayName": "양윤직",
      "userId": "04353150235659315219"
     },
     "user_tz": -540
    },
    "id": "CCRFGRIZ3DOA"
   },
   "outputs": [],
   "source": [
    "import matplotlib.pyplot as plt\n",
    "\n",
    "plt.rc('font', family='NanumBarunGothic')"
   ]
  },
  {
   "cell_type": "markdown",
   "metadata": {
    "id": "F5AclcjK7JnP"
   },
   "source": [
    "### 데이터 불러오기 및 데이터 확인"
   ]
  },
  {
   "cell_type": "code",
   "execution_count": 25,
   "metadata": {
    "executionInfo": {
     "elapsed": 5148,
     "status": "ok",
     "timestamp": 1698238879045,
     "user": {
      "displayName": "양윤직",
      "userId": "04353150235659315219"
     },
     "user_tz": -540
    },
    "id": "Fo2ImdJD3DL4"
   },
   "outputs": [],
   "source": [
    "# 패키지 설정\n",
    "import pandas as pd\n",
    "import numpy as np\n",
    "import matplotlib.pyplot as plt\n",
    "import seaborn as sns"
   ]
  },
  {
   "cell_type": "code",
   "execution_count": 26,
   "metadata": {
    "executionInfo": {
     "elapsed": 4629,
     "status": "ok",
     "timestamp": 1698238883663,
     "user": {
      "displayName": "양윤직",
      "userId": "04353150235659315219"
     },
     "user_tz": -540
    },
    "id": "cD7bTpTD3DJ3"
   },
   "outputs": [],
   "source": [
    "# file_path = '/content/drive/MyDrive/새싹교육/미니프로젝트/서울시 전기차 충전소 충전량/21년도_서울시_전기차_충전소.csv'\n",
    "\n",
    "# 주피터에서 실행할시\n",
    "file_path = './21년도_서울시_전기차_충전소.csv'\n",
    "df = pd.read_csv(file_path)"
   ]
  },
  {
   "cell_type": "code",
   "execution_count": 27,
   "metadata": {
    "colab": {
     "base_uri": "https://localhost:8080/",
     "height": 390
    },
    "executionInfo": {
     "elapsed": 19,
     "status": "ok",
     "timestamp": 1698238883664,
     "user": {
      "displayName": "양윤직",
      "userId": "04353150235659315219"
     },
     "user_tz": -540
    },
    "id": "wVdyySmU3DHp",
    "outputId": "a654c1fe-f4ba-4e72-bed5-626d54fa0b53"
   },
   "outputs": [
    {
     "data": {
      "text/html": [
       "<div>\n",
       "<style scoped>\n",
       "    .dataframe tbody tr th:only-of-type {\n",
       "        vertical-align: middle;\n",
       "    }\n",
       "\n",
       "    .dataframe tbody tr th {\n",
       "        vertical-align: top;\n",
       "    }\n",
       "\n",
       "    .dataframe thead th {\n",
       "        text-align: right;\n",
       "    }\n",
       "</style>\n",
       "<table border=\"1\" class=\"dataframe\">\n",
       "  <thead>\n",
       "    <tr style=\"text-align: right;\">\n",
       "      <th></th>\n",
       "      <th>Unnamed: 0</th>\n",
       "      <th>충전구분</th>\n",
       "      <th>충전소명</th>\n",
       "      <th>주소</th>\n",
       "      <th>충전기용량</th>\n",
       "      <th>충전량</th>\n",
       "      <th>충전시간</th>\n",
       "      <th>충전분</th>\n",
       "      <th>충전시작시각</th>\n",
       "      <th>충전종료시각</th>\n",
       "      <th>시작_연도</th>\n",
       "      <th>시작_월</th>\n",
       "      <th>시작_일</th>\n",
       "      <th>시작_시</th>\n",
       "      <th>시작_분</th>\n",
       "      <th>종료_연도</th>\n",
       "      <th>종료_월</th>\n",
       "      <th>종료_일</th>\n",
       "      <th>종료_시</th>\n",
       "      <th>종료_분</th>\n",
       "    </tr>\n",
       "  </thead>\n",
       "  <tbody>\n",
       "    <tr>\n",
       "      <th>0</th>\n",
       "      <td>0</td>\n",
       "      <td>급속</td>\n",
       "      <td>영등포전력지사</td>\n",
       "      <td>서울특별시 영등포구 경인로 878</td>\n",
       "      <td>50</td>\n",
       "      <td>0.05</td>\n",
       "      <td>0</td>\n",
       "      <td>0</td>\n",
       "      <td>2021-01-01 02:06:20</td>\n",
       "      <td>2021-01-01 02:06:36</td>\n",
       "      <td>2021</td>\n",
       "      <td>1</td>\n",
       "      <td>1</td>\n",
       "      <td>2</td>\n",
       "      <td>6</td>\n",
       "      <td>2021</td>\n",
       "      <td>1</td>\n",
       "      <td>1</td>\n",
       "      <td>2</td>\n",
       "      <td>6</td>\n",
       "    </tr>\n",
       "    <tr>\n",
       "      <th>1</th>\n",
       "      <td>1</td>\n",
       "      <td>급속</td>\n",
       "      <td>영등포전력지사</td>\n",
       "      <td>서울특별시 영등포구 경인로 878</td>\n",
       "      <td>50</td>\n",
       "      <td>13.10</td>\n",
       "      <td>0</td>\n",
       "      <td>29</td>\n",
       "      <td>2021-01-02 14:58:37</td>\n",
       "      <td>2021-01-02 15:28:25</td>\n",
       "      <td>2021</td>\n",
       "      <td>1</td>\n",
       "      <td>2</td>\n",
       "      <td>14</td>\n",
       "      <td>58</td>\n",
       "      <td>2021</td>\n",
       "      <td>1</td>\n",
       "      <td>2</td>\n",
       "      <td>15</td>\n",
       "      <td>28</td>\n",
       "    </tr>\n",
       "  </tbody>\n",
       "</table>\n",
       "</div>"
      ],
      "text/plain": [
       "   Unnamed: 0 충전구분     충전소명                  주소  충전기용량    충전량  충전시간  충전분  \\\n",
       "0           0   급속  영등포전력지사  서울특별시 영등포구 경인로 878     50   0.05     0    0   \n",
       "1           1   급속  영등포전력지사  서울특별시 영등포구 경인로 878     50  13.10     0   29   \n",
       "\n",
       "                충전시작시각               충전종료시각  시작_연도  시작_월  시작_일  시작_시  시작_분  \\\n",
       "0  2021-01-01 02:06:20  2021-01-01 02:06:36   2021     1     1     2     6   \n",
       "1  2021-01-02 14:58:37  2021-01-02 15:28:25   2021     1     2    14    58   \n",
       "\n",
       "   종료_연도  종료_월  종료_일  종료_시  종료_분  \n",
       "0   2021     1     1     2     6  \n",
       "1   2021     1     2    15    28  "
      ]
     },
     "execution_count": 27,
     "metadata": {},
     "output_type": "execute_result"
    }
   ],
   "source": [
    "df.head(2)"
   ]
  },
  {
   "cell_type": "code",
   "execution_count": 28,
   "metadata": {
    "colab": {
     "base_uri": "https://localhost:8080/"
    },
    "executionInfo": {
     "elapsed": 7,
     "status": "ok",
     "timestamp": 1698238883664,
     "user": {
      "displayName": "양윤직",
      "userId": "04353150235659315219"
     },
     "user_tz": -540
    },
    "id": "AFipKtgS3Clv",
    "outputId": "514d39ed-a67f-479e-f14f-dae8a6df14dc"
   },
   "outputs": [
    {
     "data": {
      "text/plain": [
       "(487703, 20)"
      ]
     },
     "execution_count": 28,
     "metadata": {},
     "output_type": "execute_result"
    }
   ],
   "source": [
    "# col, row 개수 확인\n",
    "df.shape"
   ]
  },
  {
   "cell_type": "code",
   "execution_count": 29,
   "metadata": {
    "colab": {
     "base_uri": "https://localhost:8080/"
    },
    "executionInfo": {
     "elapsed": 1297,
     "status": "ok",
     "timestamp": 1698238884956,
     "user": {
      "displayName": "양윤직",
      "userId": "04353150235659315219"
     },
     "user_tz": -540
    },
    "id": "_vPNcCg430PH",
    "outputId": "fa248609-383a-40c4-b95f-07a729287821"
   },
   "outputs": [
    {
     "name": "stdout",
     "output_type": "stream",
     "text": [
      "<class 'pandas.core.frame.DataFrame'>\n",
      "RangeIndex: 487703 entries, 0 to 487702\n",
      "Data columns (total 20 columns):\n",
      " #   Column      Non-Null Count   Dtype  \n",
      "---  ------      --------------   -----  \n",
      " 0   Unnamed: 0  487703 non-null  int64  \n",
      " 1   충전구분        487703 non-null  object \n",
      " 2   충전소명        487703 non-null  object \n",
      " 3   주소          487703 non-null  object \n",
      " 4   충전기용량       487703 non-null  int64  \n",
      " 5   충전량         487703 non-null  float64\n",
      " 6   충전시간        487703 non-null  int64  \n",
      " 7   충전분         487703 non-null  int64  \n",
      " 8   충전시작시각      487703 non-null  object \n",
      " 9   충전종료시각      487703 non-null  object \n",
      " 10  시작_연도       487703 non-null  int64  \n",
      " 11  시작_월        487703 non-null  int64  \n",
      " 12  시작_일        487703 non-null  int64  \n",
      " 13  시작_시        487703 non-null  int64  \n",
      " 14  시작_분        487703 non-null  int64  \n",
      " 15  종료_연도       487703 non-null  int64  \n",
      " 16  종료_월        487703 non-null  int64  \n",
      " 17  종료_일        487703 non-null  int64  \n",
      " 18  종료_시        487703 non-null  int64  \n",
      " 19  종료_분        487703 non-null  int64  \n",
      "dtypes: float64(1), int64(14), object(5)\n",
      "memory usage: 74.4+ MB\n"
     ]
    }
   ],
   "source": [
    "# 데이터 정보확인\n",
    "df.info()"
   ]
  },
  {
   "cell_type": "code",
   "execution_count": 30,
   "metadata": {
    "colab": {
     "base_uri": "https://localhost:8080/"
    },
    "executionInfo": {
     "elapsed": 622,
     "status": "ok",
     "timestamp": 1698238885576,
     "user": {
      "displayName": "양윤직",
      "userId": "04353150235659315219"
     },
     "user_tz": -540
    },
    "id": "9a_tGx3u30NH",
    "outputId": "78529568-b495-4cdc-dd08-e15adb507b28"
   },
   "outputs": [
    {
     "data": {
      "text/plain": [
       "Unnamed: 0    0\n",
       "충전구분          0\n",
       "충전소명          0\n",
       "주소            0\n",
       "충전기용량         0\n",
       "충전량           0\n",
       "충전시간          0\n",
       "충전분           0\n",
       "충전시작시각        0\n",
       "충전종료시각        0\n",
       "시작_연도         0\n",
       "시작_월          0\n",
       "시작_일          0\n",
       "시작_시          0\n",
       "시작_분          0\n",
       "종료_연도         0\n",
       "종료_월          0\n",
       "종료_일          0\n",
       "종료_시          0\n",
       "종료_분          0\n",
       "dtype: int64"
      ]
     },
     "execution_count": 30,
     "metadata": {},
     "output_type": "execute_result"
    }
   ],
   "source": [
    "# Nan값 존재 X\n",
    "df.isnull().sum()"
   ]
  },
  {
   "cell_type": "code",
   "execution_count": 31,
   "metadata": {
    "colab": {
     "base_uri": "https://localhost:8080/"
    },
    "executionInfo": {
     "elapsed": 417,
     "status": "ok",
     "timestamp": 1698238885991,
     "user": {
      "displayName": "양윤직",
      "userId": "04353150235659315219"
     },
     "user_tz": -540
    },
    "id": "_QPl3eVh47_o",
    "outputId": "0c34cee5-cda2-458f-ea9a-619fceae1a21"
   },
   "outputs": [
    {
     "data": {
      "text/plain": [
       "610"
      ]
     },
     "execution_count": 31,
     "metadata": {},
     "output_type": "execute_result"
    }
   ],
   "source": [
    "len(df['충전소명'].unique())"
   ]
  },
  {
   "cell_type": "markdown",
   "metadata": {
    "id": "2JvSGb6E5x0X"
   },
   "source": [
    "### 데이터 문자형 -> 수치형으로 변환"
   ]
  },
  {
   "cell_type": "code",
   "execution_count": 32,
   "metadata": {
    "executionInfo": {
     "elapsed": 737,
     "status": "ok",
     "timestamp": 1698238886726,
     "user": {
      "displayName": "양윤직",
      "userId": "04353150235659315219"
     },
     "user_tz": -540
    },
    "id": "PBw8xsMT55m3"
   },
   "outputs": [],
   "source": [
    "from sklearn.preprocessing import LabelEncoder\n",
    "\n",
    "# 충전소명\n",
    "le = LabelEncoder()\n",
    "df['충전소명_le'] = le.fit_transform(df['충전소명'])\n",
    "le_name = le.classes_\n",
    "# 충전구분\n",
    "le = LabelEncoder()\n",
    "df['충전구분_le'] = le.fit_transform(df['충전구분'])\n",
    "le_type = le.classes_"
   ]
  },
  {
   "cell_type": "code",
   "execution_count": 33,
   "metadata": {
    "executionInfo": {
     "elapsed": 8,
     "status": "ok",
     "timestamp": 1698238886726,
     "user": {
      "displayName": "양윤직",
      "userId": "04353150235659315219"
     },
     "user_tz": -540
    },
    "id": "tlRUrG3nCBev"
   },
   "outputs": [],
   "source": [
    "df['총_충전분'] = df['충전시간'] * 60 + df['충전분']"
   ]
  },
  {
   "cell_type": "code",
   "execution_count": 34,
   "metadata": {
    "colab": {
     "base_uri": "https://localhost:8080/",
     "height": 454
    },
    "executionInfo": {
     "elapsed": 8,
     "status": "ok",
     "timestamp": 1698238886726,
     "user": {
      "displayName": "양윤직",
      "userId": "04353150235659315219"
     },
     "user_tz": -540
    },
    "id": "xiQo7qOo7O3H",
    "outputId": "22e01a77-e2cb-4ee3-f459-8da53821432b"
   },
   "outputs": [
    {
     "data": {
      "text/html": [
       "<div>\n",
       "<style scoped>\n",
       "    .dataframe tbody tr th:only-of-type {\n",
       "        vertical-align: middle;\n",
       "    }\n",
       "\n",
       "    .dataframe tbody tr th {\n",
       "        vertical-align: top;\n",
       "    }\n",
       "\n",
       "    .dataframe thead th {\n",
       "        text-align: right;\n",
       "    }\n",
       "</style>\n",
       "<table border=\"1\" class=\"dataframe\">\n",
       "  <thead>\n",
       "    <tr style=\"text-align: right;\">\n",
       "      <th></th>\n",
       "      <th>Unnamed: 0</th>\n",
       "      <th>충전구분</th>\n",
       "      <th>충전소명</th>\n",
       "      <th>주소</th>\n",
       "      <th>충전기용량</th>\n",
       "      <th>충전량</th>\n",
       "      <th>충전시간</th>\n",
       "      <th>충전분</th>\n",
       "      <th>충전시작시각</th>\n",
       "      <th>충전종료시각</th>\n",
       "      <th>...</th>\n",
       "      <th>시작_시</th>\n",
       "      <th>시작_분</th>\n",
       "      <th>종료_연도</th>\n",
       "      <th>종료_월</th>\n",
       "      <th>종료_일</th>\n",
       "      <th>종료_시</th>\n",
       "      <th>종료_분</th>\n",
       "      <th>충전소명_le</th>\n",
       "      <th>충전구분_le</th>\n",
       "      <th>총_충전분</th>\n",
       "    </tr>\n",
       "  </thead>\n",
       "  <tbody>\n",
       "    <tr>\n",
       "      <th>0</th>\n",
       "      <td>0</td>\n",
       "      <td>급속</td>\n",
       "      <td>영등포전력지사</td>\n",
       "      <td>서울특별시 영등포구 경인로 878</td>\n",
       "      <td>50</td>\n",
       "      <td>0.05</td>\n",
       "      <td>0</td>\n",
       "      <td>0</td>\n",
       "      <td>2021-01-01 02:06:20</td>\n",
       "      <td>2021-01-01 02:06:36</td>\n",
       "      <td>...</td>\n",
       "      <td>2</td>\n",
       "      <td>6</td>\n",
       "      <td>2021</td>\n",
       "      <td>1</td>\n",
       "      <td>1</td>\n",
       "      <td>2</td>\n",
       "      <td>6</td>\n",
       "      <td>465</td>\n",
       "      <td>0</td>\n",
       "      <td>0</td>\n",
       "    </tr>\n",
       "    <tr>\n",
       "      <th>1</th>\n",
       "      <td>1</td>\n",
       "      <td>급속</td>\n",
       "      <td>영등포전력지사</td>\n",
       "      <td>서울특별시 영등포구 경인로 878</td>\n",
       "      <td>50</td>\n",
       "      <td>13.10</td>\n",
       "      <td>0</td>\n",
       "      <td>29</td>\n",
       "      <td>2021-01-02 14:58:37</td>\n",
       "      <td>2021-01-02 15:28:25</td>\n",
       "      <td>...</td>\n",
       "      <td>14</td>\n",
       "      <td>58</td>\n",
       "      <td>2021</td>\n",
       "      <td>1</td>\n",
       "      <td>2</td>\n",
       "      <td>15</td>\n",
       "      <td>28</td>\n",
       "      <td>465</td>\n",
       "      <td>0</td>\n",
       "      <td>29</td>\n",
       "    </tr>\n",
       "  </tbody>\n",
       "</table>\n",
       "<p>2 rows × 23 columns</p>\n",
       "</div>"
      ],
      "text/plain": [
       "   Unnamed: 0 충전구분     충전소명                  주소  충전기용량    충전량  충전시간  충전분  \\\n",
       "0           0   급속  영등포전력지사  서울특별시 영등포구 경인로 878     50   0.05     0    0   \n",
       "1           1   급속  영등포전력지사  서울특별시 영등포구 경인로 878     50  13.10     0   29   \n",
       "\n",
       "                충전시작시각               충전종료시각  ...  시작_시  시작_분  종료_연도  종료_월  \\\n",
       "0  2021-01-01 02:06:20  2021-01-01 02:06:36  ...     2     6   2021     1   \n",
       "1  2021-01-02 14:58:37  2021-01-02 15:28:25  ...    14    58   2021     1   \n",
       "\n",
       "   종료_일  종료_시  종료_분  충전소명_le  충전구분_le  총_충전분  \n",
       "0     1     2     6      465        0      0  \n",
       "1     2    15    28      465        0     29  \n",
       "\n",
       "[2 rows x 23 columns]"
      ]
     },
     "execution_count": 34,
     "metadata": {},
     "output_type": "execute_result"
    }
   ],
   "source": [
    "df.head(2)"
   ]
  },
  {
   "cell_type": "code",
   "execution_count": 35,
   "metadata": {
    "colab": {
     "base_uri": "https://localhost:8080/"
    },
    "executionInfo": {
     "elapsed": 7,
     "status": "ok",
     "timestamp": 1698238886726,
     "user": {
      "displayName": "양윤직",
      "userId": "04353150235659315219"
     },
     "user_tz": -540
    },
    "id": "hrDUDVOl_deB",
    "outputId": "d7823db0-995c-4071-ccae-660ac4f9c831"
   },
   "outputs": [
    {
     "data": {
      "text/plain": [
       "Index(['Unnamed: 0', '충전구분', '충전소명', '주소', '충전기용량', '충전량', '충전시간', '충전분',\n",
       "       '충전시작시각', '충전종료시각', '시작_연도', '시작_월', '시작_일', '시작_시', '시작_분', '종료_연도',\n",
       "       '종료_월', '종료_일', '종료_시', '종료_분', '충전소명_le', '충전구분_le', '총_충전분'],\n",
       "      dtype='object')"
      ]
     },
     "execution_count": 35,
     "metadata": {},
     "output_type": "execute_result"
    }
   ],
   "source": [
    "df.columns"
   ]
  },
  {
   "cell_type": "code",
   "execution_count": 48,
   "metadata": {
    "colab": {
     "base_uri": "https://localhost:8080/",
     "height": 112
    },
    "executionInfo": {
     "elapsed": 447,
     "status": "ok",
     "timestamp": 1698238887168,
     "user": {
      "displayName": "양윤직",
      "userId": "04353150235659315219"
     },
     "user_tz": -540
    },
    "id": "neryfN9Y7O1H",
    "outputId": "4febf5e1-5118-430d-cc42-fe3b49c24d0d"
   },
   "outputs": [
    {
     "data": {
      "text/html": [
       "<div>\n",
       "<style scoped>\n",
       "    .dataframe tbody tr th:only-of-type {\n",
       "        vertical-align: middle;\n",
       "    }\n",
       "\n",
       "    .dataframe tbody tr th {\n",
       "        vertical-align: top;\n",
       "    }\n",
       "\n",
       "    .dataframe thead th {\n",
       "        text-align: right;\n",
       "    }\n",
       "</style>\n",
       "<table border=\"1\" class=\"dataframe\">\n",
       "  <thead>\n",
       "    <tr style=\"text-align: right;\">\n",
       "      <th></th>\n",
       "      <th>충전구분_le</th>\n",
       "      <th>충전소명_le</th>\n",
       "      <th>충전기용량</th>\n",
       "      <th>충전량</th>\n",
       "      <th>충전시간</th>\n",
       "      <th>충전분</th>\n",
       "      <th>시작_연도</th>\n",
       "      <th>시작_월</th>\n",
       "      <th>시작_일</th>\n",
       "      <th>종료_연도</th>\n",
       "      <th>종료_월</th>\n",
       "      <th>종료_일</th>\n",
       "      <th>총_충전분</th>\n",
       "    </tr>\n",
       "  </thead>\n",
       "  <tbody>\n",
       "    <tr>\n",
       "      <th>0</th>\n",
       "      <td>0</td>\n",
       "      <td>465</td>\n",
       "      <td>50</td>\n",
       "      <td>0.05</td>\n",
       "      <td>0</td>\n",
       "      <td>0</td>\n",
       "      <td>2021</td>\n",
       "      <td>1</td>\n",
       "      <td>1</td>\n",
       "      <td>2021</td>\n",
       "      <td>1</td>\n",
       "      <td>1</td>\n",
       "      <td>0</td>\n",
       "    </tr>\n",
       "    <tr>\n",
       "      <th>1</th>\n",
       "      <td>0</td>\n",
       "      <td>465</td>\n",
       "      <td>50</td>\n",
       "      <td>13.10</td>\n",
       "      <td>0</td>\n",
       "      <td>29</td>\n",
       "      <td>2021</td>\n",
       "      <td>1</td>\n",
       "      <td>2</td>\n",
       "      <td>2021</td>\n",
       "      <td>1</td>\n",
       "      <td>2</td>\n",
       "      <td>29</td>\n",
       "    </tr>\n",
       "  </tbody>\n",
       "</table>\n",
       "</div>"
      ],
      "text/plain": [
       "   충전구분_le  충전소명_le  충전기용량    충전량  충전시간  충전분  시작_연도  시작_월  시작_일  종료_연도  종료_월  \\\n",
       "0        0      465     50   0.05     0    0   2021     1     1   2021     1   \n",
       "1        0      465     50  13.10     0   29   2021     1     2   2021     1   \n",
       "\n",
       "   종료_일  총_충전분  \n",
       "0     1      0  \n",
       "1     2     29  "
      ]
     },
     "execution_count": 48,
     "metadata": {},
     "output_type": "execute_result"
    }
   ],
   "source": [
    "# 수치화 진행된 컬럼 -> 데이터프레임으로 만들기\n",
    "col_total = ['충전구분_le', '충전소명_le','충전기용량', '충전량', '충전시간', '충전분', '시작_연도', '시작_월', '시작_일', '종료_연도', '종료_월', '종료_일', '총_충전분']\n",
    "col_one = ['충전구분_le', '충전소명_le','충전기용량', '충전량', '충전시간', '충전분', '시작_연도', '시작_월', '시작_일', '종료_연도', '종료_월', '종료_일']       # 시작, 종료 데이터, 충전시간, 충전분 사용한 데이터\n",
    "col_two = ['충전구분_le','충전소명_le', '충전기용량', '충전량', '총_충전분']                                                                                      # 시작, 종료 데이터는 생략, 충전시간, 충전분 두개 컬럼 합친 총_충전분\n",
    "before_df = df[col_total]\n",
    "before_df.head(2)"
   ]
  },
  {
   "cell_type": "code",
   "execution_count": 49,
   "metadata": {
    "colab": {
     "base_uri": "https://localhost:8080/",
     "height": 206
    },
    "executionInfo": {
     "elapsed": 5,
     "status": "ok",
     "timestamp": 1698238887169,
     "user": {
      "displayName": "양윤직",
      "userId": "04353150235659315219"
     },
     "user_tz": -540
    },
    "id": "pRbGX4nZAZu_",
    "outputId": "c3835548-4f0c-4f0b-cb27-acef36d9ebaf"
   },
   "outputs": [
    {
     "data": {
      "text/html": [
       "<div>\n",
       "<style scoped>\n",
       "    .dataframe tbody tr th:only-of-type {\n",
       "        vertical-align: middle;\n",
       "    }\n",
       "\n",
       "    .dataframe tbody tr th {\n",
       "        vertical-align: top;\n",
       "    }\n",
       "\n",
       "    .dataframe thead th {\n",
       "        text-align: right;\n",
       "    }\n",
       "</style>\n",
       "<table border=\"1\" class=\"dataframe\">\n",
       "  <thead>\n",
       "    <tr style=\"text-align: right;\">\n",
       "      <th></th>\n",
       "      <th>충전구분_le</th>\n",
       "      <th>충전소명_le</th>\n",
       "      <th>충전기용량</th>\n",
       "      <th>충전량</th>\n",
       "      <th>충전시간</th>\n",
       "      <th>충전분</th>\n",
       "      <th>시작_연도</th>\n",
       "      <th>시작_월</th>\n",
       "      <th>시작_일</th>\n",
       "      <th>종료_연도</th>\n",
       "      <th>종료_월</th>\n",
       "      <th>종료_일</th>\n",
       "      <th>총_충전분</th>\n",
       "    </tr>\n",
       "  </thead>\n",
       "  <tbody>\n",
       "    <tr>\n",
       "      <th>충전구분_le</th>\n",
       "      <td>1.000000</td>\n",
       "      <td>-0.012894</td>\n",
       "      <td>-0.998242</td>\n",
       "      <td>-0.133480</td>\n",
       "      <td>0.013173</td>\n",
       "      <td>0.003784</td>\n",
       "      <td>-0.012353</td>\n",
       "      <td>-0.013641</td>\n",
       "      <td>-0.002171</td>\n",
       "      <td>NaN</td>\n",
       "      <td>-0.013510</td>\n",
       "      <td>-0.001660</td>\n",
       "      <td>0.013185</td>\n",
       "    </tr>\n",
       "    <tr>\n",
       "      <th>충전소명_le</th>\n",
       "      <td>-0.012894</td>\n",
       "      <td>1.000000</td>\n",
       "      <td>0.013873</td>\n",
       "      <td>0.003371</td>\n",
       "      <td>-0.002385</td>\n",
       "      <td>0.001334</td>\n",
       "      <td>0.000654</td>\n",
       "      <td>0.003197</td>\n",
       "      <td>0.002941</td>\n",
       "      <td>NaN</td>\n",
       "      <td>0.003175</td>\n",
       "      <td>0.003158</td>\n",
       "      <td>-0.002381</td>\n",
       "    </tr>\n",
       "    <tr>\n",
       "      <th>충전기용량</th>\n",
       "      <td>-0.998242</td>\n",
       "      <td>0.013873</td>\n",
       "      <td>1.000000</td>\n",
       "      <td>0.132968</td>\n",
       "      <td>-0.013145</td>\n",
       "      <td>-0.004478</td>\n",
       "      <td>0.012340</td>\n",
       "      <td>0.013488</td>\n",
       "      <td>0.001893</td>\n",
       "      <td>NaN</td>\n",
       "      <td>0.013358</td>\n",
       "      <td>0.001387</td>\n",
       "      <td>-0.013158</td>\n",
       "    </tr>\n",
       "    <tr>\n",
       "      <th>충전량</th>\n",
       "      <td>-0.133480</td>\n",
       "      <td>0.003371</td>\n",
       "      <td>0.132968</td>\n",
       "      <td>1.000000</td>\n",
       "      <td>0.005432</td>\n",
       "      <td>0.065032</td>\n",
       "      <td>-0.006889</td>\n",
       "      <td>0.032232</td>\n",
       "      <td>0.004234</td>\n",
       "      <td>NaN</td>\n",
       "      <td>0.032091</td>\n",
       "      <td>0.004851</td>\n",
       "      <td>0.005631</td>\n",
       "    </tr>\n",
       "    <tr>\n",
       "      <th>충전시간</th>\n",
       "      <td>0.013173</td>\n",
       "      <td>-0.002385</td>\n",
       "      <td>-0.013145</td>\n",
       "      <td>0.005432</td>\n",
       "      <td>1.000000</td>\n",
       "      <td>-0.001167</td>\n",
       "      <td>-0.447115</td>\n",
       "      <td>-0.000902</td>\n",
       "      <td>-0.001958</td>\n",
       "      <td>NaN</td>\n",
       "      <td>0.001505</td>\n",
       "      <td>0.002400</td>\n",
       "      <td>0.999995</td>\n",
       "    </tr>\n",
       "    <tr>\n",
       "      <th>충전분</th>\n",
       "      <td>0.003784</td>\n",
       "      <td>0.001334</td>\n",
       "      <td>-0.004478</td>\n",
       "      <td>0.065032</td>\n",
       "      <td>-0.001167</td>\n",
       "      <td>1.000000</td>\n",
       "      <td>-0.000281</td>\n",
       "      <td>0.016897</td>\n",
       "      <td>0.004416</td>\n",
       "      <td>NaN</td>\n",
       "      <td>0.016907</td>\n",
       "      <td>0.005120</td>\n",
       "      <td>0.001898</td>\n",
       "    </tr>\n",
       "    <tr>\n",
       "      <th>시작_연도</th>\n",
       "      <td>-0.012353</td>\n",
       "      <td>0.000654</td>\n",
       "      <td>0.012340</td>\n",
       "      <td>-0.006889</td>\n",
       "      <td>-0.447115</td>\n",
       "      <td>-0.000281</td>\n",
       "      <td>1.000000</td>\n",
       "      <td>-0.025507</td>\n",
       "      <td>-0.030085</td>\n",
       "      <td>NaN</td>\n",
       "      <td>0.030526</td>\n",
       "      <td>0.029048</td>\n",
       "      <td>-0.447115</td>\n",
       "    </tr>\n",
       "    <tr>\n",
       "      <th>시작_월</th>\n",
       "      <td>-0.013641</td>\n",
       "      <td>0.003197</td>\n",
       "      <td>0.013488</td>\n",
       "      <td>0.032232</td>\n",
       "      <td>-0.000902</td>\n",
       "      <td>0.016897</td>\n",
       "      <td>-0.025507</td>\n",
       "      <td>1.000000</td>\n",
       "      <td>0.020760</td>\n",
       "      <td>NaN</td>\n",
       "      <td>0.997767</td>\n",
       "      <td>0.020926</td>\n",
       "      <td>-0.000850</td>\n",
       "    </tr>\n",
       "    <tr>\n",
       "      <th>시작_일</th>\n",
       "      <td>-0.002171</td>\n",
       "      <td>0.002941</td>\n",
       "      <td>0.001893</td>\n",
       "      <td>0.004234</td>\n",
       "      <td>-0.001958</td>\n",
       "      <td>0.004416</td>\n",
       "      <td>-0.030085</td>\n",
       "      <td>0.020760</td>\n",
       "      <td>1.000000</td>\n",
       "      <td>NaN</td>\n",
       "      <td>0.020772</td>\n",
       "      <td>0.970466</td>\n",
       "      <td>-0.001944</td>\n",
       "    </tr>\n",
       "    <tr>\n",
       "      <th>종료_연도</th>\n",
       "      <td>NaN</td>\n",
       "      <td>NaN</td>\n",
       "      <td>NaN</td>\n",
       "      <td>NaN</td>\n",
       "      <td>NaN</td>\n",
       "      <td>NaN</td>\n",
       "      <td>NaN</td>\n",
       "      <td>NaN</td>\n",
       "      <td>NaN</td>\n",
       "      <td>NaN</td>\n",
       "      <td>NaN</td>\n",
       "      <td>NaN</td>\n",
       "      <td>NaN</td>\n",
       "    </tr>\n",
       "    <tr>\n",
       "      <th>종료_월</th>\n",
       "      <td>-0.013510</td>\n",
       "      <td>0.003175</td>\n",
       "      <td>0.013358</td>\n",
       "      <td>0.032091</td>\n",
       "      <td>0.001505</td>\n",
       "      <td>0.016907</td>\n",
       "      <td>0.030526</td>\n",
       "      <td>0.997767</td>\n",
       "      <td>0.020772</td>\n",
       "      <td>NaN</td>\n",
       "      <td>1.000000</td>\n",
       "      <td>0.020794</td>\n",
       "      <td>0.001557</td>\n",
       "    </tr>\n",
       "    <tr>\n",
       "      <th>종료_일</th>\n",
       "      <td>-0.001660</td>\n",
       "      <td>0.003158</td>\n",
       "      <td>0.001387</td>\n",
       "      <td>0.004851</td>\n",
       "      <td>0.002400</td>\n",
       "      <td>0.005120</td>\n",
       "      <td>0.029048</td>\n",
       "      <td>0.020926</td>\n",
       "      <td>0.970466</td>\n",
       "      <td>NaN</td>\n",
       "      <td>0.020794</td>\n",
       "      <td>1.000000</td>\n",
       "      <td>0.002415</td>\n",
       "    </tr>\n",
       "    <tr>\n",
       "      <th>총_충전분</th>\n",
       "      <td>0.013185</td>\n",
       "      <td>-0.002381</td>\n",
       "      <td>-0.013158</td>\n",
       "      <td>0.005631</td>\n",
       "      <td>0.999995</td>\n",
       "      <td>0.001898</td>\n",
       "      <td>-0.447115</td>\n",
       "      <td>-0.000850</td>\n",
       "      <td>-0.001944</td>\n",
       "      <td>NaN</td>\n",
       "      <td>0.001557</td>\n",
       "      <td>0.002415</td>\n",
       "      <td>1.000000</td>\n",
       "    </tr>\n",
       "  </tbody>\n",
       "</table>\n",
       "</div>"
      ],
      "text/plain": [
       "          충전구분_le   충전소명_le     충전기용량       충전량      충전시간       충전분     시작_연도  \\\n",
       "충전구분_le  1.000000 -0.012894 -0.998242 -0.133480  0.013173  0.003784 -0.012353   \n",
       "충전소명_le -0.012894  1.000000  0.013873  0.003371 -0.002385  0.001334  0.000654   \n",
       "충전기용량   -0.998242  0.013873  1.000000  0.132968 -0.013145 -0.004478  0.012340   \n",
       "충전량     -0.133480  0.003371  0.132968  1.000000  0.005432  0.065032 -0.006889   \n",
       "충전시간     0.013173 -0.002385 -0.013145  0.005432  1.000000 -0.001167 -0.447115   \n",
       "충전분      0.003784  0.001334 -0.004478  0.065032 -0.001167  1.000000 -0.000281   \n",
       "시작_연도   -0.012353  0.000654  0.012340 -0.006889 -0.447115 -0.000281  1.000000   \n",
       "시작_월    -0.013641  0.003197  0.013488  0.032232 -0.000902  0.016897 -0.025507   \n",
       "시작_일    -0.002171  0.002941  0.001893  0.004234 -0.001958  0.004416 -0.030085   \n",
       "종료_연도         NaN       NaN       NaN       NaN       NaN       NaN       NaN   \n",
       "종료_월    -0.013510  0.003175  0.013358  0.032091  0.001505  0.016907  0.030526   \n",
       "종료_일    -0.001660  0.003158  0.001387  0.004851  0.002400  0.005120  0.029048   \n",
       "총_충전분    0.013185 -0.002381 -0.013158  0.005631  0.999995  0.001898 -0.447115   \n",
       "\n",
       "             시작_월      시작_일  종료_연도      종료_월      종료_일     총_충전분  \n",
       "충전구분_le -0.013641 -0.002171    NaN -0.013510 -0.001660  0.013185  \n",
       "충전소명_le  0.003197  0.002941    NaN  0.003175  0.003158 -0.002381  \n",
       "충전기용량    0.013488  0.001893    NaN  0.013358  0.001387 -0.013158  \n",
       "충전량      0.032232  0.004234    NaN  0.032091  0.004851  0.005631  \n",
       "충전시간    -0.000902 -0.001958    NaN  0.001505  0.002400  0.999995  \n",
       "충전분      0.016897  0.004416    NaN  0.016907  0.005120  0.001898  \n",
       "시작_연도   -0.025507 -0.030085    NaN  0.030526  0.029048 -0.447115  \n",
       "시작_월     1.000000  0.020760    NaN  0.997767  0.020926 -0.000850  \n",
       "시작_일     0.020760  1.000000    NaN  0.020772  0.970466 -0.001944  \n",
       "종료_연도         NaN       NaN    NaN       NaN       NaN       NaN  \n",
       "종료_월     0.997767  0.020772    NaN  1.000000  0.020794  0.001557  \n",
       "종료_일     0.020926  0.970466    NaN  0.020794  1.000000  0.002415  \n",
       "총_충전분   -0.000850 -0.001944    NaN  0.001557  0.002415  1.000000  "
      ]
     },
     "execution_count": 49,
     "metadata": {},
     "output_type": "execute_result"
    }
   ],
   "source": [
    "# 상관관계 확인\n",
    "before_df.corr()"
   ]
  },
  {
   "cell_type": "code",
   "execution_count": 50,
   "metadata": {
    "id": "yCxgQWpMAZtH"
   },
   "outputs": [
    {
     "name": "stderr",
     "output_type": "stream",
     "text": [
      "C:\\Users\\Jik\\.conda\\envs\\study\\Lib\\site-packages\\seaborn\\utils.py:80: UserWarning: Glyph 8722 (\\N{MINUS SIGN}) missing from current font.\n",
      "  fig.canvas.draw()\n",
      "C:\\Users\\Jik\\.conda\\envs\\study\\Lib\\site-packages\\IPython\\core\\pylabtools.py:152: UserWarning: Glyph 8722 (\\N{MINUS SIGN}) missing from current font.\n",
      "  fig.canvas.print_figure(bytes_io, **kw)\n"
     ]
    },
    {
     "data": {
      "image/png": "[encoded data removed]",
      "text/plain": [
       "<Figure size 1300x800 with 2 Axes>"
      ]
     },
     "metadata": {},
     "output_type": "display_data"
    }
   ],
   "source": [
    "# 히트맵으로 확인\n",
    "plt.figure(figsize=(13, 8))\n",
    "sns.heatmap(data = before_df.corr(), annot=True)\n",
    "\n",
    "plt.show()"
   ]
  },
  {
   "cell_type": "markdown",
   "metadata": {
    "id": "SU3mYldgD7bn"
   },
   "source": []
  },
  {
   "cell_type": "code",
   "execution_count": null,
   "metadata": {
    "id": "MBGRrM3eAZo3"
   },
   "outputs": [],
   "source": []
  },
  {
   "cell_type": "code",
   "execution_count": null,
   "metadata": {
    "id": "3JMCVWHiAZmv"
   },
   "outputs": [],
   "source": []
  },
  {
   "cell_type": "markdown",
   "metadata": {
    "id": "hYoLduU96Zse"
   },
   "source": [
    "시각화 단계는 잠시 대기"
   ]
  },
  {
   "cell_type": "code",
   "execution_count": null,
   "metadata": {
    "id": "eSNV05Xa4K2H"
   },
   "outputs": [],
   "source": [
    "# 시각화 너무 오래걸림\n",
    "plt.bar(data=df, x='충전구분', height='충전량')\n",
    "\n",
    "plt.xlabel('충전량')\n",
    "plt.ylabel('충전구분')\n",
    "plt.show()"
   ]
  },
  {
   "cell_type": "code",
   "execution_count": null,
   "metadata": {
    "id": "pvx_4Eo-4KyP"
   },
   "outputs": [],
   "source": []
  }
 ],
 "metadata": {
  "colab": {
   "authorship_tag": "ABX9TyMSx7MOQOrbHQM052J8UX1o",
   "provenance": []
  },
  "kernelspec": {
   "display_name": "Python 3 (ipykernel)",
   "language": "python",
   "name": "python3"
  },
  "language_info": {
   "codemirror_mode": {
    "name": "ipython",
    "version": 3
   },
   "file_extension": ".py",
   "mimetype": "text/x-python",
   "name": "python",
   "nbconvert_exporter": "python",
   "pygments_lexer": "ipython3",
   "version": "3.11.3"
  }
 },
 "nbformat": 4,
 "nbformat_minor": 1
}
