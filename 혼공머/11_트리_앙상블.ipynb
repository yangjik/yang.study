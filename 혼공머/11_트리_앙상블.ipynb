{
  "nbformat": 4,
  "nbformat_minor": 0,
  "metadata": {
    "colab": {
      "provenance": [],
      "authorship_tag": "ABX9TyP4yLxfQBziRN4/RgMLT37c",
      "include_colab_link": true
    },
    "kernelspec": {
      "name": "python3",
      "display_name": "Python 3"
    },
    "language_info": {
      "name": "python"
    }
  },
  "cells": [
    {
      "cell_type": "markdown",
      "metadata": {
        "id": "view-in-github",
        "colab_type": "text"
      },
      "source": [
        "<a href=\"https://colab.research.google.com/github/yangjik/yang.study/blob/main/11_%ED%8A%B8%EB%A6%AC_%EC%95%99%EC%83%81%EB%B8%94.ipynb\" target=\"_parent\"><img src=\"https://colab.research.google.com/assets/colab-badge.svg\" alt=\"Open In Colab\"/></a>"
      ]
    },
    {
      "cell_type": "markdown",
      "source": [
        "들어가기 앞서서 정형데이터 / 비정형데이터 확인하기\n",
        "\n",
        "- 정형데이터 : 데이터가 구조를 가지고있다.\n",
        "\n",
        "- 비전형데이터 : 데이터베이스나 엑셀로 표현하기 어려운데이터.\n"
      ],
      "metadata": {
        "id": "yq-52E11hs-R"
      }
    },
    {
      "cell_type": "markdown",
      "source": [
        "# 앙상블\n",
        "\n",
        "앙상블은 결정트리 기반으로 만들어졌다.<br>\n",
        "정형 데이터를 다루는데 가장 뛰어난다."
      ],
      "metadata": {
        "id": "UbuAKaR1k893"
      }
    },
    {
      "cell_type": "markdown",
      "source": [
        "### 랜덤 포레스트\n",
        "- 앙상블 학습의 대표\n",
        "- 랜덤하게 선택한 샘플과 특성을 사용하기 때문에 훈련 세트에 과대적합되는 것을 막아주고 검증 세트와 테스트 세트에서 안정적인 성능을 얻는다."
      ],
      "metadata": {
        "id": "iSHo8sVLlKWP"
      }
    },
    {
      "cell_type": "code",
      "execution_count": 9,
      "metadata": {
        "id": "rJzx2oYogpYy"
      },
      "outputs": [],
      "source": [
        "import numpy as np\n",
        "import pandas as pd\n",
        "from sklearn.model_selection import train_test_split\n",
        "\n",
        "wine = pd.read_csv('https://bit.ly/wine_csv_data')\n",
        "data = wine[['alcohol', 'sugar', 'pH']].to_numpy()\n",
        "target = wine['class'].to_numpy()\n",
        "train_input, test_input, train_target, test_target = train_test_split(\n",
        "    data, target, test_size=0.2, random_state=42\n",
        "    )"
      ]
    },
    {
      "cell_type": "code",
      "source": [
        "# 교차 검증 수행\n",
        "from sklearn.model_selection import cross_validate\n",
        "from sklearn.ensemble import RandomForestClassifier   # 랜덤포레스트 분류모델\n",
        "\n",
        "rf = RandomForestClassifier(n_jobs=-1, random_state=42)\n",
        "scores = cross_validate(rf, train_input, train_target,\n",
        "                        return_train_score=True, n_jobs=-1\n",
        "                        )\n",
        "print('train_score : ', np.mean(scores['train_score']), '\\ntest_score : ', np.mean(scores['test_score']))"
      ],
      "metadata": {
        "colab": {
          "base_uri": "https://localhost:8080/"
        },
        "id": "cwAytA14k8ks",
        "outputId": "e0038c5a-7cab-4c99-9371-ac73da28ea68"
      },
      "execution_count": 10,
      "outputs": [
        {
          "output_type": "stream",
          "name": "stdout",
          "text": [
            "train_score :  0.9973541965122431 \n",
            "test_score :  0.8905151032797809\n"
          ]
        }
      ]
    },
    {
      "cell_type": "code",
      "source": [
        "# 위 결과 확인하면 과대적합 발생\n",
        "rf.fit(train_input, train_target)\n",
        "print('특성 중요도 : ', rf.feature_importances_)"
      ],
      "metadata": {
        "colab": {
          "base_uri": "https://localhost:8080/"
        },
        "id": "fFAq5vtpgu5b",
        "outputId": "98d56881-7618-45d3-b78a-f5c90616fa0f"
      },
      "execution_count": 11,
      "outputs": [
        {
          "output_type": "stream",
          "name": "stdout",
          "text": [
            "특성 중요도 :  [0.23167441 0.50039841 0.26792718]\n"
          ]
        }
      ]
    },
    {
      "cell_type": "code",
      "source": [
        "#  OOB샘플 - 부트스르탭 샘플로 훈련한 결정트리를 평가 -> 검증세트 역활\n",
        "rf = RandomForestClassifier(oob_score=True, n_jobs=-1, random_state=42)\n",
        "rf.fit(train_input, train_target)\n",
        "rf.oob_score_"
      ],
      "metadata": {
        "colab": {
          "base_uri": "https://localhost:8080/"
        },
        "id": "hV88qpcTgu3S",
        "outputId": "924ce390-7f2c-4cc9-db7f-b5e290a1a8e7"
      },
      "execution_count": 12,
      "outputs": [
        {
          "output_type": "execute_result",
          "data": {
            "text/plain": [
              "0.8934000384837406"
            ]
          },
          "metadata": {},
          "execution_count": 12
        }
      ]
    },
    {
      "cell_type": "markdown",
      "source": [
        "위에 교차검증한 점수랑 oob 점수랑 비슷하게 나왔다."
      ],
      "metadata": {
        "id": "t30-OOSIozsx"
      }
    },
    {
      "cell_type": "markdown",
      "source": [
        "### 엑스트라 트리\n",
        "- 기본적으로 100개의 결정트리 훈련\n",
        "- DecisionTreeClassifier 의 매개변수 splitter = 'random'\n",
        "- 하나의 결정 트리에서 특성을 무작위로 분할하면 성능은 낮아지지만 많은 트리를 앙상블 하기 때문에 과대적합을 막고 검증세트의 점수를 높힌다."
      ],
      "metadata": {
        "id": "kCeThMe6ox-A"
      }
    },
    {
      "cell_type": "code",
      "source": [
        "from sklearn.ensemble import ExtraTreesClassifier\n",
        "\n",
        "et = ExtraTreesClassifier(n_jobs=-1, random_state=42)\n",
        "score = cross_validate(et, train_input, train_target, return_train_score=True, n_jobs=-1)\n",
        "print(np.mean(score['train_score']), np.mean(score['test_score']))"
      ],
      "metadata": {
        "id": "4inDhKPGgu1Y",
        "colab": {
          "base_uri": "https://localhost:8080/"
        },
        "outputId": "969200dc-9b96-4459-ba5a-5933c30fed1f"
      },
      "execution_count": 13,
      "outputs": [
        {
          "output_type": "stream",
          "name": "stdout",
          "text": [
            "0.9974503966084433 0.8887848893166506\n"
          ]
        }
      ]
    },
    {
      "cell_type": "markdown",
      "source": [
        "결정트리는 최적의 분할을 찾는 데 시간을 많이 소모한다. 특히 고려해야 할 특성의 개수가 많을 때 그렇다. 만약 무작위로 나눈다면 훨씬 빨리 트리를 구성한다."
      ],
      "metadata": {
        "id": "Lx3a69HvbgjF"
      }
    },
    {
      "cell_type": "code",
      "source": [
        " et.fit(train_input, train_target)\n",
        " et.feature_importances_\n",
        " # 밑에 결과 [알콜 도수, 당도, pH]"
      ],
      "metadata": {
        "id": "BLH1YmMTguzI",
        "colab": {
          "base_uri": "https://localhost:8080/"
        },
        "outputId": "386a40e3-b6ad-4249-eb90-b242dbd15703"
      },
      "execution_count": 14,
      "outputs": [
        {
          "output_type": "execute_result",
          "data": {
            "text/plain": [
              "array([0.20183568, 0.52242907, 0.27573525])"
            ]
          },
          "metadata": {},
          "execution_count": 14
        }
      ]
    },
    {
      "cell_type": "markdown",
      "source": [
        "### 그레이디언트 부스팅\n",
        "- 깊이가 얕은 결정트리를 사용하여 이전 트리의 오차를 보완\n",
        "- 깊이가 얕은 결정 트리를 사용하기 때문에 과대적합에 강하고 일반저긍로 높은 일반화 성능을 기대한다."
      ],
      "metadata": {
        "id": "1aCoPUqicEk0"
      }
    },
    {
      "cell_type": "code",
      "source": [
        "from sklearn.ensemble import GradientBoostingClassifier\n",
        "\n",
        "gb = GradientBoostingClassifier(random_state=42)\n",
        "score = cross_validate(gb, train_input, train_target, return_train_score=True, n_jobs=-1)"
      ],
      "metadata": {
        "id": "Mt6b07wXguw7"
      },
      "execution_count": 15,
      "outputs": []
    },
    {
      "cell_type": "code",
      "source": [
        "score"
      ],
      "metadata": {
        "colab": {
          "base_uri": "https://localhost:8080/"
        },
        "id": "tc5XRhQnGSlN",
        "outputId": "01d4e974-a5d6-4ed4-8e49-ad5905c91c5d"
      },
      "execution_count": 17,
      "outputs": [
        {
          "output_type": "execute_result",
          "data": {
            "text/plain": [
              "{'fit_time': array([0.52229929, 0.52154708, 0.56368184, 0.54603839, 0.36534309]),\n",
              " 'score_time': array([0.00450253, 0.00424814, 0.00530601, 0.00483823, 0.00332713]),\n",
              " 'test_score': array([0.86634615, 0.87019231, 0.89412897, 0.86044273, 0.86910491]),\n",
              " 'train_score': array([0.89006495, 0.88958383, 0.88239538, 0.89249639, 0.88600289])}"
            ]
          },
          "metadata": {},
          "execution_count": 17
        }
      ]
    },
    {
      "cell_type": "code",
      "source": [
        "print('train 스코어 : ', np.mean(score['train_score']), '\\ntest 스코어 : ', np.mean(score['test_score']))"
      ],
      "metadata": {
        "id": "H-Umshocguu2",
        "colab": {
          "base_uri": "https://localhost:8080/"
        },
        "outputId": "12d59cc2-b1b5-4b39-9f3d-58255a7968bb"
      },
      "execution_count": 18,
      "outputs": [
        {
          "output_type": "stream",
          "name": "stdout",
          "text": [
            "train 스코어 :  0.8881086892152563 \n",
            "test 스코어 :  0.8720430147331015\n"
          ]
        }
      ]
    },
    {
      "cell_type": "markdown",
      "source": [
        "위 결과를 보면 과대적합이 안되어있다.<br>\n",
        "그레이디언트 부스팅은 결정 트리리 개수를 늘려도 과대적합에 강하다.<br>\n",
        "그래서 학습률을 증가시키고 트리개수 늘리면 성능이 더 좋게 나온다.<br>"
      ],
      "metadata": {
        "id": "jEIIJJDxIGg4"
      }
    },
    {
      "cell_type": "code",
      "source": [
        "gb = GradientBoostingClassifier(n_estimators=500, learning_rate=0.2, random_state=42)\n",
        "score = cross_validate(gb, train_input, train_target, return_train_score=True, n_jobs=-1)"
      ],
      "metadata": {
        "id": "ikqN1Uy0guss"
      },
      "execution_count": 22,
      "outputs": []
    },
    {
      "cell_type": "code",
      "source": [
        "score"
      ],
      "metadata": {
        "id": "k2HH6vY0guqh",
        "colab": {
          "base_uri": "https://localhost:8080/"
        },
        "outputId": "4748b992-f0e0-4752-e4f4-407bd35acae1"
      },
      "execution_count": 23,
      "outputs": [
        {
          "output_type": "execute_result",
          "data": {
            "text/plain": [
              "{'fit_time': array([6.04311013, 5.75637937, 2.63990593, 2.62183309, 1.7774291 ]),\n",
              " 'score_time': array([0.01442432, 0.01424742, 0.01395631, 0.01354837, 0.01200294]),\n",
              " 'test_score': array([0.875     , 0.87211538, 0.89701636, 0.8719923 , 0.87391723]),\n",
              " 'train_score': array([0.9494828 , 0.94443108, 0.94468494, 0.94324194, 0.95045695])}"
            ]
          },
          "metadata": {},
          "execution_count": 23
        }
      ]
    },
    {
      "cell_type": "code",
      "source": [
        "print('train 스코어 : ', np.mean(score['train_score']), '\\ntest 스코어 : ', np.mean(score['test_score']))"
      ],
      "metadata": {
        "id": "M5hYKTu0guoW",
        "colab": {
          "base_uri": "https://localhost:8080/"
        },
        "outputId": "ad152d4c-dd66-4074-f19d-9fb185327cf2"
      },
      "execution_count": 24,
      "outputs": [
        {
          "output_type": "stream",
          "name": "stdout",
          "text": [
            "train 스코어 :  0.9464595437171814 \n",
            "test 스코어 :  0.8780082549788999\n"
          ]
        }
      ]
    },
    {
      "cell_type": "markdown",
      "source": [
        "일반적으로 그레이디언트 부스팅이 랜덤 포레스트보다 조금 더 좋은 성능을 얻을 수 있다.<br>\n",
        "순서대로 트리를 추가를 하기 때문에 훈련 속도가 느리다."
      ],
      "metadata": {
        "id": "PMXA339ZLiFM"
      }
    },
    {
      "cell_type": "markdown",
      "source": [
        "### 히스토그램 기반 그레이디언트 부스팅\n",
        "- 그레이디언트 부스팅의 속도와 성능을 더욱 개선한 모델.\n",
        "- 정형 데이터를 다루는 머신러닝 알고리즘 가장 인기가 높다.\n",
        "- 입력 특성 256개의 구간을 나눈다.\n",
        "- 노드 분할할 때 최적의 분할을 매우 빠르게 찾을수 있다.\n",
        "- 256개의 구간 중 하나를 떼어 놓고 누락된 값을 위해 사용. --> 전처리 안해도됨."
      ],
      "metadata": {
        "id": "tmgyRxqqLwmO"
      }
    },
    {
      "cell_type": "code",
      "source": [
        "from sklearn.experimental import enable_hist_gradient_boosting\n",
        "from sklearn.ensemble import HistGradientBoostingClassifier\n",
        "\n",
        "hgb = HistGradientBoostingClassifier(random_state=42)\n",
        "score = cross_validate(hgb, train_input, train_target, return_train_score=True)"
      ],
      "metadata": {
        "id": "zXLCakPDgumL",
        "colab": {
          "base_uri": "https://localhost:8080/"
        },
        "outputId": "0ff6341c-963b-4d26-f54b-7bd363b93c06"
      },
      "execution_count": 25,
      "outputs": [
        {
          "output_type": "stream",
          "name": "stderr",
          "text": [
            "/usr/local/lib/python3.10/dist-packages/sklearn/experimental/enable_hist_gradient_boosting.py:16: UserWarning: Since version 1.0, it is not needed to import enable_hist_gradient_boosting anymore. HistGradientBoostingClassifier and HistGradientBoostingRegressor are now stable and can be normally imported from sklearn.ensemble.\n",
            "  warnings.warn(\n"
          ]
        }
      ]
    },
    {
      "cell_type": "code",
      "source": [
        "score"
      ],
      "metadata": {
        "colab": {
          "base_uri": "https://localhost:8080/"
        },
        "id": "foNk2gKjN4jG",
        "outputId": "1966a101-8f76-434e-e727-20d923d9610e"
      },
      "execution_count": 26,
      "outputs": [
        {
          "output_type": "execute_result",
          "data": {
            "text/plain": [
              "{'fit_time': array([1.02986646, 0.52155232, 0.36639595, 0.36819243, 0.35377789]),\n",
              " 'score_time': array([0.0240953 , 0.01086497, 0.0107801 , 0.02074742, 0.01091075]),\n",
              " 'test_score': array([0.87115385, 0.88365385, 0.90279115, 0.86621752, 0.87680462]),\n",
              " 'train_score': array([0.93192206, 0.93216262, 0.92857143, 0.93265993, 0.93554594])}"
            ]
          },
          "metadata": {},
          "execution_count": 26
        }
      ]
    },
    {
      "cell_type": "code",
      "source": [
        "print('train 스코어 : ', np.mean(score['train_score']), '\\ntest 스코어 : ', np.mean(score['test_score']))"
      ],
      "metadata": {
        "id": "c4yUEJ5bgufu",
        "colab": {
          "base_uri": "https://localhost:8080/"
        },
        "outputId": "40996fb3-cf54-4665-9b84-d2e436212006"
      },
      "execution_count": 27,
      "outputs": [
        {
          "output_type": "stream",
          "name": "stdout",
          "text": [
            "train 스코어 :  0.9321723946453317 \n",
            "test 스코어 :  0.8801241948619236\n"
          ]
        }
      ]
    },
    {
      "cell_type": "markdown",
      "source": [
        "과적합을 줄익오 그레이디언트 부스팅보다 조금 더 좋은 성능."
      ],
      "metadata": {
        "id": "XM20KNhyN-FA"
      }
    },
    {
      "cell_type": "code",
      "source": [
        "# 특성 중요도를 계산 -> permutation_importance()\n",
        "# 특성을 하나식 랜덤하게 섞어서 모델의 성능이 변화하는지 관찰 후 중요한 특성인지 계산\n",
        "from sklearn.inspection import permutation_importance\n",
        "\n",
        "hgb.fit(train_input, train_target)\n",
        "# train 데이터에서 특성의 중요도 계산.\n",
        "result = permutation_importance(hgb, train_input, train_target, n_repeats=10, random_state=42, n_jobs=-1)"
      ],
      "metadata": {
        "id": "iQq086vIN6LP"
      },
      "execution_count": 31,
      "outputs": []
    },
    {
      "cell_type": "code",
      "source": [
        "# importances(중요도), importances_mean(평균), importances_std(표준편차)\n",
        "result.importances_mean"
      ],
      "metadata": {
        "colab": {
          "base_uri": "https://localhost:8080/"
        },
        "id": "EIo-ryJDO6PO",
        "outputId": "98a73b01-03e8-4970-af71-3f5f56124dfa"
      },
      "execution_count": 32,
      "outputs": [
        {
          "output_type": "execute_result",
          "data": {
            "text/plain": [
              "array([0.08876275, 0.23438522, 0.08027708])"
            ]
          },
          "metadata": {},
          "execution_count": 32
        }
      ]
    },
    {
      "cell_type": "code",
      "source": [
        "# test 데이터에서 특성의 중요도 계산.\n",
        "result = permutation_importance(hgb, test_input, test_target, n_repeats=10, random_state=42, n_jobs=-1)"
      ],
      "metadata": {
        "id": "n6KYEa2FPOrZ"
      },
      "execution_count": 33,
      "outputs": []
    },
    {
      "cell_type": "code",
      "source": [
        "result.importances_mean"
      ],
      "metadata": {
        "colab": {
          "base_uri": "https://localhost:8080/"
        },
        "id": "i_as7SJ2PpbX",
        "outputId": "8c52ab7b-9210-4263-cc6e-b5025748f937"
      },
      "execution_count": 34,
      "outputs": [
        {
          "output_type": "execute_result",
          "data": {
            "text/plain": [
              "array([0.05969231, 0.20238462, 0.049     ])"
            ]
          },
          "metadata": {},
          "execution_count": 34
        }
      ]
    },
    {
      "cell_type": "markdown",
      "source": [
        "위 분석을 통해서 모델에서 어떤 특성에 관심을 둘지 예상 가능."
      ],
      "metadata": {
        "id": "o4X0ScVNPuM9"
      }
    },
    {
      "cell_type": "code",
      "source": [
        "# 히스토그램 기반 그레이디언트 사용해서 테스트데이터 성능 확인\n",
        "hgb.score(test_input, test_target)"
      ],
      "metadata": {
        "colab": {
          "base_uri": "https://localhost:8080/"
        },
        "id": "pEmPoRNGPqTm",
        "outputId": "ec065ccf-cb4a-4957-dde3-441bec5e4dac"
      },
      "execution_count": 35,
      "outputs": [
        {
          "output_type": "execute_result",
          "data": {
            "text/plain": [
              "0.8723076923076923"
            ]
          },
          "metadata": {},
          "execution_count": 35
        }
      ]
    },
    {
      "cell_type": "markdown",
      "source": [
        "### XGBoost\n",
        "- 교차검증 사용 가능.\n",
        "- 그래디언트 부스팅 업그레이드 한 모델."
      ],
      "metadata": {
        "id": "lXE_wfZuRDMr"
      }
    },
    {
      "cell_type": "code",
      "source": [
        "from xgboost import XGBClassifier\n",
        "\n",
        "xgb = XGBClassifier(tree_method='hist', random_state=42)\n",
        "score = cross_validate(xgb, train_input, train_target, return_train_score=True)"
      ],
      "metadata": {
        "id": "Q0a3UXhYQ92O"
      },
      "execution_count": 36,
      "outputs": []
    },
    {
      "cell_type": "code",
      "source": [
        "print('train 스코어 : ', np.mean(score['train_score']), '\\ntest 스코어 : ', np.mean(score['test_score']))"
      ],
      "metadata": {
        "colab": {
          "base_uri": "https://localhost:8080/"
        },
        "id": "FCrr0GFeR7x-",
        "outputId": "bee784ce-7b81-4ea2-a714-1a966b4cf9e0"
      },
      "execution_count": 37,
      "outputs": [
        {
          "output_type": "stream",
          "name": "stdout",
          "text": [
            "train 스코어 :  0.9558403027491312 \n",
            "test 스코어 :  0.8782000074035686\n"
          ]
        }
      ]
    },
    {
      "cell_type": "markdown",
      "source": [
        "### LightGBM\n",
        "- 빠르고 최신 기술을 많이 적용"
      ],
      "metadata": {
        "id": "R4_Hwu8nSA1t"
      }
    },
    {
      "cell_type": "code",
      "source": [
        "from lightgbm import LGBMClassifier\n",
        "lgb = LGBMClassifier(random_state=42, force_col_wise=True)\n",
        "score = cross_validate(lgb, train_input, train_target, return_train_score=True)"
      ],
      "metadata": {
        "colab": {
          "base_uri": "https://localhost:8080/"
        },
        "id": "RB2QtUT7R9xe",
        "outputId": "0d2bd7cd-265b-469f-e17b-26b875203b38"
      },
      "execution_count": 43,
      "outputs": [
        {
          "output_type": "stream",
          "name": "stdout",
          "text": [
            "[LightGBM] [Info] Number of positive: 3151, number of negative: 1006\n",
            "[LightGBM] [Info] Total Bins 372\n",
            "[LightGBM] [Info] Number of data points in the train set: 4157, number of used features: 3\n",
            "[LightGBM] [Info] [binary:BoostFromScore]: pavg=0.757999 -> initscore=1.141738\n",
            "[LightGBM] [Info] Start training from score 1.141738\n",
            "[LightGBM] [Info] Number of positive: 3151, number of negative: 1006\n",
            "[LightGBM] [Info] Total Bins 370\n",
            "[LightGBM] [Info] Number of data points in the train set: 4157, number of used features: 3\n",
            "[LightGBM] [Info] [binary:BoostFromScore]: pavg=0.757999 -> initscore=1.141738\n",
            "[LightGBM] [Info] Start training from score 1.141738\n",
            "[LightGBM] [Info] Number of positive: 3151, number of negative: 1007\n",
            "[LightGBM] [Info] Total Bins 373\n",
            "[LightGBM] [Info] Number of data points in the train set: 4158, number of used features: 3\n",
            "[LightGBM] [Info] [binary:BoostFromScore]: pavg=0.757816 -> initscore=1.140744\n",
            "[LightGBM] [Info] Start training from score 1.140744\n",
            "[LightGBM] [Info] Number of positive: 3151, number of negative: 1007\n",
            "[LightGBM] [Info] Total Bins 372\n",
            "[LightGBM] [Info] Number of data points in the train set: 4158, number of used features: 3\n",
            "[LightGBM] [Info] [binary:BoostFromScore]: pavg=0.757816 -> initscore=1.140744\n",
            "[LightGBM] [Info] Start training from score 1.140744\n",
            "[LightGBM] [Info] Number of positive: 3152, number of negative: 1006\n",
            "[LightGBM] [Info] Total Bins 371\n",
            "[LightGBM] [Info] Number of data points in the train set: 4158, number of used features: 3\n",
            "[LightGBM] [Info] [binary:BoostFromScore]: pavg=0.758057 -> initscore=1.142055\n",
            "[LightGBM] [Info] Start training from score 1.142055\n"
          ]
        }
      ]
    },
    {
      "cell_type": "code",
      "source": [
        "print('train 스코어 : ', np.mean(score['train_score']), '\\ntest 스코어 : ', np.mean(score['test_score']))"
      ],
      "metadata": {
        "colab": {
          "base_uri": "https://localhost:8080/"
        },
        "id": "t1mpo8lRSdG2",
        "outputId": "9df64807-d303-4de6-b295-e9b54d501ac0"
      },
      "execution_count": 44,
      "outputs": [
        {
          "output_type": "stream",
          "name": "stdout",
          "text": [
            "train 스코어 :  0.935828414851749 \n",
            "test 스코어 :  0.8801251203079884\n"
          ]
        }
      ]
    }
  ]
}