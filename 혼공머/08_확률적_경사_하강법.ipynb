{
  "nbformat": 4,
  "nbformat_minor": 0,
  "metadata": {
    "colab": {
      "provenance": [],
      "authorship_tag": "ABX9TyMKZxIBNgl7QYYKSVOaL+uU",
      "include_colab_link": true
    },
    "kernelspec": {
      "name": "python3",
      "display_name": "Python 3"
    },
    "language_info": {
      "name": "python"
    }
  },
  "cells": [
    {
      "cell_type": "markdown",
      "metadata": {
        "id": "view-in-github",
        "colab_type": "text"
      },
      "source": [
        "<a href=\"https://colab.research.google.com/github/yangjik/yang.study/blob/main/08_%ED%99%95%EB%A5%A0%EC%A0%81_%EA%B2%BD%EC%82%AC_%ED%95%98%EA%B0%95%EB%B2%95.ipynb\" target=\"_parent\"><img src=\"https://colab.research.google.com/assets/colab-badge.svg\" alt=\"Open In Colab\"/></a>"
      ]
    },
    {
      "cell_type": "markdown",
      "source": [
        "<h3>점진적 학습</h3>\n",
        "기존 훈련한 모델을 버리지 않고 새로운 데이터에 대해서만 훈련한다.<br>\n",
        "대표적인 점진적 학습 알고리즘은 '확률적 경사 하강법' 이다.\n",
        "<br><br>\n",
        "<h3>확률적 경사 하강법</h3>\n",
        "랜덤으로 학습용데이터에서 하나 추출후 하강하면서 학습을 진행한다.\n",
        "<br>여러개의 데이터를 추출후 하강하면서 학습을 진행하는 방법은 <br>\n",
        "미니배치 경사 하강법 이다.\n"
      ],
      "metadata": {
        "id": "GT4ZBi-syrpQ"
      }
    },
    {
      "cell_type": "code",
      "source": [
        "import pandas as pd\n",
        "\n",
        "fish = pd.read_csv('https://bit.ly/fish_csv_data')      # 사전 데이터 준비"
      ],
      "metadata": {
        "id": "NbIXs4riyFic"
      },
      "execution_count": null,
      "outputs": []
    },
    {
      "cell_type": "code",
      "source": [
        "fish_input = fish[['Weight', 'Length', 'Diagonal', 'Height', 'Width']].to_numpy()\n",
        "fish_target = fish['Species'].to_numpy()"
      ],
      "metadata": {
        "id": "vryrYBtXyFgV"
      },
      "execution_count": null,
      "outputs": []
    },
    {
      "cell_type": "code",
      "source": [
        "# train, test 데이터 분리\n",
        "from sklearn.model_selection import train_test_split\n",
        "\n",
        "train_input, test_input, train_target, test_target = train_test_split(fish_input, fish_target, random_state=42)"
      ],
      "metadata": {
        "id": "JH0a6x1VyFeP"
      },
      "execution_count": null,
      "outputs": []
    },
    {
      "cell_type": "code",
      "source": [
        "# 데이터 전처리\n",
        "from sklearn.preprocessing import StandardScaler\n",
        "ss = StandardScaler()\n",
        "ss.fit(train_input)\n",
        "\n",
        "train_scaled = ss.transform(train_input)    # train_input 데이터 표준화\n",
        "test_scaled = ss.transform(test_input)      # test_input 데이터 표준화"
      ],
      "metadata": {
        "id": "2un7EVYlyFcA"
      },
      "execution_count": null,
      "outputs": []
    },
    {
      "cell_type": "code",
      "source": [
        "# 확률적 경사 하강법\n",
        "from sklearn.linear_model import SGDClassifier\n",
        "\n",
        "sc = SGDClassifier(loss='log', max_iter=10, random_state=42)    # 객체 만들 때 2개의 매개변수 지정. loss = '손실 함수의 종류 지정', max_iter = '에포크 횟수(반복횟수)를 지정'\n",
        "sc.fit(train_scaled, train_target)\n",
        "\n",
        "print('trian score : ', sc.score(train_scaled, train_target))\n",
        "print('test score : ', sc.score(test_scaled, test_target))\n",
        "\n",
        "# 아래 경고문은 max_iter='' 값을 증가시키면된다"
      ],
      "metadata": {
        "colab": {
          "base_uri": "https://localhost:8080/"
        },
        "id": "7pDgyaBeyFaB",
        "outputId": "1f23f38b-6ec0-433c-ebd7-2645e9b01613"
      },
      "execution_count": null,
      "outputs": [
        {
          "output_type": "stream",
          "name": "stdout",
          "text": [
            "trian score :  0.773109243697479\n",
            "test score :  0.775\n"
          ]
        },
        {
          "output_type": "stream",
          "name": "stderr",
          "text": [
            "/usr/local/lib/python3.10/dist-packages/sklearn/linear_model/_stochastic_gradient.py:163: FutureWarning: The loss 'log' was deprecated in v1.1 and will be removed in version 1.3. Use `loss='log_loss'` which is equivalent.\n",
            "  warnings.warn(\n",
            "/usr/local/lib/python3.10/dist-packages/sklearn/linear_model/_stochastic_gradient.py:702: ConvergenceWarning: Maximum number of iteration reached before convergence. Consider increasing max_iter to improve the fit.\n",
            "  warnings.warn(\n"
          ]
        }
      ]
    },
    {
      "cell_type": "code",
      "source": [
        "# 점진적 학습시켜보기\n",
        "sc.partial_fit(train_scaled, train_target)\n",
        "print('trian score : ', sc.score(train_scaled, train_target))\n",
        "print('test score : ', sc.score(test_scaled, test_target))"
      ],
      "metadata": {
        "colab": {
          "base_uri": "https://localhost:8080/"
        },
        "id": "4V1sRTW7yFXp",
        "outputId": "a07a3ba9-5840-4e07-b8cb-bfd3acd8010a"
      },
      "execution_count": null,
      "outputs": [
        {
          "output_type": "stream",
          "name": "stdout",
          "text": [
            "trian score :  0.8151260504201681\n",
            "test score :  0.85\n"
          ]
        }
      ]
    },
    {
      "cell_type": "code",
      "source": [
        "# 최적의 에포크 확인하는 방법\n",
        "import numpy as np\n",
        "sc = SGDClassifier(loss='log', random_state=42)\n",
        "train_score = []\n",
        "test_score = []\n",
        "classes = np.unique(train_target)     # train_target에 있는 7개 생선의 목록을 만든다."
      ],
      "metadata": {
        "id": "pUmPHlpTyFVq"
      },
      "execution_count": null,
      "outputs": []
    },
    {
      "cell_type": "code",
      "source": [
        "# 에포크를 300번 훈련시켜서 해당 점수들을 위에 만든 리스트에 추가한다.\n",
        "for _ in range(0, 300):\n",
        "  sc.partial_fit(train_scaled, train_target, classes = classes)\n",
        "  train_score.append(sc.score(train_scaled, train_target))\n",
        "  test_score.append(sc.score(test_scaled, test_target))"
      ],
      "metadata": {
        "colab": {
          "base_uri": "https://localhost:8080/"
        },
        "id": "B2hda3JvyFTF",
        "outputId": "c68f4dcc-802e-4984-cb1e-e39d8f581b43"
      },
      "execution_count": null,
      "outputs": [
        {
          "output_type": "stream",
          "name": "stderr",
          "text": [
            "/usr/local/lib/python3.10/dist-packages/sklearn/linear_model/_stochastic_gradient.py:163: FutureWarning: The loss 'log' was deprecated in v1.1 and will be removed in version 1.3. Use `loss='log_loss'` which is equivalent.\n",
            "  warnings.warn(\n"
          ]
        }
      ]
    },
    {
      "cell_type": "code",
      "source": [
        "# 시각화\n",
        "import matplotlib.pyplot as plt\n",
        "\n",
        "plt.plot(train_score, label='train')\n",
        "plt.plot(test_score, label='test')\n",
        "plt.legend(loc='lower right')\n",
        "plt.xlabel('epoch')\n",
        "plt.ylabel('accuracy')\n",
        "plt.show()"
      ],
      "metadata": {
        "colab": {
          "base_uri": "https://localhost:8080/",
          "height": 449
        },
        "id": "ivh36vMp-hcP",
        "outputId": "74ad8393-5e9d-4061-858e-07c9151f4423"
      },
      "execution_count": null,
      "outputs": [
        {
          "output_type": "display_data",
          "data": {
            "text/plain": [
              "<Figure size 640x480 with 1 Axes>"
            ],
            "image/png": "[encoded data removed]"
          },
          "metadata": {}
        }
      ]
    },
    {
      "cell_type": "code",
      "source": [
        "# 위 그래프 확인시 epoch = 100 일때 train, test 학습률이 점점 멀어지는 추세를 확인할수있다.\n",
        "# max_iter=100으로 하고 학습시키기\n",
        "\n",
        "sc = SGDClassifier(loss='log', max_iter=100, random_state=42, tol=None)     # tol=''  <- 의미는 loss 값이 가장 낮을때...?, ex) 에포크가 100인데 그전에 loss 값이 tol 값 보다 클때까지 반복함.\n",
        "sc.fit(train_scaled, train_target)\n",
        "\n",
        "print('trian score : ', sc.score(train_scaled, train_target))\n",
        "print('test score : ', sc.score(test_scaled, test_target))"
      ],
      "metadata": {
        "colab": {
          "base_uri": "https://localhost:8080/"
        },
        "id": "WUpHbzSE-hZ-",
        "outputId": "8f4025c7-f5e6-462c-d067-5a4af257c893"
      },
      "execution_count": null,
      "outputs": [
        {
          "output_type": "stream",
          "name": "stdout",
          "text": [
            "trian score :  0.957983193277311\n",
            "test score :  0.925\n"
          ]
        },
        {
          "output_type": "stream",
          "name": "stderr",
          "text": [
            "/usr/local/lib/python3.10/dist-packages/sklearn/linear_model/_stochastic_gradient.py:163: FutureWarning: The loss 'log' was deprecated in v1.1 and will be removed in version 1.3. Use `loss='log_loss'` which is equivalent.\n",
            "  warnings.warn(\n"
          ]
        }
      ]
    },
    {
      "cell_type": "code",
      "source": [
        "# loss매개변수 기본값 hinge => 서포트 벡터 머신\n",
        "sc = SGDClassifier(loss='hinge', max_iter=100, random_state=42, tol=None)\n",
        "sc.fit(train_scaled, train_target)\n",
        "\n",
        "print('trian score : ', sc.score(train_scaled, train_target))\n",
        "print('test score : ', sc.score(test_scaled, test_target))"
      ],
      "metadata": {
        "colab": {
          "base_uri": "https://localhost:8080/"
        },
        "id": "4IYr6qhR-hX3",
        "outputId": "14a2627e-ba65-48cc-d05a-48bce79df462"
      },
      "execution_count": null,
      "outputs": [
        {
          "output_type": "stream",
          "name": "stdout",
          "text": [
            "trian score :  0.9495798319327731\n",
            "test score :  0.925\n"
          ]
        }
      ]
    },
    {
      "cell_type": "markdown",
      "source": [],
      "metadata": {
        "id": "Mn8OwmbIEfN0"
      }
    }
  ]
}