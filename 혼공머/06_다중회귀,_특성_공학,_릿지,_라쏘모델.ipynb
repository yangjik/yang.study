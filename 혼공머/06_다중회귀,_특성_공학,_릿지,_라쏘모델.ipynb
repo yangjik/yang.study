{
  "nbformat": 4,
  "nbformat_minor": 0,
  "metadata": {
    "colab": {
      "provenance": [],
      "authorship_tag": "ABX9TyPYoM+lmIORd6NQNPpSOzjK",
      "include_colab_link": true
    },
    "kernelspec": {
      "name": "python3",
      "display_name": "Python 3"
    },
    "language_info": {
      "name": "python"
    }
  },
  "cells": [
    {
      "cell_type": "markdown",
      "metadata": {
        "id": "view-in-github",
        "colab_type": "text"
      },
      "source": [
        "<a href=\"https://colab.research.google.com/github/yangjik/yang.study/blob/main/06_%EB%8B%A4%EC%A4%91%ED%9A%8C%EA%B7%80%2C_%ED%8A%B9%EC%84%B1_%EA%B3%B5%ED%95%99%2C_%EB%A6%BF%EC%A7%80%2C_%EB%9D%BC%EC%8F%98%EB%AA%A8%EB%8D%B8.ipynb\" target=\"_parent\"><img src=\"https://colab.research.google.com/assets/colab-badge.svg\" alt=\"Open In Colab\"/></a>"
      ]
    },
    {
      "cell_type": "markdown",
      "source": [
        "<h3>다중 회귀</h3>\n",
        "\n",
        "- 여러 개의 특성을 사용하여 선형 회귀를 수행하는 것이다.\n",
        "-"
      ],
      "metadata": {
        "id": "I3ZxP_q45fhj"
      }
    },
    {
      "cell_type": "code",
      "execution_count": null,
      "metadata": {
        "colab": {
          "base_uri": "https://localhost:8080/"
        },
        "id": "bpjhMuaH162r",
        "outputId": "1900a0cc-b7c2-41ed-cece-db05b734cd08"
      },
      "outputs": [
        {
          "output_type": "stream",
          "name": "stdout",
          "text": [
            "[[ 8.4   2.11  1.41]\n",
            " [13.7   3.53  2.  ]\n",
            " [15.    3.82  2.43]\n",
            " [16.2   4.59  2.63]\n",
            " [17.4   4.59  2.94]\n",
            " [18.    5.22  3.32]\n",
            " [18.7   5.2   3.12]\n",
            " [19.    5.64  3.05]\n",
            " [19.6   5.14  3.04]\n",
            " [20.    5.08  2.77]\n",
            " [21.    5.69  3.56]\n",
            " [21.    5.92  3.31]\n",
            " [21.    5.69  3.67]\n",
            " [21.3   6.38  3.53]\n",
            " [22.    6.11  3.41]\n",
            " [22.    5.64  3.52]\n",
            " [22.    6.11  3.52]\n",
            " [22.    5.88  3.52]\n",
            " [22.    5.52  4.  ]\n",
            " [22.5   5.86  3.62]\n",
            " [22.5   6.79  3.62]\n",
            " [22.7   5.95  3.63]\n",
            " [23.    5.22  3.63]\n",
            " [23.5   6.28  3.72]\n",
            " [24.    7.29  3.72]\n",
            " [24.    6.38  3.82]\n",
            " [24.6   6.73  4.17]\n",
            " [25.    6.44  3.68]\n",
            " [25.6   6.56  4.24]\n",
            " [26.5   7.17  4.14]\n",
            " [27.3   8.32  5.14]\n",
            " [27.5   7.17  4.34]\n",
            " [27.5   7.05  4.34]\n",
            " [27.5   7.28  4.57]\n",
            " [28.    7.82  4.2 ]\n",
            " [28.7   7.59  4.64]\n",
            " [30.    7.62  4.77]\n",
            " [32.8  10.03  6.02]\n",
            " [34.5  10.26  6.39]\n",
            " [35.   11.49  7.8 ]\n",
            " [36.5  10.88  6.86]\n",
            " [36.   10.61  6.74]\n",
            " [37.   10.84  6.26]\n",
            " [37.   10.57  6.37]\n",
            " [39.   11.14  7.49]\n",
            " [39.   11.14  6.  ]\n",
            " [39.   12.43  7.35]\n",
            " [40.   11.93  7.11]\n",
            " [40.   11.73  7.22]\n",
            " [40.   12.38  7.46]\n",
            " [40.   11.14  6.63]\n",
            " [42.   12.8   6.87]\n",
            " [43.   11.93  7.28]\n",
            " [43.   12.51  7.42]\n",
            " [43.5  12.6   8.14]\n",
            " [44.   12.49  7.6 ]]\n"
          ]
        }
      ],
      "source": [
        "# 사전데이터 준비 - 웹사이트 통해서 가져오기\n",
        "import pandas as pd\n",
        "\n",
        "df = pd.read_csv('https://bit.ly/perch_csv_data')\n",
        "perch_full = df.to_numpy()\n",
        "print(perch_full)"
      ]
    },
    {
      "cell_type": "code",
      "source": [
        "# 사전데이터 준비 - numpy 통해서 직접 입력\n",
        "import numpy as np\n",
        "perch_weight = np.array([5.9, 32.0, 40.0, 51.5, 70.0, 100.0, 78.0, 80.0, 85.0, 85.0, 110.0,\n",
        "       115.0, 125.0, 130.0, 120.0, 120.0, 130.0, 135.0, 110.0, 130.0,\n",
        "       150.0, 145.0, 150.0, 170.0, 225.0, 145.0, 188.0, 180.0, 197.0,\n",
        "       218.0, 300.0, 260.0, 265.0, 250.0, 250.0, 300.0, 320.0, 514.0,\n",
        "       556.0, 840.0, 685.0, 700.0, 700.0, 690.0, 900.0, 650.0, 820.0,\n",
        "       850.0, 900.0, 1015.0, 820.0, 1100.0, 1000.0, 1100.0, 1000.0,\n",
        "       1000.0])"
      ],
      "metadata": {
        "id": "ujK_u0AM51iN"
      },
      "execution_count": null,
      "outputs": []
    },
    {
      "cell_type": "code",
      "source": [
        "# train, test 데이터로 분리\n",
        "from sklearn.model_selection import train_test_split\n",
        "\n",
        "train_input, test_input, train_target, test_target = train_test_split(perch_full, perch_weight, random_state=42)"
      ],
      "metadata": {
        "id": "idGpSK7951gR"
      },
      "execution_count": null,
      "outputs": []
    },
    {
      "cell_type": "code",
      "source": [
        "# 특성을 만들거가 전처리 하귀 위한 사이킷런의 변환기 - PolynomialFeatures\n",
        "from sklearn.preprocessing import PolynomialFeatures\n",
        "\n",
        "poly = PolynomialFeatures()\n",
        "poly.fit([[2, 3]])                  # 2개의 특성2, 3 으로 이루어진 셈플적용\n",
        "print(poly.transform([[2, 3]]))"
      ],
      "metadata": {
        "colab": {
          "base_uri": "https://localhost:8080/"
        },
        "id": "12SIRkWD51eK",
        "outputId": "7dbef419-25c6-4be2-b083-b5c7baa94fec"
      },
      "execution_count": null,
      "outputs": [
        {
          "output_type": "stream",
          "name": "stdout",
          "text": [
            "[[1. 2. 3. 4. 6. 9.]]\n"
          ]
        }
      ]
    },
    {
      "cell_type": "code",
      "source": [
        "poly = PolynomialFeatures(include_bias=False)   # 사이킷런의 선형 모델은 자동으로 절편을 추가하므로 사용안해도된다.\n",
        "poly.fit([[2, 3]])\n",
        "print(poly.transform([[2, 3]]))"
      ],
      "metadata": {
        "id": "g8sKCMkL51cF",
        "colab": {
          "base_uri": "https://localhost:8080/"
        },
        "outputId": "9cb1a501-2feb-4243-a4a0-7a6eaac83c14"
      },
      "execution_count": null,
      "outputs": [
        {
          "output_type": "stream",
          "name": "stdout",
          "text": [
            "[[2. 3. 4. 6. 9.]]\n"
          ]
        }
      ]
    },
    {
      "cell_type": "code",
      "source": [
        "# train_input 데이터 변환\n",
        "poly = PolynomialFeatures(include_bias=False)\n",
        "poly.fit(train_input)\n",
        "train_poly = poly.transform(train_input)\n",
        "train_poly.shape"
      ],
      "metadata": {
        "id": "R1ZKYWB_51Zm",
        "colab": {
          "base_uri": "https://localhost:8080/"
        },
        "outputId": "953e76a3-5619-468c-d0cb-60d631dcb297"
      },
      "execution_count": null,
      "outputs": [
        {
          "output_type": "execute_result",
          "data": {
            "text/plain": [
              "(42, 9)"
            ]
          },
          "metadata": {},
          "execution_count": 6
        }
      ]
    },
    {
      "cell_type": "code",
      "source": [
        "# 특성확인하기\n",
        "poly.get_feature_names_out()"
      ],
      "metadata": {
        "id": "YseLAgx651Xe",
        "colab": {
          "base_uri": "https://localhost:8080/"
        },
        "outputId": "c28e2d3c-47bc-4902-f042-913d900ee4b2"
      },
      "execution_count": null,
      "outputs": [
        {
          "output_type": "execute_result",
          "data": {
            "text/plain": [
              "array(['x0', 'x1', 'x2', 'x0^2', 'x0 x1', 'x0 x2', 'x1^2', 'x1 x2',\n",
              "       'x2^2'], dtype=object)"
            ]
          },
          "metadata": {},
          "execution_count": 7
        }
      ]
    },
    {
      "cell_type": "markdown",
      "source": [
        "['x0', 'x1', 'x2', 'x0^2', 'x0 x1', 'x0 x2', 'x1^2', 'x1 x2',\n",
        "       'x2^2']<br>\n",
        "x0는 첫번째 특성을 의미, x0^2 첫번째 특성의 제곱, x0 x1은 첫번쨰 특성과 두번째 특성의 곱을 나타내는 식."
      ],
      "metadata": {
        "id": "udSDTjFS3pqn"
      }
    },
    {
      "cell_type": "code",
      "source": [
        "# 변환된 특성만들기\n",
        "test_poly = poly.transform(test_input)"
      ],
      "metadata": {
        "id": "YQatiEWH4QAd"
      },
      "execution_count": null,
      "outputs": []
    },
    {
      "cell_type": "code",
      "source": [
        "# 다중 회귀 모델 훈련하기\n",
        "from sklearn.linear_model import LinearRegression\n",
        "lr = LinearRegression()\n",
        "lr.fit(train_poly, train_target)\n",
        "print(lr.score(train_poly, train_target))"
      ],
      "metadata": {
        "colab": {
          "base_uri": "https://localhost:8080/"
        },
        "id": "2pQyhJVB4P-X",
        "outputId": "c4c11c1b-de52-4ccf-d228-ec0feb048e9f"
      },
      "execution_count": null,
      "outputs": [
        {
          "output_type": "stream",
          "name": "stdout",
          "text": [
            "0.9903183436982125\n"
          ]
        }
      ]
    },
    {
      "cell_type": "code",
      "source": [
        "lr.score(test_poly, test_target)\n",
        "\n",
        "#  ↓ 결과는 과소적합 문제는 더이상 발생 안함."
      ],
      "metadata": {
        "colab": {
          "base_uri": "https://localhost:8080/"
        },
        "id": "tp6UvET84P5b",
        "outputId": "eda1c8ea-0d03-45fd-936c-f365cc652c22"
      },
      "execution_count": null,
      "outputs": [
        {
          "output_type": "execute_result",
          "data": {
            "text/plain": [
              "0.9714559911594111"
            ]
          },
          "metadata": {},
          "execution_count": 13
        }
      ]
    },
    {
      "cell_type": "code",
      "source": [
        "# 특성을 추가하기.\n",
        "# PolynomialFeatures 클래스의 degree 매개변수를 사용하여 필요한 고차항의 최대 차수를 지정\n",
        "poly = PolynomialFeatures(degree = 5, include_bias = False)\n",
        "poly.fit(train_input)\n",
        "train_poly = poly.transform(train_input)\n",
        "test_poly = poly.transform(test_input)\n",
        "\n",
        "print(train_poly.shape)"
      ],
      "metadata": {
        "colab": {
          "base_uri": "https://localhost:8080/"
        },
        "id": "LKJBsX3h4Pnv",
        "outputId": "ba4abab8-d4fd-483f-b2a6-5de621622fdf"
      },
      "execution_count": null,
      "outputs": [
        {
          "output_type": "stream",
          "name": "stdout",
          "text": [
            "(42, 55)\n"
          ]
        }
      ]
    },
    {
      "cell_type": "code",
      "source": [
        "# train_poly의 특성 개수 : 55개\n",
        "lr.fit(train_poly, train_target)\n",
        "print(lr.score(train_poly, train_target))"
      ],
      "metadata": {
        "colab": {
          "base_uri": "https://localhost:8080/"
        },
        "id": "yX9HVYkr-1wY",
        "outputId": "ebf6df02-8ecb-4e2d-f862-025f0d36c1c7"
      },
      "execution_count": null,
      "outputs": [
        {
          "output_type": "stream",
          "name": "stdout",
          "text": [
            "0.9999999999996433\n"
          ]
        }
      ]
    },
    {
      "cell_type": "code",
      "source": [
        "print(lr.score(test_poly, test_target))"
      ],
      "metadata": {
        "colab": {
          "base_uri": "https://localhost:8080/"
        },
        "id": "V8gEe7Be-1uI",
        "outputId": "edc719f5-a017-422d-daab-c1cb7b3b66ca"
      },
      "execution_count": null,
      "outputs": [
        {
          "output_type": "stream",
          "name": "stdout",
          "text": [
            "-144.40579436844948\n"
          ]
        }
      ]
    },
    {
      "cell_type": "markdown",
      "source": [
        "위에 결과를 확인하면 train_poly로 했을땐 완벽했지만<br>\n",
        "test_poly 정확률을 보면 음수가 나왔다... <br>\n",
        "즉. 과대적합으로 되었다는 것이다."
      ],
      "metadata": {
        "id": "IJwTzTBqBhHf"
      }
    },
    {
      "cell_type": "markdown",
      "source": [
        "<br>"
      ],
      "metadata": {
        "id": "vy8BszuxD_qs"
      }
    },
    {
      "cell_type": "markdown",
      "source": [
        "<h3>규제</h3>\n",
        "\n",
        "- 모델이 훈련 세트에 과대적합되지 않도록 만드는 것이다.\n",
        "- 선형 회귀 모델의 경우 특성에 곱해지는 계수(또는 기울기)의 크기를 작게 만드는 일이다.\n"
      ],
      "metadata": {
        "id": "HdlMRQEcDtRA"
      }
    },
    {
      "cell_type": "code",
      "source": [
        "# sklearn에서 제공하는 StandardScaler 사용 -> 표준점수로 변환\n",
        "from sklearn.preprocessing import StandardScaler\n",
        "ss = StandardScaler()                           # 객체 생성\n",
        "ss.fit(train_poly)\n",
        "\n",
        "# 꼭 train 데이터 변환시 test 데이터도 변환하기!!!!\n",
        "train_scaled = ss.transform(train_poly)         # train 데이터 변환\n",
        "test_scaled = ss.transform(test_poly)           # test 데이터 변환"
      ],
      "metadata": {
        "id": "zR6cF9Ds-1sU"
      },
      "execution_count": null,
      "outputs": []
    },
    {
      "cell_type": "code",
      "source": [
        "ss.mean_.shape    # 평균개수 확인"
      ],
      "metadata": {
        "colab": {
          "base_uri": "https://localhost:8080/"
        },
        "id": "EBBFzGTaE6qY",
        "outputId": "270057a1-9eab-47ec-f924-7517f80ec7bb"
      },
      "execution_count": null,
      "outputs": [
        {
          "output_type": "execute_result",
          "data": {
            "text/plain": [
              "(55,)"
            ]
          },
          "metadata": {},
          "execution_count": 21
        }
      ]
    },
    {
      "cell_type": "markdown",
      "source": [
        "<h3>릿지 회귀</h3>\n",
        "\n",
        "- 계수를 제곱한 값을 기준으로 규제를 적용한다.\n",
        "<br><br>"
      ],
      "metadata": {
        "id": "K5_89vI1FhcM"
      }
    },
    {
      "cell_type": "code",
      "source": [
        "# 릿지 모델로 학습후 정확률\n",
        "from sklearn.linear_model import Ridge\n",
        "ridge = Ridge()                         # 객체 생성\n",
        "ridge.fit(train_scaled, train_target)   # train 데이터 학습\n",
        "ridge.score(train_scaled, train_target) # train 정확률"
      ],
      "metadata": {
        "colab": {
          "base_uri": "https://localhost:8080/"
        },
        "id": "R93ECz9RGEx0",
        "outputId": "eacb8225-1e1a-4c19-e387-6e06c87e9b86"
      },
      "execution_count": null,
      "outputs": [
        {
          "output_type": "execute_result",
          "data": {
            "text/plain": [
              "0.9896101671037343"
            ]
          },
          "metadata": {},
          "execution_count": 23
        }
      ]
    },
    {
      "cell_type": "code",
      "source": [
        "# test 데이터 정확률\n",
        "ridge.score(test_scaled, test_target)   # test 정확률"
      ],
      "metadata": {
        "colab": {
          "base_uri": "https://localhost:8080/"
        },
        "id": "fbLiCDZZGErG",
        "outputId": "8d6c13f5-983a-4803-cf77-ed69b1e5ba25"
      },
      "execution_count": null,
      "outputs": [
        {
          "output_type": "execute_result",
          "data": {
            "text/plain": [
              "0.9790693977615387"
            ]
          },
          "metadata": {},
          "execution_count": 24
        }
      ]
    },
    {
      "cell_type": "markdown",
      "source": [
        "너무 과대적합 발생은 안생김.<br>\n",
        "규제의 양을 임의로 조절가능.<br>\n",
        "모델 객체생성시 alpha 값을 조절해서 규제 강도 조절가능. <br>alpha값이 크면 규제 강도 크고, 값이 작으면 규제 강도는 작다.<br>\n",
        "alpha <= 하이퍼파라미터이므로 사람이 직접 조절해주는 것이다.<br><br>"
      ],
      "metadata": {
        "id": "tSyMQUWoG67F"
      }
    },
    {
      "cell_type": "markdown",
      "source": [
        "<h3>적절한 alpha 값 찾기.</h3>\n",
        "\n",
        "- alpha 값에 대한 결정계수 값의 그래프를 그려보기."
      ],
      "metadata": {
        "id": "LSG_PW9TH9v2"
      }
    },
    {
      "cell_type": "code",
      "source": [
        "import matplotlib.pyplot as plt\n",
        "\n",
        "train_score = []\n",
        "test_score = []"
      ],
      "metadata": {
        "id": "9ggz9NavGEoY"
      },
      "execution_count": null,
      "outputs": []
    },
    {
      "cell_type": "code",
      "source": [
        "alpha_list = [0.001, 0.01, 0.1, 1, 10, 100]\n",
        "for alpha in alpha_list:\n",
        "  # 릿지 모델 만들기\n",
        "  ridge = Ridge(alpha=alpha)\n",
        "  # 릿지 모델을 훈련\n",
        "  ridge.fit(train_scaled, train_target)\n",
        "  # 훈련 점수와 테스트 점수 저장\n",
        "  train_score.append(ridge.score(train_scaled, train_target))\n",
        "  test_score.append(ridge.score(test_scaled, test_target))\n"
      ],
      "metadata": {
        "id": "pKPSN3CnIXmm"
      },
      "execution_count": null,
      "outputs": []
    },
    {
      "cell_type": "code",
      "source": [
        "# numpy 에서 np.log() / np.log10() 이렇게 두가지가 있다.\n",
        "plt.plot(np.log10(alpha_list), train_score, label='train')\n",
        "plt.plot(np.log10(alpha_list), test_score, label='test')\n",
        "plt.xlabel('alpha')\n",
        "plt.ylabel('R²')\n",
        "plt.legend()\n",
        "plt.show()"
      ],
      "metadata": {
        "colab": {
          "base_uri": "https://localhost:8080/",
          "height": 449
        },
        "id": "h3sSqmohIXeW",
        "outputId": "51dc03d4-969a-4edb-df6b-594b53647920"
      },
      "execution_count": null,
      "outputs": [
        {
          "output_type": "display_data",
          "data": {
            "text/plain": [
              "<Figure size 640x480 with 1 Axes>"
            ],
            "image/png": "[encoded data removed]"
          },
          "metadata": {}
        }
      ]
    },
    {
      "cell_type": "code",
      "source": [
        "# 그래프에서 동시에 값이 떨어지는 위치는 -1이므로 알파 값을 0.1로 둔다.\n",
        "ridge = Ridge(alpha = 0.1)\n",
        "ridge.fit(train_scaled, train_target)\n",
        "print(ridge.score(train_scaled, train_target))\n",
        "print(ridge.score(test_scaled, test_target))\n",
        "# 결과는 과대적합 과소적합 균형을 맞추고있다."
      ],
      "metadata": {
        "colab": {
          "base_uri": "https://localhost:8080/"
        },
        "id": "Yu-i3aaoMxB_",
        "outputId": "e4a1773e-0dde-44d1-fa69-e8afa836818c"
      },
      "execution_count": null,
      "outputs": [
        {
          "output_type": "stream",
          "name": "stdout",
          "text": [
            "0.9903815817570367\n",
            "0.9827976465386928\n"
          ]
        }
      ]
    },
    {
      "cell_type": "markdown",
      "source": [
        "<br><br>\n"
      ],
      "metadata": {
        "id": "OdMjWHI2NGiC"
      }
    },
    {
      "cell_type": "markdown",
      "source": [
        "<h3>라쏘 회귀</h3>\n",
        "\n",
        "- 계수의 절댓값을 기준으로 규제를 적용한다.\n",
        "- 계수의 크기를  0으로 만들 수도 있다.\n",
        "<br><br>"
      ],
      "metadata": {
        "id": "monjFxGYFwwi"
      }
    },
    {
      "cell_type": "code",
      "source": [
        "# Ridge 에서 Lasso 로 바꾸는 것이 전부이다.\n",
        "from sklearn.linear_model import Lasso\n",
        "lasso = Lasso()\n",
        "lasso.fit(train_scaled, train_target)\n",
        "print(lasso.score(train_scaled, train_target))"
      ],
      "metadata": {
        "colab": {
          "base_uri": "https://localhost:8080/"
        },
        "id": "3U23AeHzE6n6",
        "outputId": "eba117b8-bc40-4b1d-c975-4315ee281a93"
      },
      "execution_count": null,
      "outputs": [
        {
          "output_type": "stream",
          "name": "stdout",
          "text": [
            "0.989789897208096\n"
          ]
        }
      ]
    },
    {
      "cell_type": "code",
      "source": [
        "lasso.score(test_scaled, test_target)"
      ],
      "metadata": {
        "colab": {
          "base_uri": "https://localhost:8080/"
        },
        "id": "Gk437wtcNp2f",
        "outputId": "4788204a-06b3-4675-ec63-700f12a22b87"
      },
      "execution_count": null,
      "outputs": [
        {
          "output_type": "execute_result",
          "data": {
            "text/plain": [
              "0.9800593698421883"
            ]
          },
          "metadata": {},
          "execution_count": 36
        }
      ]
    },
    {
      "cell_type": "code",
      "source": [
        "# 규제\n",
        "train_score = []\n",
        "test_score = []\n",
        "alpha_list = [0.001, 0.01, 0.1, 1, 10, 100]\n",
        "for alpha in alpha_list:\n",
        "  # 객체 생성\n",
        "  lasso = Lasso(alpha = alpha, max_iter=10000)\n",
        "  # 모델 학습\n",
        "  lasso.fit(train_scaled, train_target)\n",
        "  # 정확률 저장\n",
        "  train_score.append(lasso.score(train_scaled, train_target))\n",
        "  test_score.append(lasso.score(test_scaled, test_target))"
      ],
      "metadata": {
        "colab": {
          "base_uri": "https://localhost:8080/"
        },
        "id": "p_xCXZKlNp0P",
        "outputId": "5777eaf3-55f5-4dfb-b7aa-2776861bd6d2"
      },
      "execution_count": null,
      "outputs": [
        {
          "output_type": "stream",
          "name": "stderr",
          "text": [
            "/usr/local/lib/python3.10/dist-packages/sklearn/linear_model/_coordinate_descent.py:631: ConvergenceWarning: Objective did not converge. You might want to increase the number of iterations, check the scale of the features or consider increasing regularisation. Duality gap: 1.878e+04, tolerance: 5.183e+02\n",
            "  model = cd_fast.enet_coordinate_descent(\n",
            "/usr/local/lib/python3.10/dist-packages/sklearn/linear_model/_coordinate_descent.py:631: ConvergenceWarning: Objective did not converge. You might want to increase the number of iterations, check the scale of the features or consider increasing regularisation. Duality gap: 1.297e+04, tolerance: 5.183e+02\n",
            "  model = cd_fast.enet_coordinate_descent(\n"
          ]
        }
      ]
    },
    {
      "cell_type": "code",
      "source": [
        "plt.plot(np.log10(alpha_list), train_score, label='train')\n",
        "plt.plot(np.log10(alpha_list), test_score, label='test')\n",
        "plt.xlabel('alpha')\n",
        "plt.ylabel('R²')\n",
        "plt.legend()\n",
        "plt.show()"
      ],
      "metadata": {
        "colab": {
          "base_uri": "https://localhost:8080/",
          "height": 449
        },
        "id": "ztb8wqZ3NpyK",
        "outputId": "6d7a1f75-36cb-4fac-f8bd-12e0ccdcccd2"
      },
      "execution_count": null,
      "outputs": [
        {
          "output_type": "display_data",
          "data": {
            "text/plain": [
              "<Figure size 640x480 with 1 Axes>"
            ],
            "image/png": "[encoded data removed]"
          },
          "metadata": {}
        }
      ]
    },
    {
      "cell_type": "markdown",
      "source": [
        "위 그래프를 확인하면 동시에 데이터가 감소되는 위치 1 이 최적의 알파값이다.<br>\n",
        "즉 10¹ 이므로 alpha는 10이다."
      ],
      "metadata": {
        "id": "4kJQMV5dPomc"
      }
    },
    {
      "cell_type": "code",
      "source": [
        "# alpha 값 10 으로 모델 학습\n",
        "lasso = Lasso(alpha=10)\n",
        "lasso.fit(train_scaled, train_target)\n",
        "print('train : ',lasso.score(train_scaled, train_target))\n",
        "print('test : ', lasso.score(test_scaled, test_target))\n"
      ],
      "metadata": {
        "colab": {
          "base_uri": "https://localhost:8080/"
        },
        "id": "u5elRRgzNfaV",
        "outputId": "97660ff4-0103-40dd-902c-d8e3a9b658fb"
      },
      "execution_count": null,
      "outputs": [
        {
          "output_type": "stream",
          "name": "stdout",
          "text": [
            "train :  0.9888067471131867\n",
            "test :  0.9824470598706695\n"
          ]
        }
      ]
    },
    {
      "cell_type": "code",
      "source": [
        "# 라쏘 계수를  0으로 할 수있다. lasso.coef_속성에서 0만 추출"
      ],
      "metadata": {
        "id": "7J2NgQFrE6a6"
      },
      "execution_count": null,
      "outputs": []
    },
    {
      "cell_type": "code",
      "source": [
        "np.sum(lasso.coef_ == 0)"
      ],
      "metadata": {
        "colab": {
          "base_uri": "https://localhost:8080/"
        },
        "id": "ZalCpmCvE6ZC",
        "outputId": "20d96829-2d7d-4ef9-949b-00eb7692fd0d"
      },
      "execution_count": null,
      "outputs": [
        {
          "output_type": "execute_result",
          "data": {
            "text/plain": [
              "40"
            ]
          },
          "metadata": {},
          "execution_count": 41
        }
      ]
    }
  ]
}