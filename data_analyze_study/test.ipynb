{
 "cells": [
  {
   "cell_type": "code",
   "execution_count": 2,
   "id": "86f21771",
   "metadata": {},
   "outputs": [
    {
     "data": {
      "text/plain": [
       "{'a': [1, 2, 3], 'b': [4, 5, 6]}"
      ]
     },
     "execution_count": 2,
     "metadata": {},
     "output_type": "execute_result"
    }
   ],
   "source": [
    "de = {\n",
    "    'a' : [1,2,3],\n",
    "    'b' : [4,5,6]\n",
    "}\n",
    "de"
   ]
  },
  {
   "cell_type": "code",
   "execution_count": 4,
   "id": "c132f211",
   "metadata": {},
   "outputs": [
    {
     "data": {
      "text/html": [
       "<div>\n",
       "<style scoped>\n",
       "    .dataframe tbody tr th:only-of-type {\n",
       "        vertical-align: middle;\n",
       "    }\n",
       "\n",
       "    .dataframe tbody tr th {\n",
       "        vertical-align: top;\n",
       "    }\n",
       "\n",
       "    .dataframe thead th {\n",
       "        text-align: right;\n",
       "    }\n",
       "</style>\n",
       "<table border=\"1\" class=\"dataframe\">\n",
       "  <thead>\n",
       "    <tr style=\"text-align: right;\">\n",
       "      <th></th>\n",
       "      <th>a</th>\n",
       "      <th>b</th>\n",
       "    </tr>\n",
       "  </thead>\n",
       "  <tbody>\n",
       "    <tr>\n",
       "      <th>0</th>\n",
       "      <td>1</td>\n",
       "      <td>4</td>\n",
       "    </tr>\n",
       "    <tr>\n",
       "      <th>1</th>\n",
       "      <td>2</td>\n",
       "      <td>5</td>\n",
       "    </tr>\n",
       "    <tr>\n",
       "      <th>2</th>\n",
       "      <td>3</td>\n",
       "      <td>6</td>\n",
       "    </tr>\n",
       "  </tbody>\n",
       "</table>\n",
       "</div>"
      ],
      "text/plain": [
       "   a  b\n",
       "0  1  4\n",
       "1  2  5\n",
       "2  3  6"
      ]
     },
     "execution_count": 4,
     "metadata": {},
     "output_type": "execute_result"
    }
   ],
   "source": [
    "import pandas as pd\n",
    "df = pd.DataFrame(de)\n",
    "df"
   ]
  },
  {
   "cell_type": "code",
   "execution_count": 7,
   "id": "c016a4a2",
   "metadata": {},
   "outputs": [
    {
     "data": {
      "text/plain": [
       "{1: 11, 2: 22}"
      ]
     },
     "execution_count": 7,
     "metadata": {},
     "output_type": "execute_result"
    }
   ],
   "source": [
    "b = {1: 11, 2: 22}\n",
    "b"
   ]
  },
  {
   "cell_type": "code",
   "execution_count": 15,
   "id": "4ffc7030",
   "metadata": {},
   "outputs": [
    {
     "data": {
      "text/plain": [
       "0    1\n",
       "1    2\n",
       "2    3\n",
       "Name: a, dtype: int64"
      ]
     },
     "execution_count": 15,
     "metadata": {},
     "output_type": "execute_result"
    }
   ],
   "source": [
    "df['a']"
   ]
  },
  {
   "cell_type": "code",
   "execution_count": null,
   "id": "c48ad1a0",
   "metadata": {},
   "outputs": [],
   "source": []
  },
  {
   "cell_type": "markdown",
   "id": "e1359ac8",
   "metadata": {},
   "source": [
    "중복제거test"
   ]
  },
  {
   "cell_type": "code",
   "execution_count": 7,
   "id": "52231992",
   "metadata": {},
   "outputs": [],
   "source": [
    "import pandas as pd"
   ]
  },
  {
   "cell_type": "code",
   "execution_count": 11,
   "id": "f1323c5a",
   "metadata": {},
   "outputs": [
    {
     "data": {
      "text/html": [
       "<div>\n",
       "<style scoped>\n",
       "    .dataframe tbody tr th:only-of-type {\n",
       "        vertical-align: middle;\n",
       "    }\n",
       "\n",
       "    .dataframe tbody tr th {\n",
       "        vertical-align: top;\n",
       "    }\n",
       "\n",
       "    .dataframe thead th {\n",
       "        text-align: right;\n",
       "    }\n",
       "</style>\n",
       "<table border=\"1\" class=\"dataframe\">\n",
       "  <thead>\n",
       "    <tr style=\"text-align: right;\">\n",
       "      <th></th>\n",
       "      <th>a</th>\n",
       "      <th>b</th>\n",
       "    </tr>\n",
       "  </thead>\n",
       "  <tbody>\n",
       "    <tr>\n",
       "      <th>0</th>\n",
       "      <td>1</td>\n",
       "      <td>a</td>\n",
       "    </tr>\n",
       "    <tr>\n",
       "      <th>1</th>\n",
       "      <td>2</td>\n",
       "      <td>b</td>\n",
       "    </tr>\n",
       "    <tr>\n",
       "      <th>2</th>\n",
       "      <td>3</td>\n",
       "      <td>c</td>\n",
       "    </tr>\n",
       "    <tr>\n",
       "      <th>3</th>\n",
       "      <td>4</td>\n",
       "      <td>c</td>\n",
       "    </tr>\n",
       "  </tbody>\n",
       "</table>\n",
       "</div>"
      ],
      "text/plain": [
       "   a  b\n",
       "0  1  a\n",
       "1  2  b\n",
       "2  3  c\n",
       "3  4  c"
      ]
     },
     "execution_count": 11,
     "metadata": {},
     "output_type": "execute_result"
    }
   ],
   "source": [
    "df = pd.DataFrame({\n",
    "    'a' : [1, 2, 3, 4],\n",
    "    'b' : ['a', 'b', 'c', 'c']\n",
    "})\n",
    "df"
   ]
  },
  {
   "cell_type": "code",
   "execution_count": 13,
   "id": "5c7a8cfa",
   "metadata": {},
   "outputs": [
    {
     "data": {
      "text/plain": [
       "0    False\n",
       "1    False\n",
       "2    False\n",
       "3     True\n",
       "dtype: bool"
      ]
     },
     "execution_count": 13,
     "metadata": {},
     "output_type": "execute_result"
    }
   ],
   "source": [
    "df.duplicated(subset='b')"
   ]
  },
  {
   "cell_type": "code",
   "execution_count": 15,
   "id": "541d6393",
   "metadata": {
    "scrolled": false
   },
   "outputs": [
    {
     "data": {
      "text/html": [
       "<div>\n",
       "<style scoped>\n",
       "    .dataframe tbody tr th:only-of-type {\n",
       "        vertical-align: middle;\n",
       "    }\n",
       "\n",
       "    .dataframe tbody tr th {\n",
       "        vertical-align: top;\n",
       "    }\n",
       "\n",
       "    .dataframe thead th {\n",
       "        text-align: right;\n",
       "    }\n",
       "</style>\n",
       "<table border=\"1\" class=\"dataframe\">\n",
       "  <thead>\n",
       "    <tr style=\"text-align: right;\">\n",
       "      <th></th>\n",
       "      <th>a</th>\n",
       "      <th>b</th>\n",
       "    </tr>\n",
       "  </thead>\n",
       "  <tbody>\n",
       "    <tr>\n",
       "      <th>0</th>\n",
       "      <td>1</td>\n",
       "      <td>a</td>\n",
       "    </tr>\n",
       "    <tr>\n",
       "      <th>1</th>\n",
       "      <td>2</td>\n",
       "      <td>b</td>\n",
       "    </tr>\n",
       "    <tr>\n",
       "      <th>3</th>\n",
       "      <td>4</td>\n",
       "      <td>c</td>\n",
       "    </tr>\n",
       "  </tbody>\n",
       "</table>\n",
       "</div>"
      ],
      "text/plain": [
       "   a  b\n",
       "0  1  a\n",
       "1  2  b\n",
       "3  4  c"
      ]
     },
     "execution_count": 15,
     "metadata": {},
     "output_type": "execute_result"
    }
   ],
   "source": [
    "df = df.drop_duplicates(subset='b', keep='last')\n",
    "df"
   ]
  },
  {
   "cell_type": "markdown",
   "id": "c8e1eec8",
   "metadata": {},
   "source": [
    "lambda"
   ]
  },
  {
   "cell_type": "code",
   "execution_count": 48,
   "id": "c11d555b",
   "metadata": {
    "scrolled": true
   },
   "outputs": [
    {
     "data": {
      "text/plain": [
       "3"
      ]
     },
     "execution_count": 48,
     "metadata": {},
     "output_type": "execute_result"
    }
   ],
   "source": [
    "(lambda x : x+1)(2)"
   ]
  },
  {
   "cell_type": "code",
   "execution_count": 56,
   "id": "25aadcc3",
   "metadata": {},
   "outputs": [
    {
     "data": {
      "text/plain": [
       "range(0, 10)"
      ]
     },
     "execution_count": 56,
     "metadata": {},
     "output_type": "execute_result"
    }
   ],
   "source": []
  },
  {
   "cell_type": "code",
   "execution_count": 64,
   "id": "9451dd96",
   "metadata": {},
   "outputs": [
    {
     "name": "stdout",
     "output_type": "stream",
     "text": [
      "a는   1  합은  1\n",
      "a는   2  합은  3\n",
      "a는   3  합은  6\n",
      "a는   4  합은  10\n",
      "a는   5  합은  15\n",
      "a는   6  합은  21\n",
      "a는   7  합은  28\n",
      "a는   8  합은  36\n",
      "a는   9  합은  45\n",
      "a는   10  합은  55\n"
     ]
    }
   ],
   "source": [
    "sum = 0\n",
    "for a in range(10):\n",
    "    a = (lambda x : x+1)(a)\n",
    "    sum = sum + a\n",
    "    print('a는  ', a , ' 합은 ', sum)"
   ]
  },
  {
   "cell_type": "code",
   "execution_count": 35,
   "id": "0532bf0f",
   "metadata": {
    "scrolled": false
   },
   "outputs": [
    {
     "name": "stdout",
     "output_type": "stream",
     "text": [
      "<class 'pandas.core.frame.DataFrame'>\n",
      "Index: 3 entries, 0 to 3\n",
      "Data columns (total 2 columns):\n",
      " #   Column  Non-Null Count  Dtype \n",
      "---  ------  --------------  ----- \n",
      " 0   a       3 non-null      int64 \n",
      " 1   b       3 non-null      object\n",
      "dtypes: int64(1), object(1)\n",
      "memory usage: 180.0+ bytes\n"
     ]
    }
   ],
   "source": [
    "df.info()"
   ]
  },
  {
   "cell_type": "code",
   "execution_count": 41,
   "id": "e446a158",
   "metadata": {
    "scrolled": true
   },
   "outputs": [
    {
     "ename": "KeyError",
     "evalue": "\"None of [Index([1, 2, 4], dtype='int64')] are in the [columns]\"",
     "output_type": "error",
     "traceback": [
      "\u001b[1;31m---------------------------------------------------------------------------\u001b[0m",
      "\u001b[1;31mKeyError\u001b[0m                                  Traceback (most recent call last)",
      "Cell \u001b[1;32mIn[41], line 1\u001b[0m\n\u001b[1;32m----> 1\u001b[0m df1 \u001b[38;5;241m=\u001b[39m df\u001b[38;5;241m.\u001b[39mapply(\u001b[38;5;28;01mlambda\u001b[39;00m x : df[df[\u001b[38;5;124m'\u001b[39m\u001b[38;5;124ma\u001b[39m\u001b[38;5;124m'\u001b[39m]] \u001b[38;5;241m+\u001b[39m \u001b[38;5;241m1\u001b[39m)\n",
      "File \u001b[1;32m~\\.conda\\envs\\study\\Lib\\site-packages\\pandas\\core\\frame.py:9423\u001b[0m, in \u001b[0;36mDataFrame.apply\u001b[1;34m(self, func, axis, raw, result_type, args, **kwargs)\u001b[0m\n\u001b[0;32m   9412\u001b[0m \u001b[38;5;28;01mfrom\u001b[39;00m \u001b[38;5;21;01mpandas\u001b[39;00m\u001b[38;5;21;01m.\u001b[39;00m\u001b[38;5;21;01mcore\u001b[39;00m\u001b[38;5;21;01m.\u001b[39;00m\u001b[38;5;21;01mapply\u001b[39;00m \u001b[38;5;28;01mimport\u001b[39;00m frame_apply\n\u001b[0;32m   9414\u001b[0m op \u001b[38;5;241m=\u001b[39m frame_apply(\n\u001b[0;32m   9415\u001b[0m     \u001b[38;5;28mself\u001b[39m,\n\u001b[0;32m   9416\u001b[0m     func\u001b[38;5;241m=\u001b[39mfunc,\n\u001b[1;32m   (...)\u001b[0m\n\u001b[0;32m   9421\u001b[0m     kwargs\u001b[38;5;241m=\u001b[39mkwargs,\n\u001b[0;32m   9422\u001b[0m )\n\u001b[1;32m-> 9423\u001b[0m \u001b[38;5;28;01mreturn\u001b[39;00m op\u001b[38;5;241m.\u001b[39mapply()\u001b[38;5;241m.\u001b[39m__finalize__(\u001b[38;5;28mself\u001b[39m, method\u001b[38;5;241m=\u001b[39m\u001b[38;5;124m\"\u001b[39m\u001b[38;5;124mapply\u001b[39m\u001b[38;5;124m\"\u001b[39m)\n",
      "File \u001b[1;32m~\\.conda\\envs\\study\\Lib\\site-packages\\pandas\\core\\apply.py:678\u001b[0m, in \u001b[0;36mFrameApply.apply\u001b[1;34m(self)\u001b[0m\n\u001b[0;32m    675\u001b[0m \u001b[38;5;28;01melif\u001b[39;00m \u001b[38;5;28mself\u001b[39m\u001b[38;5;241m.\u001b[39mraw:\n\u001b[0;32m    676\u001b[0m     \u001b[38;5;28;01mreturn\u001b[39;00m \u001b[38;5;28mself\u001b[39m\u001b[38;5;241m.\u001b[39mapply_raw()\n\u001b[1;32m--> 678\u001b[0m \u001b[38;5;28;01mreturn\u001b[39;00m \u001b[38;5;28mself\u001b[39m\u001b[38;5;241m.\u001b[39mapply_standard()\n",
      "File \u001b[1;32m~\\.conda\\envs\\study\\Lib\\site-packages\\pandas\\core\\apply.py:798\u001b[0m, in \u001b[0;36mFrameApply.apply_standard\u001b[1;34m(self)\u001b[0m\n\u001b[0;32m    797\u001b[0m \u001b[38;5;28;01mdef\u001b[39;00m \u001b[38;5;21mapply_standard\u001b[39m(\u001b[38;5;28mself\u001b[39m):\n\u001b[1;32m--> 798\u001b[0m     results, res_index \u001b[38;5;241m=\u001b[39m \u001b[38;5;28mself\u001b[39m\u001b[38;5;241m.\u001b[39mapply_series_generator()\n\u001b[0;32m    800\u001b[0m     \u001b[38;5;66;03m# wrap results\u001b[39;00m\n\u001b[0;32m    801\u001b[0m     \u001b[38;5;28;01mreturn\u001b[39;00m \u001b[38;5;28mself\u001b[39m\u001b[38;5;241m.\u001b[39mwrap_results(results, res_index)\n",
      "File \u001b[1;32m~\\.conda\\envs\\study\\Lib\\site-packages\\pandas\\core\\apply.py:814\u001b[0m, in \u001b[0;36mFrameApply.apply_series_generator\u001b[1;34m(self)\u001b[0m\n\u001b[0;32m    811\u001b[0m \u001b[38;5;28;01mwith\u001b[39;00m option_context(\u001b[38;5;124m\"\u001b[39m\u001b[38;5;124mmode.chained_assignment\u001b[39m\u001b[38;5;124m\"\u001b[39m, \u001b[38;5;28;01mNone\u001b[39;00m):\n\u001b[0;32m    812\u001b[0m     \u001b[38;5;28;01mfor\u001b[39;00m i, v \u001b[38;5;129;01min\u001b[39;00m \u001b[38;5;28menumerate\u001b[39m(series_gen):\n\u001b[0;32m    813\u001b[0m         \u001b[38;5;66;03m# ignore SettingWithCopy here in case the user mutates\u001b[39;00m\n\u001b[1;32m--> 814\u001b[0m         results[i] \u001b[38;5;241m=\u001b[39m \u001b[38;5;28mself\u001b[39m\u001b[38;5;241m.\u001b[39mf(v)\n\u001b[0;32m    815\u001b[0m         \u001b[38;5;28;01mif\u001b[39;00m \u001b[38;5;28misinstance\u001b[39m(results[i], ABCSeries):\n\u001b[0;32m    816\u001b[0m             \u001b[38;5;66;03m# If we have a view on v, we need to make a copy because\u001b[39;00m\n\u001b[0;32m    817\u001b[0m             \u001b[38;5;66;03m#  series_generator will swap out the underlying data\u001b[39;00m\n\u001b[0;32m    818\u001b[0m             results[i] \u001b[38;5;241m=\u001b[39m results[i]\u001b[38;5;241m.\u001b[39mcopy(deep\u001b[38;5;241m=\u001b[39m\u001b[38;5;28;01mFalse\u001b[39;00m)\n",
      "Cell \u001b[1;32mIn[41], line 1\u001b[0m, in \u001b[0;36m<lambda>\u001b[1;34m(x)\u001b[0m\n\u001b[1;32m----> 1\u001b[0m df1 \u001b[38;5;241m=\u001b[39m df\u001b[38;5;241m.\u001b[39mapply(\u001b[38;5;28;01mlambda\u001b[39;00m x : df[df[\u001b[38;5;124m'\u001b[39m\u001b[38;5;124ma\u001b[39m\u001b[38;5;124m'\u001b[39m]] \u001b[38;5;241m+\u001b[39m \u001b[38;5;241m1\u001b[39m)\n",
      "File \u001b[1;32m~\\.conda\\envs\\study\\Lib\\site-packages\\pandas\\core\\frame.py:3767\u001b[0m, in \u001b[0;36mDataFrame.__getitem__\u001b[1;34m(self, key)\u001b[0m\n\u001b[0;32m   3765\u001b[0m     \u001b[38;5;28;01mif\u001b[39;00m is_iterator(key):\n\u001b[0;32m   3766\u001b[0m         key \u001b[38;5;241m=\u001b[39m \u001b[38;5;28mlist\u001b[39m(key)\n\u001b[1;32m-> 3767\u001b[0m     indexer \u001b[38;5;241m=\u001b[39m \u001b[38;5;28mself\u001b[39m\u001b[38;5;241m.\u001b[39mcolumns\u001b[38;5;241m.\u001b[39m_get_indexer_strict(key, \u001b[38;5;124m\"\u001b[39m\u001b[38;5;124mcolumns\u001b[39m\u001b[38;5;124m\"\u001b[39m)[\u001b[38;5;241m1\u001b[39m]\n\u001b[0;32m   3769\u001b[0m \u001b[38;5;66;03m# take() does not accept boolean indexers\u001b[39;00m\n\u001b[0;32m   3770\u001b[0m \u001b[38;5;28;01mif\u001b[39;00m \u001b[38;5;28mgetattr\u001b[39m(indexer, \u001b[38;5;124m\"\u001b[39m\u001b[38;5;124mdtype\u001b[39m\u001b[38;5;124m\"\u001b[39m, \u001b[38;5;28;01mNone\u001b[39;00m) \u001b[38;5;241m==\u001b[39m \u001b[38;5;28mbool\u001b[39m:\n",
      "File \u001b[1;32m~\\.conda\\envs\\study\\Lib\\site-packages\\pandas\\core\\indexes\\base.py:5876\u001b[0m, in \u001b[0;36mIndex._get_indexer_strict\u001b[1;34m(self, key, axis_name)\u001b[0m\n\u001b[0;32m   5873\u001b[0m \u001b[38;5;28;01melse\u001b[39;00m:\n\u001b[0;32m   5874\u001b[0m     keyarr, indexer, new_indexer \u001b[38;5;241m=\u001b[39m \u001b[38;5;28mself\u001b[39m\u001b[38;5;241m.\u001b[39m_reindex_non_unique(keyarr)\n\u001b[1;32m-> 5876\u001b[0m \u001b[38;5;28mself\u001b[39m\u001b[38;5;241m.\u001b[39m_raise_if_missing(keyarr, indexer, axis_name)\n\u001b[0;32m   5878\u001b[0m keyarr \u001b[38;5;241m=\u001b[39m \u001b[38;5;28mself\u001b[39m\u001b[38;5;241m.\u001b[39mtake(indexer)\n\u001b[0;32m   5879\u001b[0m \u001b[38;5;28;01mif\u001b[39;00m \u001b[38;5;28misinstance\u001b[39m(key, Index):\n\u001b[0;32m   5880\u001b[0m     \u001b[38;5;66;03m# GH 42790 - Preserve name from an Index\u001b[39;00m\n",
      "File \u001b[1;32m~\\.conda\\envs\\study\\Lib\\site-packages\\pandas\\core\\indexes\\base.py:5935\u001b[0m, in \u001b[0;36mIndex._raise_if_missing\u001b[1;34m(self, key, indexer, axis_name)\u001b[0m\n\u001b[0;32m   5933\u001b[0m     \u001b[38;5;28;01mif\u001b[39;00m use_interval_msg:\n\u001b[0;32m   5934\u001b[0m         key \u001b[38;5;241m=\u001b[39m \u001b[38;5;28mlist\u001b[39m(key)\n\u001b[1;32m-> 5935\u001b[0m     \u001b[38;5;28;01mraise\u001b[39;00m \u001b[38;5;167;01mKeyError\u001b[39;00m(\u001b[38;5;124mf\u001b[39m\u001b[38;5;124m\"\u001b[39m\u001b[38;5;124mNone of [\u001b[39m\u001b[38;5;132;01m{\u001b[39;00mkey\u001b[38;5;132;01m}\u001b[39;00m\u001b[38;5;124m] are in the [\u001b[39m\u001b[38;5;132;01m{\u001b[39;00maxis_name\u001b[38;5;132;01m}\u001b[39;00m\u001b[38;5;124m]\u001b[39m\u001b[38;5;124m\"\u001b[39m)\n\u001b[0;32m   5937\u001b[0m not_found \u001b[38;5;241m=\u001b[39m \u001b[38;5;28mlist\u001b[39m(ensure_index(key)[missing_mask\u001b[38;5;241m.\u001b[39mnonzero()[\u001b[38;5;241m0\u001b[39m]]\u001b[38;5;241m.\u001b[39munique())\n\u001b[0;32m   5938\u001b[0m \u001b[38;5;28;01mraise\u001b[39;00m \u001b[38;5;167;01mKeyError\u001b[39;00m(\u001b[38;5;124mf\u001b[39m\u001b[38;5;124m\"\u001b[39m\u001b[38;5;132;01m{\u001b[39;00mnot_found\u001b[38;5;132;01m}\u001b[39;00m\u001b[38;5;124m not in index\u001b[39m\u001b[38;5;124m\"\u001b[39m)\n",
      "\u001b[1;31mKeyError\u001b[0m: \"None of [Index([1, 2, 4], dtype='int64')] are in the [columns]\""
     ]
    }
   ],
   "source": [
    "# df1 = df.apply(lambda x : df[df['a']] + 1)"
   ]
  },
  {
   "cell_type": "code",
   "execution_count": 40,
   "id": "dfa195d0",
   "metadata": {},
   "outputs": [
    {
     "data": {
      "text/html": [
       "<div>\n",
       "<style scoped>\n",
       "    .dataframe tbody tr th:only-of-type {\n",
       "        vertical-align: middle;\n",
       "    }\n",
       "\n",
       "    .dataframe tbody tr th {\n",
       "        vertical-align: top;\n",
       "    }\n",
       "\n",
       "    .dataframe thead th {\n",
       "        text-align: right;\n",
       "    }\n",
       "</style>\n",
       "<table border=\"1\" class=\"dataframe\">\n",
       "  <thead>\n",
       "    <tr style=\"text-align: right;\">\n",
       "      <th></th>\n",
       "      <th>a</th>\n",
       "      <th>b</th>\n",
       "    </tr>\n",
       "  </thead>\n",
       "  <tbody>\n",
       "    <tr>\n",
       "      <th>0</th>\n",
       "      <td>2</td>\n",
       "      <td>2</td>\n",
       "    </tr>\n",
       "    <tr>\n",
       "      <th>1</th>\n",
       "      <td>3</td>\n",
       "      <td>3</td>\n",
       "    </tr>\n",
       "    <tr>\n",
       "      <th>3</th>\n",
       "      <td>5</td>\n",
       "      <td>5</td>\n",
       "    </tr>\n",
       "  </tbody>\n",
       "</table>\n",
       "</div>"
      ],
      "text/plain": [
       "   a  b\n",
       "0  2  2\n",
       "1  3  3\n",
       "3  5  5"
      ]
     },
     "execution_count": 40,
     "metadata": {},
     "output_type": "execute_result"
    }
   ],
   "source": [
    "df1"
   ]
  },
  {
   "cell_type": "code",
   "execution_count": 44,
   "id": "4a9ba8b2",
   "metadata": {},
   "outputs": [
    {
     "ename": "KeyError",
     "evalue": "\"None of [Index([2, 3, 5], dtype='int64')] are in the [columns]\"",
     "output_type": "error",
     "traceback": [
      "\u001b[1;31m---------------------------------------------------------------------------\u001b[0m",
      "\u001b[1;31mKeyError\u001b[0m                                  Traceback (most recent call last)",
      "Cell \u001b[1;32mIn[44], line 1\u001b[0m\n\u001b[1;32m----> 1\u001b[0m df[(df[\u001b[38;5;124m'\u001b[39m\u001b[38;5;124ma\u001b[39m\u001b[38;5;124m'\u001b[39m] \u001b[38;5;241m+\u001b[39m\u001b[38;5;241m1\u001b[39m)]\n",
      "File \u001b[1;32m~\\.conda\\envs\\study\\Lib\\site-packages\\pandas\\core\\frame.py:3767\u001b[0m, in \u001b[0;36mDataFrame.__getitem__\u001b[1;34m(self, key)\u001b[0m\n\u001b[0;32m   3765\u001b[0m     \u001b[38;5;28;01mif\u001b[39;00m is_iterator(key):\n\u001b[0;32m   3766\u001b[0m         key \u001b[38;5;241m=\u001b[39m \u001b[38;5;28mlist\u001b[39m(key)\n\u001b[1;32m-> 3767\u001b[0m     indexer \u001b[38;5;241m=\u001b[39m \u001b[38;5;28mself\u001b[39m\u001b[38;5;241m.\u001b[39mcolumns\u001b[38;5;241m.\u001b[39m_get_indexer_strict(key, \u001b[38;5;124m\"\u001b[39m\u001b[38;5;124mcolumns\u001b[39m\u001b[38;5;124m\"\u001b[39m)[\u001b[38;5;241m1\u001b[39m]\n\u001b[0;32m   3769\u001b[0m \u001b[38;5;66;03m# take() does not accept boolean indexers\u001b[39;00m\n\u001b[0;32m   3770\u001b[0m \u001b[38;5;28;01mif\u001b[39;00m \u001b[38;5;28mgetattr\u001b[39m(indexer, \u001b[38;5;124m\"\u001b[39m\u001b[38;5;124mdtype\u001b[39m\u001b[38;5;124m\"\u001b[39m, \u001b[38;5;28;01mNone\u001b[39;00m) \u001b[38;5;241m==\u001b[39m \u001b[38;5;28mbool\u001b[39m:\n",
      "File \u001b[1;32m~\\.conda\\envs\\study\\Lib\\site-packages\\pandas\\core\\indexes\\base.py:5876\u001b[0m, in \u001b[0;36mIndex._get_indexer_strict\u001b[1;34m(self, key, axis_name)\u001b[0m\n\u001b[0;32m   5873\u001b[0m \u001b[38;5;28;01melse\u001b[39;00m:\n\u001b[0;32m   5874\u001b[0m     keyarr, indexer, new_indexer \u001b[38;5;241m=\u001b[39m \u001b[38;5;28mself\u001b[39m\u001b[38;5;241m.\u001b[39m_reindex_non_unique(keyarr)\n\u001b[1;32m-> 5876\u001b[0m \u001b[38;5;28mself\u001b[39m\u001b[38;5;241m.\u001b[39m_raise_if_missing(keyarr, indexer, axis_name)\n\u001b[0;32m   5878\u001b[0m keyarr \u001b[38;5;241m=\u001b[39m \u001b[38;5;28mself\u001b[39m\u001b[38;5;241m.\u001b[39mtake(indexer)\n\u001b[0;32m   5879\u001b[0m \u001b[38;5;28;01mif\u001b[39;00m \u001b[38;5;28misinstance\u001b[39m(key, Index):\n\u001b[0;32m   5880\u001b[0m     \u001b[38;5;66;03m# GH 42790 - Preserve name from an Index\u001b[39;00m\n",
      "File \u001b[1;32m~\\.conda\\envs\\study\\Lib\\site-packages\\pandas\\core\\indexes\\base.py:5935\u001b[0m, in \u001b[0;36mIndex._raise_if_missing\u001b[1;34m(self, key, indexer, axis_name)\u001b[0m\n\u001b[0;32m   5933\u001b[0m     \u001b[38;5;28;01mif\u001b[39;00m use_interval_msg:\n\u001b[0;32m   5934\u001b[0m         key \u001b[38;5;241m=\u001b[39m \u001b[38;5;28mlist\u001b[39m(key)\n\u001b[1;32m-> 5935\u001b[0m     \u001b[38;5;28;01mraise\u001b[39;00m \u001b[38;5;167;01mKeyError\u001b[39;00m(\u001b[38;5;124mf\u001b[39m\u001b[38;5;124m\"\u001b[39m\u001b[38;5;124mNone of [\u001b[39m\u001b[38;5;132;01m{\u001b[39;00mkey\u001b[38;5;132;01m}\u001b[39;00m\u001b[38;5;124m] are in the [\u001b[39m\u001b[38;5;132;01m{\u001b[39;00maxis_name\u001b[38;5;132;01m}\u001b[39;00m\u001b[38;5;124m]\u001b[39m\u001b[38;5;124m\"\u001b[39m)\n\u001b[0;32m   5937\u001b[0m not_found \u001b[38;5;241m=\u001b[39m \u001b[38;5;28mlist\u001b[39m(ensure_index(key)[missing_mask\u001b[38;5;241m.\u001b[39mnonzero()[\u001b[38;5;241m0\u001b[39m]]\u001b[38;5;241m.\u001b[39munique())\n\u001b[0;32m   5938\u001b[0m \u001b[38;5;28;01mraise\u001b[39;00m \u001b[38;5;167;01mKeyError\u001b[39;00m(\u001b[38;5;124mf\u001b[39m\u001b[38;5;124m\"\u001b[39m\u001b[38;5;132;01m{\u001b[39;00mnot_found\u001b[38;5;132;01m}\u001b[39;00m\u001b[38;5;124m not in index\u001b[39m\u001b[38;5;124m\"\u001b[39m)\n",
      "\u001b[1;31mKeyError\u001b[0m: \"None of [Index([2, 3, 5], dtype='int64')] are in the [columns]\""
     ]
    }
   ],
   "source": [
    "df[(df['a'] +1)]"
   ]
  },
  {
   "cell_type": "code",
   "execution_count": null,
   "id": "22cd49ee",
   "metadata": {},
   "outputs": [],
   "source": []
  },
  {
   "cell_type": "code",
   "execution_count": 1,
   "id": "e9e8897d",
   "metadata": {},
   "outputs": [
    {
     "name": "stdout",
     "output_type": "stream",
     "text": [
      "['01-01-2021.csv', '01-01-2022.csv', '01-01-2023.csv', '01-02-2021.csv', '01-02-2022.csv', '01-02-2023.csv', '01-03-2021.csv', '01-03-2022.csv', '01-03-2023.csv', '01-04-2021.csv', '01-04-2022.csv', '01-04-2023.csv', '01-05-2021.csv', '01-05-2022.csv', '01-05-2023.csv', '01-06-2021.csv', '01-06-2022.csv', '01-06-2023.csv', '01-07-2021.csv', '01-07-2022.csv', '01-07-2023.csv', '01-08-2021.csv', '01-08-2022.csv', '01-08-2023.csv', '01-09-2021.csv', '01-09-2022.csv', '01-09-2023.csv', '01-10-2021.csv', '01-10-2022.csv', '01-10-2023.csv', '01-11-2021.csv', '01-11-2022.csv', '01-11-2023.csv', '01-12-2021.csv', '01-12-2022.csv', '01-12-2023.csv', '01-13-2021.csv', '01-13-2022.csv', '01-13-2023.csv', '01-14-2021.csv', '01-14-2022.csv', '01-14-2023.csv', '01-15-2021.csv', '01-15-2022.csv', '01-15-2023.csv', '01-16-2021.csv', '01-16-2022.csv', '01-16-2023.csv', '01-17-2021.csv', '01-17-2022.csv', '01-17-2023.csv', '01-18-2021.csv', '01-18-2022.csv', '01-18-2023.csv', '01-19-2021.csv', '01-19-2022.csv', '01-19-2023.csv', '01-20-2021.csv', '01-20-2022.csv', '01-20-2023.csv', '01-21-2021.csv', '01-21-2022.csv', '01-21-2023.csv', '01-22-2020.csv', '01-22-2021.csv', '01-22-2022.csv', '01-22-2023.csv', '01-23-2020.csv', '01-23-2021.csv', '01-23-2022.csv', '01-23-2023.csv', '01-24-2020.csv', '01-24-2021.csv', '01-24-2022.csv', '01-24-2023.csv', '01-25-2020.csv', '01-25-2021.csv', '01-25-2022.csv', '01-25-2023.csv', '01-26-2020.csv', '01-26-2021.csv', '01-26-2022.csv', '01-26-2023.csv', '01-27-2020.csv', '01-27-2021.csv', '01-27-2022.csv', '01-27-2023.csv', '01-28-2020.csv', '01-28-2021.csv', '01-28-2022.csv', '01-28-2023.csv', '01-29-2020.csv', '01-29-2021.csv', '01-29-2022.csv', '01-29-2023.csv', '01-30-2020.csv', '01-30-2021.csv', '01-30-2022.csv', '01-30-2023.csv', '01-31-2020.csv', '01-31-2021.csv', '01-31-2022.csv', '01-31-2023.csv', '02-01-2020.csv', '02-01-2021.csv', '02-01-2022.csv', '02-01-2023.csv', '02-02-2020.csv', '02-02-2021.csv', '02-02-2022.csv', '02-02-2023.csv', '02-03-2020.csv', '02-03-2021.csv', '02-03-2022.csv', '02-03-2023.csv', '02-04-2020.csv', '02-04-2021.csv', '02-04-2022.csv', '02-04-2023.csv', '02-05-2020.csv', '02-05-2021.csv', '02-05-2022.csv', '02-05-2023.csv', '02-06-2020.csv', '02-06-2021.csv', '02-06-2022.csv', '02-06-2023.csv', '02-07-2020.csv', '02-07-2021.csv', '02-07-2022.csv', '02-07-2023.csv', '02-08-2020.csv', '02-08-2021.csv', '02-08-2022.csv', '02-08-2023.csv', '02-09-2020.csv', '02-09-2021.csv', '02-09-2022.csv', '02-09-2023.csv', '02-10-2020.csv', '02-10-2021.csv', '02-10-2022.csv', '02-10-2023.csv', '02-11-2020.csv', '02-11-2021.csv', '02-11-2022.csv', '02-11-2023.csv', '02-12-2020.csv', '02-12-2021.csv', '02-12-2022.csv', '02-12-2023.csv', '02-13-2020.csv', '02-13-2021.csv', '02-13-2022.csv', '02-13-2023.csv', '02-14-2020.csv', '02-14-2021.csv', '02-14-2022.csv', '02-14-2023.csv', '02-15-2020.csv', '02-15-2021.csv', '02-15-2022.csv', '02-15-2023.csv', '02-16-2020.csv', '02-16-2021.csv', '02-16-2022.csv', '02-16-2023.csv', '02-17-2020.csv', '02-17-2021.csv', '02-17-2022.csv', '02-17-2023.csv', '02-18-2020.csv', '02-18-2021.csv', '02-18-2022.csv', '02-18-2023.csv', '02-19-2020.csv', '02-19-2021.csv', '02-19-2022.csv', '02-19-2023.csv', '02-20-2020.csv', '02-20-2021.csv', '02-20-2022.csv', '02-20-2023.csv', '02-21-2020.csv', '02-21-2021.csv', '02-21-2022.csv', '02-21-2023.csv', '02-22-2020.csv', '02-22-2021.csv', '02-22-2022.csv', '02-22-2023.csv', '02-23-2020.csv', '02-23-2021.csv', '02-23-2022.csv', '02-23-2023.csv', '02-24-2020.csv', '02-24-2021.csv', '02-24-2022.csv', '02-24-2023.csv', '02-25-2020.csv', '02-25-2021.csv', '02-25-2022.csv', '02-25-2023.csv', '02-26-2020.csv', '02-26-2021.csv', '02-26-2022.csv', '02-26-2023.csv', '02-27-2020.csv', '02-27-2021.csv', '02-27-2022.csv', '02-27-2023.csv', '02-28-2020.csv', '02-28-2021.csv', '02-28-2022.csv', '02-28-2023.csv', '02-29-2020.csv', '03-01-2020.csv', '03-01-2021.csv', '03-01-2022.csv', '03-01-2023.csv', '03-02-2020.csv', '03-02-2021.csv', '03-02-2022.csv', '03-02-2023.csv', '03-03-2020.csv', '03-03-2021.csv', '03-03-2022.csv', '03-03-2023.csv', '03-04-2020.csv', '03-04-2021.csv', '03-04-2022.csv', '03-04-2023.csv', '03-05-2020.csv', '03-05-2021.csv', '03-05-2022.csv', '03-05-2023.csv', '03-06-2020.csv', '03-06-2021.csv', '03-06-2022.csv', '03-06-2023.csv', '03-07-2020.csv', '03-07-2021.csv', '03-07-2022.csv', '03-07-2023.csv', '03-08-2020.csv', '03-08-2021.csv', '03-08-2022.csv', '03-08-2023.csv', '03-09-2020.csv', '03-09-2021.csv', '03-09-2022.csv', '03-09-2023.csv', '03-10-2020.csv', '03-10-2021.csv', '03-10-2022.csv', '03-11-2020.csv', '03-11-2021.csv', '03-11-2022.csv', '03-12-2020.csv', '03-12-2021.csv', '03-12-2022.csv', '03-13-2020.csv', '03-13-2021.csv', '03-13-2022.csv', '03-14-2020.csv', '03-14-2021.csv', '03-14-2022.csv', '03-15-2020.csv', '03-15-2021.csv', '03-15-2022.csv', '03-16-2020.csv', '03-16-2021.csv', '03-16-2022.csv', '03-17-2020.csv', '03-17-2021.csv', '03-17-2022.csv', '03-18-2020.csv', '03-18-2021.csv', '03-18-2022.csv', '03-19-2020.csv', '03-19-2021.csv', '03-19-2022.csv', '03-20-2020.csv', '03-20-2021.csv', '03-20-2022.csv', '03-21-2020.csv', '03-21-2021.csv', '03-21-2022.csv', '03-22-2020.csv', '03-22-2021.csv', '03-22-2022.csv', '03-23-2020.csv', '03-23-2021.csv', '03-23-2022.csv', '03-24-2020.csv', '03-24-2021.csv', '03-24-2022.csv', '03-25-2020.csv', '03-25-2021.csv', '03-25-2022.csv', '03-26-2020.csv', '03-26-2021.csv', '03-26-2022.csv', '03-27-2020.csv', '03-27-2021.csv', '03-27-2022.csv', '03-28-2020.csv', '03-28-2021.csv', '03-28-2022.csv', '03-29-2020.csv', '03-29-2021.csv', '03-29-2022.csv', '03-30-2020.csv', '03-30-2021.csv', '03-30-2022.csv', '03-31-2020.csv', '03-31-2021.csv', '03-31-2022.csv', '04-01-2020.csv', '04-01-2021.csv', '04-01-2022.csv', '04-02-2020.csv', '04-02-2021.csv', '04-02-2022.csv', '04-03-2020.csv', '04-03-2021.csv', '04-03-2022.csv', '04-04-2020.csv', '04-04-2021.csv', '04-04-2022.csv', '04-05-2020.csv', '04-05-2021.csv', '04-05-2022.csv', '04-06-2020.csv', '04-06-2021.csv', '04-06-2022.csv', '04-07-2020.csv', '04-07-2021.csv', '04-07-2022.csv', '04-08-2020.csv', '04-08-2021.csv', '04-08-2022.csv', '04-09-2020.csv', '04-09-2021.csv', '04-09-2022.csv', '04-10-2020.csv', '04-10-2021.csv', '04-10-2022.csv', '04-11-2020.csv', '04-11-2021.csv', '04-11-2022.csv', '04-12-2020.csv', '04-12-2021.csv', '04-12-2022.csv', '04-13-2020.csv', '04-13-2021.csv', '04-13-2022.csv', '04-14-2020.csv', '04-14-2021.csv', '04-14-2022.csv', '04-15-2020.csv', '04-15-2021.csv', '04-15-2022.csv', '04-16-2020.csv', '04-16-2021.csv', '04-16-2022.csv', '04-17-2020.csv', '04-17-2021.csv', '04-17-2022.csv', '04-18-2020.csv', '04-18-2021.csv', '04-18-2022.csv', '04-19-2020.csv', '04-19-2021.csv', '04-19-2022.csv', '04-20-2020.csv', '04-20-2021.csv', '04-20-2022.csv', '04-21-2020.csv', '04-21-2021.csv', '04-21-2022.csv', '04-22-2020.csv', '04-22-2021.csv', '04-22-2022.csv', '04-23-2020.csv', '04-23-2021.csv', '04-23-2022.csv', '04-24-2020.csv', '04-24-2021.csv', '04-24-2022.csv', '04-25-2020.csv', '04-25-2021.csv', '04-25-2022.csv', '04-26-2020.csv', '04-26-2021.csv', '04-26-2022.csv', '04-27-2020.csv', '04-27-2021.csv', '04-27-2022.csv', '04-28-2020.csv', '04-28-2021.csv', '04-28-2022.csv', '04-29-2020.csv', '04-29-2021.csv', '04-29-2022.csv', '04-30-2020.csv', '04-30-2021.csv', '04-30-2022.csv', '05-01-2020.csv', '05-01-2021.csv', '05-01-2022.csv', '05-02-2020.csv', '05-02-2021.csv', '05-02-2022.csv', '05-03-2020.csv', '05-03-2021.csv', '05-03-2022.csv', '05-04-2020.csv', '05-04-2021.csv', '05-04-2022.csv', '05-05-2020.csv', '05-05-2021.csv', '05-05-2022.csv', '05-06-2020.csv', '05-06-2021.csv', '05-06-2022.csv', '05-07-2020.csv', '05-07-2021.csv', '05-07-2022.csv', '05-08-2020.csv', '05-08-2021.csv', '05-08-2022.csv', '05-09-2020.csv', '05-09-2021.csv', '05-09-2022.csv', '05-10-2020.csv', '05-10-2021.csv', '05-10-2022.csv', '05-11-2020.csv', '05-11-2021.csv', '05-11-2022.csv', '05-12-2020.csv', '05-12-2021.csv', '05-12-2022.csv', '05-13-2020.csv', '05-13-2021.csv', '05-13-2022.csv', '05-14-2020.csv', '05-14-2021.csv', '05-14-2022.csv', '05-15-2020.csv', '05-15-2021.csv', '05-15-2022.csv', '05-16-2020.csv', '05-16-2021.csv', '05-16-2022.csv', '05-17-2020.csv', '05-17-2021.csv', '05-17-2022.csv', '05-18-2020.csv', '05-18-2021.csv', '05-18-2022.csv', '05-19-2020.csv', '05-19-2021.csv', '05-19-2022.csv', '05-20-2020.csv', '05-20-2021.csv', '05-20-2022.csv', '05-21-2020.csv', '05-21-2021.csv', '05-21-2022.csv', '05-22-2020.csv', '05-22-2021.csv', '05-22-2022.csv', '05-23-2020.csv', '05-23-2021.csv', '05-23-2022.csv', '05-24-2020.csv', '05-24-2021.csv', '05-24-2022.csv', '05-25-2020.csv', '05-25-2021.csv', '05-25-2022.csv', '05-26-2020.csv', '05-26-2021.csv', '05-26-2022.csv', '05-27-2020.csv', '05-27-2021.csv', '05-27-2022.csv', '05-28-2020.csv', '05-28-2021.csv', '05-28-2022.csv', '05-29-2020.csv', '05-29-2021.csv', '05-29-2022.csv', '05-30-2020.csv', '05-30-2021.csv', '05-30-2022.csv', '05-31-2020.csv', '05-31-2021.csv', '05-31-2022.csv', '06-01-2020.csv', '06-01-2021.csv', '06-01-2022.csv', '06-02-2020.csv', '06-02-2021.csv', '06-02-2022.csv', '06-03-2020.csv', '06-03-2021.csv', '06-03-2022.csv', '06-04-2020.csv', '06-04-2021.csv', '06-04-2022.csv', '06-05-2020.csv', '06-05-2021.csv', '06-05-2022.csv', '06-06-2020.csv', '06-06-2021.csv', '06-06-2022.csv', '06-07-2020.csv', '06-07-2021.csv', '06-07-2022.csv', '06-08-2020.csv', '06-08-2021.csv', '06-08-2022.csv', '06-09-2020.csv', '06-09-2021.csv', '06-09-2022.csv', '06-10-2020.csv', '06-10-2021.csv', '06-10-2022.csv', '06-11-2020.csv', '06-11-2021.csv', '06-11-2022.csv', '06-12-2020.csv', '06-12-2021.csv', '06-12-2022.csv', '06-13-2020.csv', '06-13-2021.csv', '06-13-2022.csv', '06-14-2020.csv', '06-14-2021.csv', '06-14-2022.csv', '06-15-2020.csv', '06-15-2021.csv', '06-15-2022.csv', '06-16-2020.csv', '06-16-2021.csv', '06-16-2022.csv', '06-17-2020.csv', '06-17-2021.csv', '06-17-2022.csv', '06-18-2020.csv', '06-18-2021.csv', '06-18-2022.csv', '06-19-2020.csv', '06-19-2021.csv', '06-19-2022.csv', '06-20-2020.csv', '06-20-2021.csv', '06-20-2022.csv', '06-21-2020.csv', '06-21-2021.csv', '06-21-2022.csv', '06-22-2020.csv', '06-22-2021.csv', '06-22-2022.csv', '06-23-2020.csv', '06-23-2021.csv', '06-23-2022.csv', '06-24-2020.csv', '06-24-2021.csv', '06-24-2022.csv', '06-25-2020.csv', '06-25-2021.csv', '06-25-2022.csv', '06-26-2020.csv', '06-26-2021.csv', '06-26-2022.csv', '06-27-2020.csv', '06-27-2021.csv', '06-27-2022.csv', '06-28-2020.csv', '06-28-2021.csv', '06-28-2022.csv', '06-29-2020.csv', '06-29-2021.csv', '06-29-2022.csv', '06-30-2020.csv', '06-30-2021.csv', '06-30-2022.csv', '07-01-2020.csv', '07-01-2021.csv', '07-01-2022.csv', '07-02-2020.csv', '07-02-2021.csv', '07-02-2022.csv', '07-03-2020.csv', '07-03-2021.csv', '07-03-2022.csv', '07-04-2020.csv', '07-04-2021.csv', '07-04-2022.csv', '07-05-2020.csv', '07-05-2021.csv', '07-05-2022.csv', '07-06-2020.csv', '07-06-2021.csv', '07-06-2022.csv', '07-07-2020.csv', '07-07-2021.csv', '07-07-2022.csv', '07-08-2020.csv', '07-08-2021.csv', '07-08-2022.csv', '07-09-2020.csv', '07-09-2021.csv', '07-09-2022.csv', '07-10-2020.csv', '07-10-2021.csv', '07-10-2022.csv', '07-11-2020.csv', '07-11-2021.csv', '07-11-2022.csv', '07-12-2020.csv', '07-12-2021.csv', '07-12-2022.csv', '07-13-2020.csv', '07-13-2021.csv', '07-13-2022.csv', '07-14-2020.csv', '07-14-2021.csv', '07-14-2022.csv', '07-15-2020.csv', '07-15-2021.csv', '07-15-2022.csv', '07-16-2020.csv', '07-16-2021.csv', '07-16-2022.csv', '07-17-2020.csv', '07-17-2021.csv', '07-17-2022.csv', '07-18-2020.csv', '07-18-2021.csv', '07-18-2022.csv', '07-19-2020.csv', '07-19-2021.csv', '07-19-2022.csv', '07-20-2020.csv', '07-20-2021.csv', '07-20-2022.csv', '07-21-2020.csv', '07-21-2021.csv', '07-21-2022.csv', '07-22-2020.csv', '07-22-2021.csv', '07-22-2022.csv', '07-23-2020.csv', '07-23-2021.csv', '07-23-2022.csv', '07-24-2020.csv', '07-24-2021.csv', '07-24-2022.csv', '07-25-2020.csv', '07-25-2021.csv', '07-25-2022.csv', '07-26-2020.csv', '07-26-2021.csv', '07-26-2022.csv', '07-27-2020.csv', '07-27-2021.csv', '07-27-2022.csv', '07-28-2020.csv', '07-28-2021.csv', '07-28-2022.csv', '07-29-2020.csv', '07-29-2021.csv', '07-29-2022.csv', '07-30-2020.csv', '07-30-2021.csv', '07-30-2022.csv', '07-31-2020.csv', '07-31-2021.csv', '07-31-2022.csv', '08-01-2020.csv', '08-01-2021.csv', '08-01-2022.csv', '08-02-2020.csv', '08-02-2021.csv', '08-02-2022.csv', '08-03-2020.csv', '08-03-2021.csv', '08-03-2022.csv', '08-04-2020.csv', '08-04-2021.csv', '08-04-2022.csv', '08-05-2020.csv', '08-05-2021.csv', '08-05-2022.csv', '08-06-2020.csv', '08-06-2021.csv', '08-06-2022.csv', '08-07-2020.csv', '08-07-2021.csv', '08-07-2022.csv', '08-08-2020.csv', '08-08-2021.csv', '08-08-2022.csv', '08-09-2020.csv', '08-09-2021.csv', '08-09-2022.csv', '08-10-2020.csv', '08-10-2021.csv', '08-10-2022.csv', '08-11-2020.csv', '08-11-2021.csv', '08-11-2022.csv', '08-12-2020.csv', '08-12-2021.csv', '08-12-2022.csv', '08-13-2020.csv', '08-13-2021.csv', '08-13-2022.csv', '08-14-2020.csv', '08-14-2021.csv', '08-14-2022.csv', '08-15-2020.csv', '08-15-2021.csv', '08-15-2022.csv', '08-16-2020.csv', '08-16-2021.csv', '08-16-2022.csv', '08-17-2020.csv', '08-17-2021.csv', '08-17-2022.csv', '08-18-2020.csv', '08-18-2021.csv', '08-18-2022.csv', '08-19-2020.csv', '08-19-2021.csv', '08-19-2022.csv', '08-20-2020.csv', '08-20-2021.csv', '08-20-2022.csv', '08-21-2020.csv', '08-21-2021.csv', '08-21-2022.csv', '08-22-2020.csv', '08-22-2021.csv', '08-22-2022.csv', '08-23-2020.csv', '08-23-2021.csv', '08-23-2022.csv', '08-24-2020.csv', '08-24-2021.csv', '08-24-2022.csv', '08-25-2020.csv', '08-25-2021.csv', '08-25-2022.csv', '08-26-2020.csv', '08-26-2021.csv', '08-26-2022.csv', '08-27-2020.csv', '08-27-2021.csv', '08-27-2022.csv', '08-28-2020.csv', '08-28-2021.csv', '08-28-2022.csv', '08-29-2020.csv', '08-29-2021.csv', '08-29-2022.csv', '08-30-2020.csv', '08-30-2021.csv', '08-30-2022.csv', '08-31-2020.csv', '08-31-2021.csv', '08-31-2022.csv', '09-01-2020.csv', '09-01-2021.csv', '09-01-2022.csv', '09-02-2020.csv', '09-02-2021.csv', '09-02-2022.csv', '09-03-2020.csv', '09-03-2021.csv', '09-03-2022.csv', '09-04-2020.csv', '09-04-2021.csv', '09-04-2022.csv', '09-05-2020.csv', '09-05-2021.csv', '09-05-2022.csv', '09-06-2020.csv', '09-06-2021.csv', '09-06-2022.csv', '09-07-2020.csv', '09-07-2021.csv', '09-07-2022.csv', '09-08-2020.csv', '09-08-2021.csv', '09-08-2022.csv', '09-09-2020.csv', '09-09-2021.csv', '09-09-2022.csv', '09-10-2020.csv', '09-10-2021.csv', '09-10-2022.csv', '09-11-2020.csv', '09-11-2021.csv', '09-11-2022.csv', '09-12-2020.csv', '09-12-2021.csv', '09-12-2022.csv', '09-13-2020.csv', '09-13-2021.csv', '09-13-2022.csv', '09-14-2020.csv', '09-14-2021.csv', '09-14-2022.csv', '09-15-2020.csv', '09-15-2021.csv', '09-15-2022.csv', '09-16-2020.csv', '09-16-2021.csv', '09-16-2022.csv', '09-17-2020.csv', '09-17-2021.csv', '09-17-2022.csv', '09-18-2020.csv', '09-18-2021.csv', '09-18-2022.csv', '09-19-2020.csv', '09-19-2021.csv', '09-19-2022.csv', '09-20-2020.csv', '09-20-2021.csv', '09-20-2022.csv', '09-21-2020.csv', '09-21-2021.csv', '09-21-2022.csv', '09-22-2020.csv', '09-22-2021.csv', '09-22-2022.csv', '09-23-2020.csv', '09-23-2021.csv', '09-23-2022.csv', '09-24-2020.csv', '09-24-2021.csv', '09-24-2022.csv', '09-25-2020.csv', '09-25-2021.csv', '09-25-2022.csv', '09-26-2020.csv', '09-26-2021.csv', '09-26-2022.csv', '09-27-2020.csv', '09-27-2021.csv', '09-27-2022.csv', '09-28-2020.csv', '09-28-2021.csv', '09-28-2022.csv', '09-29-2020.csv', '09-29-2021.csv', '09-29-2022.csv', '09-30-2020.csv', '09-30-2021.csv', '09-30-2022.csv', '10-01-2020.csv', '10-01-2021.csv', '10-01-2022.csv', '10-02-2020.csv', '10-02-2021.csv', '10-02-2022.csv', '10-03-2020.csv', '10-03-2021.csv', '10-03-2022.csv', '10-04-2020.csv', '10-04-2021.csv', '10-04-2022.csv', '10-05-2020.csv', '10-05-2021.csv', '10-05-2022.csv', '10-06-2020.csv', '10-06-2021.csv', '10-06-2022.csv', '10-07-2020.csv', '10-07-2021.csv', '10-07-2022.csv', '10-08-2020.csv', '10-08-2021.csv', '10-08-2022.csv', '10-09-2020.csv', '10-09-2021.csv', '10-09-2022.csv', '10-10-2020.csv', '10-10-2021.csv', '10-10-2022.csv', '10-11-2020.csv', '10-11-2021.csv', '10-11-2022.csv', '10-12-2020.csv', '10-12-2021.csv', '10-12-2022.csv', '10-13-2020.csv', '10-13-2021.csv', '10-13-2022.csv', '10-14-2020.csv', '10-14-2021.csv', '10-14-2022.csv', '10-15-2020.csv', '10-15-2021.csv', '10-15-2022.csv', '10-16-2020.csv', '10-16-2021.csv', '10-16-2022.csv', '10-17-2020.csv', '10-17-2021.csv', '10-17-2022.csv', '10-18-2020.csv', '10-18-2021.csv', '10-18-2022.csv', '10-19-2020.csv', '10-19-2021.csv', '10-19-2022.csv', '10-20-2020.csv', '10-20-2021.csv', '10-20-2022.csv', '10-21-2020.csv', '10-21-2021.csv', '10-21-2022.csv', '10-22-2020.csv', '10-22-2021.csv', '10-22-2022.csv', '10-23-2020.csv', '10-23-2021.csv', '10-23-2022.csv', '10-24-2020.csv', '10-24-2021.csv', '10-24-2022.csv', '10-25-2020.csv', '10-25-2021.csv', '10-25-2022.csv', '10-26-2020.csv', '10-26-2021.csv', '10-26-2022.csv', '10-27-2020.csv', '10-27-2021.csv', '10-27-2022.csv', '10-28-2020.csv', '10-28-2021.csv', '10-28-2022.csv', '10-29-2020.csv', '10-29-2021.csv', '10-29-2022.csv', '10-30-2020.csv', '10-30-2021.csv', '10-30-2022.csv', '10-31-2020.csv', '10-31-2021.csv', '10-31-2022.csv', '11-01-2020.csv', '11-01-2021.csv', '11-01-2022.csv', '11-02-2020.csv', '11-02-2021.csv', '11-02-2022.csv', '11-03-2020.csv', '11-03-2021.csv', '11-03-2022.csv', '11-04-2020.csv', '11-04-2021.csv', '11-04-2022.csv', '11-05-2020.csv', '11-05-2021.csv', '11-05-2022.csv', '11-06-2020.csv', '11-06-2021.csv', '11-06-2022.csv', '11-07-2020.csv', '11-07-2021.csv', '11-07-2022.csv', '11-08-2020.csv', '11-08-2021.csv', '11-08-2022.csv', '11-09-2020.csv', '11-09-2021.csv', '11-09-2022.csv', '11-10-2020.csv', '11-10-2021.csv', '11-10-2022.csv', '11-11-2020.csv', '11-11-2021.csv', '11-11-2022.csv', '11-12-2020.csv', '11-12-2021.csv', '11-12-2022.csv', '11-13-2020.csv', '11-13-2021.csv', '11-13-2022.csv', '11-14-2020.csv', '11-14-2021.csv', '11-14-2022.csv', '11-15-2020.csv', '11-15-2021.csv', '11-15-2022.csv', '11-16-2020.csv', '11-16-2021.csv', '11-16-2022.csv', '11-17-2020.csv', '11-17-2021.csv', '11-17-2022.csv', '11-18-2020.csv', '11-18-2021.csv', '11-18-2022.csv', '11-19-2020.csv', '11-19-2021.csv', '11-19-2022.csv', '11-20-2020.csv', '11-20-2021.csv', '11-20-2022.csv', '11-21-2020.csv', '11-21-2021.csv', '11-21-2022.csv', '11-22-2020.csv', '11-22-2021.csv', '11-22-2022.csv', '11-23-2020.csv', '11-23-2021.csv', '11-23-2022.csv', '11-24-2020.csv', '11-24-2021.csv', '11-24-2022.csv', '11-25-2020.csv', '11-25-2021.csv', '11-25-2022.csv', '11-26-2020.csv', '11-26-2021.csv', '11-26-2022.csv', '11-27-2020.csv', '11-27-2021.csv', '11-27-2022.csv', '11-28-2020.csv', '11-28-2021.csv', '11-28-2022.csv', '11-29-2020.csv', '11-29-2021.csv', '11-29-2022.csv', '11-30-2020.csv', '11-30-2021.csv', '11-30-2022.csv', '12-01-2020.csv', '12-01-2021.csv', '12-01-2022.csv', '12-02-2020.csv', '12-02-2021.csv', '12-02-2022.csv', '12-03-2020.csv', '12-03-2021.csv', '12-03-2022.csv', '12-04-2020.csv', '12-04-2021.csv', '12-04-2022.csv', '12-05-2020.csv', '12-05-2021.csv', '12-05-2022.csv', '12-06-2020.csv', '12-06-2021.csv', '12-06-2022.csv', '12-07-2020.csv', '12-07-2021.csv', '12-07-2022.csv', '12-08-2020.csv', '12-08-2021.csv', '12-08-2022.csv', '12-09-2020.csv', '12-09-2021.csv', '12-09-2022.csv', '12-10-2020.csv', '12-10-2021.csv', '12-10-2022.csv', '12-11-2020.csv', '12-11-2021.csv', '12-11-2022.csv', '12-12-2020.csv', '12-12-2021.csv', '12-12-2022.csv', '12-13-2020.csv', '12-13-2021.csv', '12-13-2022.csv', '12-14-2020.csv', '12-14-2021.csv', '12-14-2022.csv', '12-15-2020.csv', '12-15-2021.csv', '12-15-2022.csv', '12-16-2020.csv', '12-16-2021.csv', '12-16-2022.csv', '12-17-2020.csv', '12-17-2021.csv', '12-17-2022.csv', '12-18-2020.csv', '12-18-2021.csv', '12-18-2022.csv', '12-19-2020.csv', '12-19-2021.csv', '12-19-2022.csv', '12-20-2020.csv', '12-20-2021.csv', '12-20-2022.csv', '12-21-2020.csv', '12-21-2021.csv', '12-21-2022.csv', '12-22-2020.csv', '12-22-2021.csv', '12-22-2022.csv', '12-23-2020.csv', '12-23-2021.csv', '12-23-2022.csv', '12-24-2020.csv', '12-24-2021.csv', '12-24-2022.csv', '12-25-2020.csv', '12-25-2021.csv', '12-25-2022.csv', '12-26-2020.csv', '12-26-2021.csv', '12-26-2022.csv', '12-27-2020.csv', '12-27-2021.csv', '12-27-2022.csv', '12-28-2020.csv', '12-28-2021.csv', '12-28-2022.csv', '12-29-2020.csv', '12-29-2021.csv', '12-29-2022.csv', '12-30-2020.csv', '12-30-2021.csv', '12-30-2022.csv', '12-31-2020.csv', '12-31-2021.csv', '12-31-2022.csv']\n"
     ]
    }
   ],
   "source": [
    "import os\n",
    "\n",
    "file_path = 'ex_datafile/COVID-19-master/csse_covid_19_data/csse_covid_19_daily_reports/'\n",
    "\n",
    "file_list = os.listdir(file_path)\n",
    "csv_list = list()\n",
    "\n",
    "for file in file_list:\n",
    "    if file.split(\".\")[-1] == 'csv':\n",
    "        csv_list.append(file)\n",
    "\n",
    "print (csv_list)"
   ]
  },
  {
   "cell_type": "code",
   "execution_count": 13,
   "id": "09767eb3",
   "metadata": {},
   "outputs": [
    {
     "name": "stdout",
     "output_type": "stream",
     "text": [
      "['01-01-2021', '01-02-2021', '01-03-2021', '01-04-2021', '01-05-2021', '01-06-2021', '01-07-2021', '01-08-2021', '01-09-2021', '01-10-2021', '01-11-2021', '01-12-2021', '01-13-2021', '01-14-2021', '01-15-2021', '01-16-2021', '01-17-2021', '01-18-2021', '01-19-2021', '01-20-2021', '01-21-2021', '01-22-2021', '01-23-2021', '01-24-2021', '01-25-2021', '01-26-2021', '01-27-2021', '01-28-2021', '01-29-2021', '01-30-2021', '01-31-2021', '02-01-2021', '02-02-2021', '02-03-2021', '02-04-2021', '02-05-2021', '02-06-2021', '02-07-2021', '02-08-2021', '02-09-2021', '02-10-2021', '02-11-2021', '02-12-2021', '02-13-2021', '02-14-2021', '02-15-2021', '02-16-2021', '02-17-2021', '02-18-2021', '02-19-2021', '02-20-2021', '02-21-2021', '02-22-2021', '02-23-2021', '02-24-2021', '02-25-2021', '02-26-2021', '02-27-2021', '02-28-2021', '03-01-2021', '03-02-2021', '03-03-2021', '03-04-2021', '03-05-2021', '03-06-2021', '03-07-2021', '03-08-2021', '03-09-2021', '03-10-2021', '03-11-2021', '03-12-2021', '03-13-2021', '03-14-2021', '03-15-2021', '03-16-2021', '03-17-2021', '03-18-2021', '03-19-2021', '03-20-2021', '03-21-2021', '03-22-2021', '03-23-2021', '03-24-2021', '03-25-2021', '03-26-2021', '03-27-2021', '03-28-2021', '03-29-2021', '03-30-2021', '03-31-2021', '04-01-2021', '04-02-2021', '04-03-2021', '04-04-2021', '04-05-2021', '04-06-2021', '04-07-2021', '04-08-2021', '04-09-2021', '04-10-2021', '04-11-2021', '04-12-2021', '04-13-2021', '04-14-2021', '04-15-2021', '04-16-2021', '04-17-2021', '04-18-2021', '04-19-2021', '04-20-2021', '04-21-2021', '04-22-2021', '04-23-2021', '04-24-2021', '04-25-2021', '04-26-2021', '04-27-2021', '04-28-2021', '04-29-2021', '04-30-2021', '05-01-2021', '05-02-2021', '05-03-2021', '05-04-2021', '05-05-2021', '05-06-2021', '05-07-2021', '05-08-2021', '05-09-2021', '05-10-2021', '05-11-2021', '05-12-2021', '05-13-2021', '05-14-2021', '05-15-2021', '05-16-2021', '05-17-2021', '05-18-2021', '05-19-2021', '05-20-2021', '05-21-2021', '05-22-2021', '05-23-2021', '05-24-2021', '05-25-2021', '05-26-2021', '05-27-2021', '05-28-2021', '05-29-2021', '05-30-2021', '05-31-2021', '06-01-2021', '06-02-2021', '06-03-2021', '06-04-2021', '06-05-2021', '06-06-2021', '06-07-2021', '06-08-2021', '06-09-2021', '06-10-2021', '06-11-2021', '06-12-2021', '06-13-2021', '06-14-2021', '06-15-2021', '06-16-2021', '06-17-2021', '06-18-2021', '06-19-2021', '06-20-2021', '06-21-2021', '06-22-2021', '06-23-2021', '06-24-2021', '06-25-2021', '06-26-2021', '06-27-2021', '06-28-2021', '06-29-2021', '06-30-2021', '07-01-2021', '07-02-2021', '07-03-2021', '07-04-2021', '07-05-2021', '07-06-2021', '07-07-2021', '07-08-2021', '07-09-2021', '07-10-2021', '07-11-2021', '07-12-2021', '07-13-2021', '07-14-2021', '07-15-2021', '07-16-2021', '07-17-2021', '07-18-2021', '07-19-2021', '07-20-2021', '07-21-2021', '07-22-2021', '07-23-2021', '07-24-2021', '07-25-2021', '07-26-2021', '07-27-2021', '07-28-2021', '07-29-2021', '07-30-2021', '07-31-2021', '08-01-2021', '08-02-2021', '08-03-2021', '08-04-2021', '08-05-2021', '08-06-2021', '08-07-2021', '08-08-2021', '08-09-2021', '08-10-2021', '08-11-2021', '08-12-2021', '08-13-2021', '08-14-2021', '08-15-2021', '08-16-2021', '08-17-2021', '08-18-2021', '08-19-2021', '08-20-2021', '08-21-2021', '08-22-2021', '08-23-2021', '08-24-2021', '08-25-2021', '08-26-2021', '08-27-2021', '08-28-2021', '08-29-2021', '08-30-2021', '08-31-2021', '09-01-2021', '09-02-2021', '09-03-2021', '09-04-2021', '09-05-2021', '09-06-2021', '09-07-2021', '09-08-2021', '09-09-2021', '09-10-2021', '09-11-2021', '09-12-2021', '09-13-2021', '09-14-2021', '09-15-2021', '09-16-2021', '09-17-2021', '09-18-2021', '09-19-2021', '09-20-2021', '09-21-2021', '09-22-2021', '09-23-2021', '09-24-2021', '09-25-2021', '09-26-2021', '09-27-2021', '09-28-2021', '09-29-2021', '09-30-2021', '10-01-2021', '10-02-2021', '10-03-2021', '10-04-2021', '10-05-2021', '10-06-2021', '10-07-2021', '10-08-2021', '10-09-2021', '10-10-2021', '10-11-2021', '10-12-2021', '10-13-2021', '10-14-2021', '10-15-2021', '10-16-2021', '10-17-2021', '10-18-2021', '10-19-2021', '10-20-2021', '10-21-2021', '10-22-2021', '10-23-2021', '10-24-2021', '10-25-2021', '10-26-2021', '10-27-2021', '10-28-2021', '10-29-2021', '10-30-2021', '10-31-2021', '11-01-2021', '11-02-2021', '11-03-2021', '11-04-2021', '11-05-2021', '11-06-2021', '11-07-2021', '11-08-2021', '11-09-2021', '11-10-2021', '11-11-2021', '11-12-2021', '11-13-2021', '11-14-2021', '11-15-2021', '11-16-2021', '11-17-2021', '11-18-2021', '11-19-2021', '11-20-2021', '11-21-2021', '11-22-2021', '11-23-2021', '11-24-2021', '11-25-2021', '11-26-2021', '11-27-2021', '11-28-2021', '11-29-2021', '11-30-2021', '12-01-2021', '12-02-2021', '12-03-2021', '12-04-2021', '12-05-2021', '12-06-2021', '12-07-2021', '12-08-2021', '12-09-2021', '12-10-2021', '12-11-2021', '12-12-2021', '12-13-2021', '12-14-2021', '12-15-2021', '12-16-2021', '12-17-2021', '12-18-2021', '12-19-2021', '12-20-2021', '12-21-2021', '12-22-2021', '12-23-2021', '12-24-2021', '12-25-2021', '12-26-2021', '12-27-2021', '12-28-2021', '12-29-2021', '12-30-2021', '12-31-2021']\n"
     ]
    }
   ],
   "source": [
    "csv_list_data = list()\n",
    "for i in csv_list:\n",
    "    i = i.split('.')[0]\n",
    "    year = i.split('-')[2]\n",
    "    if year == '2021':\n",
    "        csv_list_data.append(i)\n",
    "        \n",
    "print(csv_list_data)"
   ]
  },
  {
   "cell_type": "code",
   "execution_count": null,
   "id": "e7f5775e",
   "metadata": {},
   "outputs": [],
   "source": []
  },
  {
   "cell_type": "code",
   "execution_count": null,
   "id": "6fb3a5a2",
   "metadata": {},
   "outputs": [],
   "source": []
  },
  {
   "cell_type": "code",
   "execution_count": null,
   "id": "9c31921a",
   "metadata": {},
   "outputs": [],
   "source": []
  },
  {
   "cell_type": "code",
   "execution_count": null,
   "id": "eba6c40e",
   "metadata": {},
   "outputs": [],
   "source": []
  },
  {
   "cell_type": "code",
   "execution_count": null,
   "id": "8a0e8389",
   "metadata": {},
   "outputs": [],
   "source": []
  },
  {
   "cell_type": "code",
   "execution_count": null,
   "id": "9cb6a1b4",
   "metadata": {},
   "outputs": [],
   "source": []
  },
  {
   "cell_type": "code",
   "execution_count": null,
   "id": "e265cc10",
   "metadata": {},
   "outputs": [],
   "source": []
  },
  {
   "cell_type": "code",
   "execution_count": null,
   "id": "82433db1",
   "metadata": {},
   "outputs": [],
   "source": []
  },
  {
   "cell_type": "code",
   "execution_count": null,
   "id": "9c07bc9d",
   "metadata": {},
   "outputs": [],
   "source": []
  },
  {
   "cell_type": "code",
   "execution_count": null,
   "id": "55130ce6",
   "metadata": {},
   "outputs": [],
   "source": []
  }
 ],
 "metadata": {
  "kernelspec": {
   "display_name": "Python 3 (ipykernel)",
   "language": "python",
   "name": "python3"
  },
  "language_info": {
   "codemirror_mode": {
    "name": "ipython",
    "version": 3
   },
   "file_extension": ".py",
   "mimetype": "text/x-python",
   "name": "python",
   "nbconvert_exporter": "python",
   "pygments_lexer": "ipython3",
   "version": "3.11.3"
  }
 },
 "nbformat": 4,
 "nbformat_minor": 5
}
