{
 "cells": [
  {
   "cell_type": "markdown",
   "id": "042ef3ca",
   "metadata": {},
   "source": [
    "### 파일 오픈 및 작업\n",
    "- 3가지 명령 순서로 처리한다.\n",
    "    - File open\n",
    "    - File read or write\n",
    "    - File close\n",
    "    - ※ File open시 꼭 close 해줘야됨.(메모리 차지)"
   ]
  },
  {
   "cell_type": "markdown",
   "id": "6f8d5042",
   "metadata": {},
   "source": [
    "문법\n",
    "- variable =  open(File name, File open mode, endcoding=\" \")\n",
    "- File open mode\n",
    "    - w : 쓰기 모드\n",
    "    - r : 읽기 모드\n",
    "    - a : 맨마지막에 추가"
   ]
  },
  {
   "cell_type": "code",
   "execution_count": 1,
   "id": "23a78481",
   "metadata": {},
   "outputs": [],
   "source": [
    "file_path = ''\n",
    "data_file = open('ex_datafile/text_data.txt', 'r', encoding='utf-8')"
   ]
  },
  {
   "cell_type": "code",
   "execution_count": 7,
   "id": "14f45661",
   "metadata": {},
   "outputs": [],
   "source": [
    "# 파일 닫기\n",
    "data_file.close()"
   ]
  },
  {
   "cell_type": "code",
   "execution_count": null,
   "id": "a8d61b32",
   "metadata": {},
   "outputs": [],
   "source": [
    "# 자동으로 파일을 닫기\n",
    "# with open('File name', 'File mode', encoding ='') as variable:"
   ]
  },
  {
   "cell_type": "code",
   "execution_count": 8,
   "id": "d858a85e",
   "metadata": {},
   "outputs": [
    {
     "name": "stdout",
     "output_type": "stream",
     "text": [
      "test\n"
     ]
    }
   ],
   "source": [
    "with open('ex_datafile/text_data.txt', 'r', encoding='utf-8') as data_file:\n",
    "    print('test')"
   ]
  },
  {
   "cell_type": "markdown",
   "id": "ca1b8032",
   "metadata": {},
   "source": [
    "### 파일 읽기"
   ]
  },
  {
   "cell_type": "markdown",
   "id": "ad0286c4",
   "metadata": {},
   "source": [
    "#### readlines() 함수 사용\n",
    "- 파일을 읽은 다음 한줄씩 리스트타입으로 읽을수 있다"
   ]
  },
  {
   "cell_type": "code",
   "execution_count": 9,
   "id": "81a7ef5d",
   "metadata": {
    "scrolled": true
   },
   "outputs": [
    {
     "data": {
      "text/plain": [
       "['안녕하세요. Dave Lee 입니다.\\n', '본 예제는 Plain Text 파일 예제입니다.\\n', '감사합니다.']"
      ]
     },
     "execution_count": 9,
     "metadata": {},
     "output_type": "execute_result"
    }
   ],
   "source": [
    "data_file = open('ex_datafile/text_data.txt', 'r', encoding='utf-8')\n",
    "data_line = data_file.readlines()\n",
    "data_line"
   ]
  },
  {
   "cell_type": "markdown",
   "id": "8f6b06ad",
   "metadata": {},
   "source": [
    "- 리스트 타입으로 받을 경우 for문 이용해서 데이터 처리"
   ]
  },
  {
   "cell_type": "code",
   "execution_count": 12,
   "id": "4fb01420",
   "metadata": {},
   "outputs": [
    {
     "name": "stdout",
     "output_type": "stream",
     "text": [
      "안녕하세요. Dave Lee 입니다.\n",
      "\n",
      "본 예제는 Plain Text 파일 예제입니다.\n",
      "\n",
      "감사합니다.\n"
     ]
    }
   ],
   "source": [
    "for data in data_line:\n",
    "    print(data);\n",
    "data_file.close()"
   ]
  },
  {
   "cell_type": "markdown",
   "id": "d8f08d81",
   "metadata": {},
   "source": [
    "#### readline() 함수 사용\n",
    "- 현재까지 읽은 파일 데이터의 다음 한줄을 문자열로 받음"
   ]
  },
  {
   "cell_type": "code",
   "execution_count": 18,
   "id": "1faebb6b",
   "metadata": {},
   "outputs": [
    {
     "name": "stdout",
     "output_type": "stream",
     "text": [
      "안녕하세요. Dave Lee 입니다.\n",
      "\n"
     ]
    }
   ],
   "source": [
    "data_file = open('ex_datafile/text_data.txt', 'r', encoding='utf-8')\n",
    "data_line = data_file.readline()\n",
    "print(data_line)"
   ]
  },
  {
   "cell_type": "code",
   "execution_count": 19,
   "id": "996d699d",
   "metadata": {},
   "outputs": [
    {
     "name": "stdout",
     "output_type": "stream",
     "text": [
      "본 예제는 Plain Text 파일 예제입니다.\n",
      "\n"
     ]
    }
   ],
   "source": [
    "data_line = data_file.readline()\n",
    "print(data_line)"
   ]
  },
  {
   "cell_type": "code",
   "execution_count": 20,
   "id": "1a5392fb",
   "metadata": {},
   "outputs": [],
   "source": [
    "data_file.close()"
   ]
  },
  {
   "cell_type": "markdown",
   "id": "5fb114ba",
   "metadata": {},
   "source": [
    "#### read() 함수 사용\n",
    "- 전체 파일 데이터를 문자열로 받음"
   ]
  },
  {
   "cell_type": "code",
   "execution_count": 11,
   "id": "e0722b5c",
   "metadata": {},
   "outputs": [
    {
     "data": {
      "text/plain": [
       "'안녕하세요. Dave Lee 입니다.\\n본 예제는 Plain Text 파일 예제입니다.\\n감사합니다.'"
      ]
     },
     "execution_count": 11,
     "metadata": {},
     "output_type": "execute_result"
    }
   ],
   "source": [
    "data_file = open('../data_analyze_study/ex_datafile/text_data.txt', 'r', encoding='utf-8')\n",
    "data = data_file.read()\n",
    "data"
   ]
  },
  {
   "cell_type": "code",
   "execution_count": 26,
   "id": "a3d42cfe",
   "metadata": {},
   "outputs": [],
   "source": [
    "data_file.close()"
   ]
  },
  {
   "cell_type": "markdown",
   "id": "af173595",
   "metadata": {},
   "source": [
    "#### write() 사용하기"
   ]
  },
  {
   "cell_type": "code",
   "execution_count": 21,
   "id": "d8e27a9f",
   "metadata": {},
   "outputs": [],
   "source": [
    "data = open('../data_analyze_study/ex_datafile/test.txt', 'w', encoding='utf-8')\n",
    "data.write('테스트 파일 생성\\n')\n",
    "data.write('테스트 파일 작성완료\\n')\n",
    "data.close()"
   ]
  },
  {
   "cell_type": "code",
   "execution_count": 22,
   "id": "eadb0537",
   "metadata": {},
   "outputs": [
    {
     "name": "stdout",
     "output_type": "stream",
     "text": [
      "테스트 파일 생성\n",
      "\n",
      "테스트 파일 작성완료\n",
      "\n"
     ]
    }
   ],
   "source": [
    "with open('../data_analyze_study/ex_datafile/test.txt', 'r', encoding='utf-8') as data:\n",
    "    for a in data:\n",
    "        print(a)"
   ]
  },
  {
   "cell_type": "markdown",
   "id": "f39e7e45",
   "metadata": {},
   "source": [
    "#### 연습문제\n",
    "- text_data_practicce.txt 파일 만들고 내용쓰기"
   ]
  },
  {
   "cell_type": "code",
   "execution_count": 36,
   "id": "0526af61",
   "metadata": {},
   "outputs": [],
   "source": [
    "file_path = '../data_analyze_study/ex_datafile/text_data_practice.txt'\n",
    "\n",
    "\n",
    "data = open('../data_analyze_study/ex_datafile/text_data_practice.txt', 'w', encoding='utf-8')\n",
    "data.write('유치원A\\n')\n",
    "data.write('초등학교B\\n')\n",
    "data.write('중학교C\\n고등학교D')\n",
    "data.close()"
   ]
  },
  {
   "cell_type": "code",
   "execution_count": 37,
   "id": "413df97f",
   "metadata": {},
   "outputs": [
    {
     "name": "stdout",
     "output_type": "stream",
     "text": [
      "유치원A\n",
      "\n",
      "초등학교B\n",
      "\n",
      "중학교C\n",
      "\n",
      "고등학교D\n"
     ]
    }
   ],
   "source": [
    "with open('../data_analyze_study/ex_datafile/text_data_practice.txt', 'r', encoding='utf-8') as data:\n",
    "    for a in data:\n",
    "        print(a);"
   ]
  },
  {
   "cell_type": "code",
   "execution_count": 38,
   "id": "142110ab",
   "metadata": {},
   "outputs": [
    {
     "name": "stdout",
     "output_type": "stream",
     "text": [
      "유치원A\n",
      "\n",
      "초등학교B\n",
      "\n",
      "중학교C\n",
      "\n",
      "고등학교D\n",
      "\n",
      "대학교E\n",
      "\n"
     ]
    }
   ],
   "source": [
    "with open('../data_analyze_study/ex_datafile/text_data_practice.txt', 'a', encoding='utf-8') as data:\n",
    "    data.write('\\n대학교E\\n')\n",
    "\n",
    "with open('../data_analyze_study/ex_datafile/text_data_practice.txt', 'r', encoding='utf-8') as data:\n",
    "    for a in data:\n",
    "        print(a);    \n"
   ]
  },
  {
   "cell_type": "code",
   "execution_count": null,
   "id": "8bcd1abe",
   "metadata": {},
   "outputs": [],
   "source": []
  },
  {
   "cell_type": "code",
   "execution_count": null,
   "id": "90ffbb63",
   "metadata": {},
   "outputs": [],
   "source": []
  }
 ],
 "metadata": {
  "kernelspec": {
   "display_name": "Python 3 (ipykernel)",
   "language": "python",
   "name": "python3"
  },
  "language_info": {
   "codemirror_mode": {
    "name": "ipython",
    "version": 3
   },
   "file_extension": ".py",
   "mimetype": "text/x-python",
   "name": "python",
   "nbconvert_exporter": "python",
   "pygments_lexer": "ipython3",
   "version": "3.11.3"
  }
 },
 "nbformat": 4,
 "nbformat_minor": 5
}
