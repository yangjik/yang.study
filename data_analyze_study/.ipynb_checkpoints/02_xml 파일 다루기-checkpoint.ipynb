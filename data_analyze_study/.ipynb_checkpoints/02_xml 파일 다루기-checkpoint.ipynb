{
 "cells": [
  {
   "cell_type": "markdown",
   "id": "eeb5044f",
   "metadata": {},
   "source": [
    "#### xml 기본 구조\n",
    "- <태그 속성 ='속성값'> 내용</태그>"
   ]
  },
  {
   "cell_type": "code",
   "execution_count": 2,
   "id": "fbf715d9",
   "metadata": {},
   "outputs": [],
   "source": [
    "from bs4 import BeautifulSoup"
   ]
  },
  {
   "cell_type": "code",
   "execution_count": 2,
   "id": "38555290",
   "metadata": {},
   "outputs": [
    {
     "name": "stdout",
     "output_type": "stream",
     "text": [
      "Collecting bs4\n",
      "  Downloading bs4-0.0.1.tar.gz (1.1 kB)\n",
      "  Preparing metadata (setup.py): started\n",
      "  Preparing metadata (setup.py): finished with status 'done'\n",
      "Requirement already satisfied: beautifulsoup4 in c:\\users\\jik\\.conda\\envs\\study\\lib\\site-packages (from bs4) (4.12.2)\n",
      "Requirement already satisfied: soupsieve>1.2 in c:\\users\\jik\\.conda\\envs\\study\\lib\\site-packages (from beautifulsoup4->bs4) (2.4)\n",
      "Building wheels for collected packages: bs4\n",
      "  Building wheel for bs4 (setup.py): started\n",
      "  Building wheel for bs4 (setup.py): finished with status 'done'\n",
      "  Created wheel for bs4: filename=bs4-0.0.1-py3-none-any.whl size=1264 sha256=59be794be84590be651f31e728c7016fb170635576b03ace23a644302d4847df\n",
      "  Stored in directory: c:\\users\\jik\\appdata\\local\\pip\\cache\\wheels\\d4\\c8\\5b\\b5be9c20e5e4503d04a6eac8a3cd5c2393505c29f02bea0960\n",
      "Successfully built bs4\n",
      "Installing collected packages: bs4\n",
      "Successfully installed bs4-0.0.1\n",
      "Note: you may need to restart the kernel to use updated packages.\n"
     ]
    }
   ],
   "source": [
    "pip install bs4"
   ]
  },
  {
   "cell_type": "code",
   "execution_count": 3,
   "id": "8aa31815",
   "metadata": {},
   "outputs": [
    {
     "name": "stdout",
     "output_type": "stream",
     "text": [
      "\n",
      "잔재미코딩\n",
      "30\n",
      "\n",
      "\n",
      "Dave Lee\n",
      "21\n",
      "\n"
     ]
    }
   ],
   "source": [
    "data_file = open('ex_datafile/users.xml', 'r',  encoding='utf-8')\n",
    "soup = BeautifulSoup(data_file, 'xml')\n",
    "\n",
    "user = soup.select('user')\n",
    "\n",
    "for a in user:\n",
    "    print(a.text)"
   ]
  },
  {
   "cell_type": "code",
   "execution_count": 7,
   "id": "5bf93caf",
   "metadata": {},
   "outputs": [
    {
     "name": "stdout",
     "output_type": "stream",
     "text": [
      "이름 : 잔재미코딩\n",
      "나이 : 30\n",
      "이름 : Dave Lee\n",
      "나이 : 21\n"
     ]
    }
   ],
   "source": [
    "data_file = open('ex_datafile/users.xml', 'r',  encoding='utf-8')\n",
    "soup = BeautifulSoup(data_file, 'xml')\n",
    "\n",
    "user = soup.select('user')\n",
    "\n",
    "for a in user:\n",
    "    print('이름 :', a.select_one('name').text)\n",
    "    print('나이 :', a.select_one('age').text)"
   ]
  },
  {
   "cell_type": "code",
   "execution_count": null,
   "id": "15b840ab",
   "metadata": {},
   "outputs": [],
   "source": []
  },
  {
   "cell_type": "code",
   "execution_count": null,
   "id": "1c02025f",
   "metadata": {},
   "outputs": [],
   "source": []
  },
  {
   "cell_type": "code",
   "execution_count": null,
   "id": "53ec26b1",
   "metadata": {},
   "outputs": [],
   "source": []
  },
  {
   "cell_type": "code",
   "execution_count": null,
   "id": "671865eb",
   "metadata": {},
   "outputs": [],
   "source": []
  },
  {
   "cell_type": "code",
   "execution_count": null,
   "id": "d9a2fd6c",
   "metadata": {},
   "outputs": [],
   "source": []
  },
  {
   "cell_type": "code",
   "execution_count": null,
   "id": "b1adfc9f",
   "metadata": {},
   "outputs": [],
   "source": []
  }
 ],
 "metadata": {
  "kernelspec": {
   "display_name": "Python 3 (ipykernel)",
   "language": "python",
   "name": "python3"
  },
  "language_info": {
   "codemirror_mode": {
    "name": "ipython",
    "version": 3
   },
   "file_extension": ".py",
   "mimetype": "text/x-python",
   "name": "python",
   "nbconvert_exporter": "python",
   "pygments_lexer": "ipython3",
   "version": "3.11.3"
  }
 },
 "nbformat": 4,
 "nbformat_minor": 5
}
