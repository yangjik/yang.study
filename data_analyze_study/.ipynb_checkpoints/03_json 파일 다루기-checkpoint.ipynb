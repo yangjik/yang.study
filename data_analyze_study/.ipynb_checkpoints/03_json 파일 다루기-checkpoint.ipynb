{
 "cells": [
  {
   "cell_type": "markdown",
   "id": "34674867",
   "metadata": {},
   "source": [
    "#### JSON\n",
    "- {key : value} 형태\n",
    "- pyhton 에서 dict 형태이다.\n",
    "\n",
    "json.loads() 함수로  문자열로 된 json 데이터를 만든다"
   ]
  },
  {
   "cell_type": "code",
   "execution_count": 2,
   "id": "4a1a9d95",
   "metadata": {},
   "outputs": [],
   "source": [
    "import json\n",
    "# error시  pip install json"
   ]
  },
  {
   "cell_type": "code",
   "execution_count": 6,
   "id": "10ced746",
   "metadata": {},
   "outputs": [
    {
     "name": "stdout",
     "output_type": "stream",
     "text": [
      "1 :  01 <class 'dict'>\n"
     ]
    }
   ],
   "source": [
    "import json\n",
    "\n",
    "data = '{ \"id\" : \"01\", \"성\" : \"김\", \"이름\" : \"김김\" }'\n",
    "\n",
    "json_data = json.loads(data)\n",
    "print('1 : ', json_data['id'], type(json_data))\n"
   ]
  },
  {
   "cell_type": "markdown",
   "id": "8dfa3a17",
   "metadata": {},
   "source": [
    "#### dumps() \n",
    "- dict 형태 데이터를 json 형태 데이터로 변환"
   ]
  },
  {
   "cell_type": "code",
   "execution_count": 11,
   "id": "c603d7e2",
   "metadata": {},
   "outputs": [
    {
     "name": "stdout",
     "output_type": "stream",
     "text": [
      "{\"id\": \"1\", \"성\": \"김\", \"이름\": \"김김\"}\n",
      "{\n",
      "  \"id\": \"1\",\n",
      "  \"성\": \"김\",\n",
      "  \"이름\": \"김김\"\n",
      "}\n"
     ]
    }
   ],
   "source": [
    "import json\n",
    "\n",
    "data = {\n",
    "    'id' : '1',\n",
    "    '성' : '김',\n",
    "    '이름' : '김김'\n",
    "}\n",
    "js_data = json.dumps(data, ensure_ascii = False) # ensure_ascii = False => 한글 작성시 아스키코드로 저장됨\n",
    "print(js_data)\n",
    "\n",
    "js_data = json.dumps(data, ensure_ascii = False,indent=2)\n",
    "print(js_data)"
   ]
  },
  {
   "cell_type": "markdown",
   "id": "37736ea0",
   "metadata": {},
   "source": [
    "#### dict 형태의 데이터를 json 파일로 저장하기"
   ]
  },
  {
   "cell_type": "code",
   "execution_count": 15,
   "id": "4d49e402",
   "metadata": {},
   "outputs": [
    {
     "name": "stdout",
     "output_type": "stream",
     "text": [
      "{'id': '1', '성': '김', '이름': '김김', '수강 과목': ['수학', '과학']}\n"
     ]
    }
   ],
   "source": [
    "import json\n",
    "\n",
    "data = {'id' : '1', '성' : '김', '이름' : '김김', '수강 과목' : ['수학', '과학']}\n",
    "\n",
    "print(data)\n",
    "\n",
    "with open('ex_datafile/test.json', 'w', encoding='utf-8') as js_data:\n",
    "    json.dump(data, js_data,indent=2)"
   ]
  },
  {
   "cell_type": "code",
   "execution_count": 23,
   "id": "3b74f2d5",
   "metadata": {
    "scrolled": true
   },
   "outputs": [
    {
     "name": "stdout",
     "output_type": "stream",
     "text": [
      "youtube#videoCategory Film & Animation\n",
      "youtube#videoCategory Autos & Vehicles\n",
      "youtube#videoCategory Music\n",
      "youtube#videoCategory Pets & Animals\n",
      "youtube#videoCategory Sports\n",
      "youtube#videoCategory Short Movies\n",
      "youtube#videoCategory Travel & Events\n",
      "youtube#videoCategory Gaming\n",
      "youtube#videoCategory Videoblogging\n",
      "youtube#videoCategory People & Blogs\n",
      "youtube#videoCategory Comedy\n",
      "youtube#videoCategory Entertainment\n",
      "youtube#videoCategory News & Politics\n",
      "youtube#videoCategory Howto & Style\n",
      "youtube#videoCategory Education\n",
      "youtube#videoCategory Science & Technology\n",
      "youtube#videoCategory Nonprofits & Activism\n",
      "youtube#videoCategory Movies\n",
      "youtube#videoCategory Anime/Animation\n",
      "youtube#videoCategory Action/Adventure\n",
      "youtube#videoCategory Classics\n",
      "youtube#videoCategory Comedy\n",
      "youtube#videoCategory Documentary\n",
      "youtube#videoCategory Drama\n",
      "youtube#videoCategory Family\n",
      "youtube#videoCategory Foreign\n",
      "youtube#videoCategory Horror\n",
      "youtube#videoCategory Sci-Fi/Fantasy\n",
      "youtube#videoCategory Thriller\n",
      "youtube#videoCategory Shorts\n",
      "youtube#videoCategory Shows\n",
      "youtube#videoCategory Trailers\n"
     ]
    }
   ],
   "source": [
    "import json\n",
    "with open('ex_datafile/US_category_id.json', 'r', encoding='utf-8') as js_file:\n",
    "    json_data = json.load(js_file)\n",
    "    for a in json_data['items']:\n",
    "        print(a['kind'], a['snippet']['title'])"
   ]
  },
  {
   "cell_type": "code",
   "execution_count": null,
   "id": "745db600",
   "metadata": {},
   "outputs": [],
   "source": []
  },
  {
   "cell_type": "code",
   "execution_count": null,
   "id": "23adf652",
   "metadata": {},
   "outputs": [],
   "source": []
  }
 ],
 "metadata": {
  "kernelspec": {
   "display_name": "Python 3 (ipykernel)",
   "language": "python",
   "name": "python3"
  },
  "language_info": {
   "codemirror_mode": {
    "name": "ipython",
    "version": 3
   },
   "file_extension": ".py",
   "mimetype": "text/x-python",
   "name": "python",
   "nbconvert_exporter": "python",
   "pygments_lexer": "ipython3",
   "version": "3.11.3"
  }
 },
 "nbformat": 4,
 "nbformat_minor": 5
}
