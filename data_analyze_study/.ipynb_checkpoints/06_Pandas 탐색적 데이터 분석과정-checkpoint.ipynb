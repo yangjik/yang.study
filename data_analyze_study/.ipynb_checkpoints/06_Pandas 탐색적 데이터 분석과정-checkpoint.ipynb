{
 "cells": [
  {
   "cell_type": "markdown",
   "id": "d99d3070",
   "metadata": {},
   "source": [
    "### 탐색적 데이터 분석 과정\n",
    "- EDA(Exploatory Data Analyasis)\n",
    "- 3단계 방식으로 접근\n",
    "    - 데이터의 출처와 주제에 대해 이해\n",
    "    - 데이터의 크기 확인\n",
    "    - 데이터 구성 요소의 속성(특징)확인"
   ]
  },
  {
   "cell_type": "code",
   "execution_count": 1,
   "id": "fb6e87bd",
   "metadata": {},
   "outputs": [],
   "source": [
    "import pandas as pd\n",
    "import os"
   ]
  },
  {
   "cell_type": "code",
   "execution_count": 2,
   "id": "5fe8871b",
   "metadata": {
    "scrolled": true
   },
   "outputs": [
    {
     "data": {
      "text/plain": [
       "'D:\\\\yang.study\\\\data_analyze_study'"
      ]
     },
     "execution_count": 2,
     "metadata": {},
     "output_type": "execute_result"
    }
   ],
   "source": [
    "os.getcwd()"
   ]
  },
  {
   "cell_type": "markdown",
   "id": "425ccc9c",
   "metadata": {},
   "source": [
    "#### read_csv() / read_excel()\n",
    "- read_csv('csv파일 경로', encoding='')\n",
    "<br><br>\n",
    "- read_excel('파일 경로')    <- 맨앞 시트로 결정됨\n",
    "- read_excel('파일 경로', sheet_name='시트명')"
   ]
  },
  {
   "cell_type": "code",
   "execution_count": 3,
   "id": "f1f40c1c",
   "metadata": {},
   "outputs": [],
   "source": [
    "csv = pd.read_csv('ex_datafile/COVID-19-master/csse_covid_19_data/csse_covid_19_daily_reports/04-01-2022.csv', encoding='utf-8')"
   ]
  },
  {
   "cell_type": "code",
   "execution_count": 4,
   "id": "32cc8653",
   "metadata": {},
   "outputs": [
    {
     "data": {
      "text/plain": [
       "(4016, 14)"
      ]
     },
     "execution_count": 4,
     "metadata": {},
     "output_type": "execute_result"
    }
   ],
   "source": [
    "# 데이터 row, col 개수 확인\n",
    "csv.shape"
   ]
  },
  {
   "cell_type": "code",
   "execution_count": 5,
   "id": "c742de06",
   "metadata": {
    "scrolled": false
   },
   "outputs": [
    {
     "name": "stdout",
     "output_type": "stream",
     "text": [
      "<class 'pandas.core.frame.DataFrame'>\n",
      "RangeIndex: 4016 entries, 0 to 4015\n",
      "Data columns (total 14 columns):\n",
      " #   Column               Non-Null Count  Dtype  \n",
      "---  ------               --------------  -----  \n",
      " 0   FIPS                 3268 non-null   float64\n",
      " 1   Admin2               3272 non-null   object \n",
      " 2   Province_State       3837 non-null   object \n",
      " 3   Country_Region       4016 non-null   object \n",
      " 4   Last_Update          4016 non-null   object \n",
      " 5   Lat                  3925 non-null   float64\n",
      " 6   Long_                3925 non-null   float64\n",
      " 7   Confirmed            4016 non-null   int64  \n",
      " 8   Deaths               4016 non-null   int64  \n",
      " 9   Recovered            6 non-null      float64\n",
      " 10  Active               6 non-null      float64\n",
      " 11  Combined_Key         4016 non-null   object \n",
      " 12  Incident_Rate        3923 non-null   float64\n",
      " 13  Case_Fatality_Ratio  3975 non-null   float64\n",
      "dtypes: float64(7), int64(2), object(5)\n",
      "memory usage: 439.4+ KB\n"
     ]
    }
   ],
   "source": [
    "# 데이터 누락되어있는지 확인\n",
    "csv.info()"
   ]
  },
  {
   "cell_type": "code",
   "execution_count": 6,
   "id": "03d56c20",
   "metadata": {},
   "outputs": [
    {
     "data": {
      "text/html": [
       "<div>\n",
       "<style scoped>\n",
       "    .dataframe tbody tr th:only-of-type {\n",
       "        vertical-align: middle;\n",
       "    }\n",
       "\n",
       "    .dataframe tbody tr th {\n",
       "        vertical-align: top;\n",
       "    }\n",
       "\n",
       "    .dataframe thead th {\n",
       "        text-align: right;\n",
       "    }\n",
       "</style>\n",
       "<table border=\"1\" class=\"dataframe\">\n",
       "  <thead>\n",
       "    <tr style=\"text-align: right;\">\n",
       "      <th></th>\n",
       "      <th>FIPS</th>\n",
       "      <th>Admin2</th>\n",
       "      <th>Province_State</th>\n",
       "      <th>Country_Region</th>\n",
       "      <th>Last_Update</th>\n",
       "      <th>Lat</th>\n",
       "      <th>Long_</th>\n",
       "      <th>Confirmed</th>\n",
       "      <th>Deaths</th>\n",
       "      <th>Recovered</th>\n",
       "      <th>Active</th>\n",
       "      <th>Combined_Key</th>\n",
       "      <th>Incident_Rate</th>\n",
       "      <th>Case_Fatality_Ratio</th>\n",
       "    </tr>\n",
       "  </thead>\n",
       "  <tbody>\n",
       "    <tr>\n",
       "      <th>0</th>\n",
       "      <td>NaN</td>\n",
       "      <td>NaN</td>\n",
       "      <td>NaN</td>\n",
       "      <td>Afghanistan</td>\n",
       "      <td>2022-04-02 04:20:47</td>\n",
       "      <td>33.93911</td>\n",
       "      <td>67.709953</td>\n",
       "      <td>177782</td>\n",
       "      <td>7670</td>\n",
       "      <td>NaN</td>\n",
       "      <td>NaN</td>\n",
       "      <td>Afghanistan</td>\n",
       "      <td>456.690410</td>\n",
       "      <td>4.314273</td>\n",
       "    </tr>\n",
       "    <tr>\n",
       "      <th>1</th>\n",
       "      <td>NaN</td>\n",
       "      <td>NaN</td>\n",
       "      <td>NaN</td>\n",
       "      <td>Albania</td>\n",
       "      <td>2022-04-02 04:20:47</td>\n",
       "      <td>41.15330</td>\n",
       "      <td>20.168300</td>\n",
       "      <td>273759</td>\n",
       "      <td>3492</td>\n",
       "      <td>NaN</td>\n",
       "      <td>NaN</td>\n",
       "      <td>Albania</td>\n",
       "      <td>9512.787546</td>\n",
       "      <td>1.275575</td>\n",
       "    </tr>\n",
       "    <tr>\n",
       "      <th>2</th>\n",
       "      <td>NaN</td>\n",
       "      <td>NaN</td>\n",
       "      <td>NaN</td>\n",
       "      <td>Algeria</td>\n",
       "      <td>2022-04-02 04:20:47</td>\n",
       "      <td>28.03390</td>\n",
       "      <td>1.659600</td>\n",
       "      <td>265679</td>\n",
       "      <td>6874</td>\n",
       "      <td>NaN</td>\n",
       "      <td>NaN</td>\n",
       "      <td>Algeria</td>\n",
       "      <td>605.867003</td>\n",
       "      <td>2.587333</td>\n",
       "    </tr>\n",
       "    <tr>\n",
       "      <th>3</th>\n",
       "      <td>NaN</td>\n",
       "      <td>NaN</td>\n",
       "      <td>NaN</td>\n",
       "      <td>Andorra</td>\n",
       "      <td>2022-04-02 04:20:47</td>\n",
       "      <td>42.50630</td>\n",
       "      <td>1.521800</td>\n",
       "      <td>40024</td>\n",
       "      <td>153</td>\n",
       "      <td>NaN</td>\n",
       "      <td>NaN</td>\n",
       "      <td>Andorra</td>\n",
       "      <td>51800.944800</td>\n",
       "      <td>0.382271</td>\n",
       "    </tr>\n",
       "    <tr>\n",
       "      <th>4</th>\n",
       "      <td>NaN</td>\n",
       "      <td>NaN</td>\n",
       "      <td>NaN</td>\n",
       "      <td>Angola</td>\n",
       "      <td>2022-04-02 04:20:47</td>\n",
       "      <td>-11.20270</td>\n",
       "      <td>17.873900</td>\n",
       "      <td>99194</td>\n",
       "      <td>1900</td>\n",
       "      <td>NaN</td>\n",
       "      <td>NaN</td>\n",
       "      <td>Angola</td>\n",
       "      <td>301.810963</td>\n",
       "      <td>1.915438</td>\n",
       "    </tr>\n",
       "  </tbody>\n",
       "</table>\n",
       "</div>"
      ],
      "text/plain": [
       "   FIPS Admin2 Province_State Country_Region          Last_Update       Lat  \\\n",
       "0   NaN    NaN            NaN    Afghanistan  2022-04-02 04:20:47  33.93911   \n",
       "1   NaN    NaN            NaN        Albania  2022-04-02 04:20:47  41.15330   \n",
       "2   NaN    NaN            NaN        Algeria  2022-04-02 04:20:47  28.03390   \n",
       "3   NaN    NaN            NaN        Andorra  2022-04-02 04:20:47  42.50630   \n",
       "4   NaN    NaN            NaN         Angola  2022-04-02 04:20:47 -11.20270   \n",
       "\n",
       "       Long_  Confirmed  Deaths  Recovered  Active Combined_Key  \\\n",
       "0  67.709953     177782    7670        NaN     NaN  Afghanistan   \n",
       "1  20.168300     273759    3492        NaN     NaN      Albania   \n",
       "2   1.659600     265679    6874        NaN     NaN      Algeria   \n",
       "3   1.521800      40024     153        NaN     NaN      Andorra   \n",
       "4  17.873900      99194    1900        NaN     NaN       Angola   \n",
       "\n",
       "   Incident_Rate  Case_Fatality_Ratio  \n",
       "0     456.690410             4.314273  \n",
       "1    9512.787546             1.275575  \n",
       "2     605.867003             2.587333  \n",
       "3   51800.944800             0.382271  \n",
       "4     301.810963             1.915438  "
      ]
     },
     "execution_count": 6,
     "metadata": {},
     "output_type": "execute_result"
    }
   ],
   "source": [
    "# 상위 3개 확인\n",
    "# 기본 값 10개이지만 숫자 넣어서 지정가능\n",
    "csv.head()"
   ]
  },
  {
   "cell_type": "code",
   "execution_count": 7,
   "id": "a2158c28",
   "metadata": {},
   "outputs": [
    {
     "data": {
      "text/plain": [
       "Index(['FIPS', 'Admin2', 'Province_State', 'Country_Region', 'Last_Update',\n",
       "       'Lat', 'Long_', 'Confirmed', 'Deaths', 'Recovered', 'Active',\n",
       "       'Combined_Key', 'Incident_Rate', 'Case_Fatality_Ratio'],\n",
       "      dtype='object')"
      ]
     },
     "execution_count": 7,
     "metadata": {},
     "output_type": "execute_result"
    }
   ],
   "source": [
    "# col 확인\n",
    "csv.columns"
   ]
  },
  {
   "cell_type": "markdown",
   "id": "04964a0b",
   "metadata": {},
   "source": [
    "↑<br><br>\n",
    "Country_Region : 국가, Confirmed : 확진, Deaths : 사망. Recovered : 회복\n",
    "Active : 확진 중인 사람(사망자/회복자 제외)"
   ]
  },
  {
   "cell_type": "markdown",
   "id": "2b7e6398",
   "metadata": {},
   "source": [
    "#### 속성이 숫자일경우 평균, 표준편차, 최소 최대값 확인\n",
    "- describe() 사용"
   ]
  },
  {
   "cell_type": "code",
   "execution_count": 8,
   "id": "6778ed35",
   "metadata": {},
   "outputs": [
    {
     "data": {
      "text/html": [
       "<div>\n",
       "<style scoped>\n",
       "    .dataframe tbody tr th:only-of-type {\n",
       "        vertical-align: middle;\n",
       "    }\n",
       "\n",
       "    .dataframe tbody tr th {\n",
       "        vertical-align: top;\n",
       "    }\n",
       "\n",
       "    .dataframe thead th {\n",
       "        text-align: right;\n",
       "    }\n",
       "</style>\n",
       "<table border=\"1\" class=\"dataframe\">\n",
       "  <thead>\n",
       "    <tr style=\"text-align: right;\">\n",
       "      <th></th>\n",
       "      <th>FIPS</th>\n",
       "      <th>Lat</th>\n",
       "      <th>Long_</th>\n",
       "      <th>Confirmed</th>\n",
       "      <th>Deaths</th>\n",
       "      <th>Recovered</th>\n",
       "      <th>Active</th>\n",
       "      <th>Incident_Rate</th>\n",
       "      <th>Case_Fatality_Ratio</th>\n",
       "    </tr>\n",
       "  </thead>\n",
       "  <tbody>\n",
       "    <tr>\n",
       "      <th>count</th>\n",
       "      <td>3268.000000</td>\n",
       "      <td>3925.000000</td>\n",
       "      <td>3925.000000</td>\n",
       "      <td>4.016000e+03</td>\n",
       "      <td>4016.000000</td>\n",
       "      <td>6.0</td>\n",
       "      <td>6.0</td>\n",
       "      <td>3923.000000</td>\n",
       "      <td>3975.000000</td>\n",
       "    </tr>\n",
       "    <tr>\n",
       "      <th>mean</th>\n",
       "      <td>32405.943390</td>\n",
       "      <td>35.736183</td>\n",
       "      <td>-71.109728</td>\n",
       "      <td>1.220692e+05</td>\n",
       "      <td>1539.490040</td>\n",
       "      <td>0.0</td>\n",
       "      <td>0.0</td>\n",
       "      <td>22173.155836</td>\n",
       "      <td>2.095506</td>\n",
       "    </tr>\n",
       "    <tr>\n",
       "      <th>std</th>\n",
       "      <td>18056.381177</td>\n",
       "      <td>13.441327</td>\n",
       "      <td>55.361480</td>\n",
       "      <td>7.396058e+05</td>\n",
       "      <td>8216.454675</td>\n",
       "      <td>0.0</td>\n",
       "      <td>0.0</td>\n",
       "      <td>8429.107618</td>\n",
       "      <td>25.247551</td>\n",
       "    </tr>\n",
       "    <tr>\n",
       "      <th>min</th>\n",
       "      <td>60.000000</td>\n",
       "      <td>-71.949900</td>\n",
       "      <td>-178.116500</td>\n",
       "      <td>0.000000e+00</td>\n",
       "      <td>0.000000</td>\n",
       "      <td>0.0</td>\n",
       "      <td>0.0</td>\n",
       "      <td>0.000000</td>\n",
       "      <td>0.000000</td>\n",
       "    </tr>\n",
       "    <tr>\n",
       "      <th>25%</th>\n",
       "      <td>19048.500000</td>\n",
       "      <td>33.191535</td>\n",
       "      <td>-96.595639</td>\n",
       "      <td>2.949500e+03</td>\n",
       "      <td>40.000000</td>\n",
       "      <td>0.0</td>\n",
       "      <td>0.0</td>\n",
       "      <td>18511.783961</td>\n",
       "      <td>0.940991</td>\n",
       "    </tr>\n",
       "    <tr>\n",
       "      <th>50%</th>\n",
       "      <td>30068.000000</td>\n",
       "      <td>37.895700</td>\n",
       "      <td>-86.717326</td>\n",
       "      <td>8.356500e+03</td>\n",
       "      <td>114.000000</td>\n",
       "      <td>0.0</td>\n",
       "      <td>0.0</td>\n",
       "      <td>23380.328969</td>\n",
       "      <td>1.388709</td>\n",
       "    </tr>\n",
       "    <tr>\n",
       "      <th>75%</th>\n",
       "      <td>47041.500000</td>\n",
       "      <td>42.176955</td>\n",
       "      <td>-77.357900</td>\n",
       "      <td>3.566775e+04</td>\n",
       "      <td>396.000000</td>\n",
       "      <td>0.0</td>\n",
       "      <td>0.0</td>\n",
       "      <td>27043.149712</td>\n",
       "      <td>1.891650</td>\n",
       "    </tr>\n",
       "    <tr>\n",
       "      <th>max</th>\n",
       "      <td>99999.000000</td>\n",
       "      <td>71.706900</td>\n",
       "      <td>178.065000</td>\n",
       "      <td>2.506854e+07</td>\n",
       "      <td>167437.000000</td>\n",
       "      <td>0.0</td>\n",
       "      <td>0.0</td>\n",
       "      <td>101183.431953</td>\n",
       "      <td>1398.275862</td>\n",
       "    </tr>\n",
       "  </tbody>\n",
       "</table>\n",
       "</div>"
      ],
      "text/plain": [
       "               FIPS          Lat        Long_     Confirmed         Deaths  \\\n",
       "count   3268.000000  3925.000000  3925.000000  4.016000e+03    4016.000000   \n",
       "mean   32405.943390    35.736183   -71.109728  1.220692e+05    1539.490040   \n",
       "std    18056.381177    13.441327    55.361480  7.396058e+05    8216.454675   \n",
       "min       60.000000   -71.949900  -178.116500  0.000000e+00       0.000000   \n",
       "25%    19048.500000    33.191535   -96.595639  2.949500e+03      40.000000   \n",
       "50%    30068.000000    37.895700   -86.717326  8.356500e+03     114.000000   \n",
       "75%    47041.500000    42.176955   -77.357900  3.566775e+04     396.000000   \n",
       "max    99999.000000    71.706900   178.065000  2.506854e+07  167437.000000   \n",
       "\n",
       "       Recovered  Active  Incident_Rate  Case_Fatality_Ratio  \n",
       "count        6.0     6.0    3923.000000          3975.000000  \n",
       "mean         0.0     0.0   22173.155836             2.095506  \n",
       "std          0.0     0.0    8429.107618            25.247551  \n",
       "min          0.0     0.0       0.000000             0.000000  \n",
       "25%          0.0     0.0   18511.783961             0.940991  \n",
       "50%          0.0     0.0   23380.328969             1.388709  \n",
       "75%          0.0     0.0   27043.149712             1.891650  \n",
       "max          0.0     0.0  101183.431953          1398.275862  "
      ]
     },
     "execution_count": 8,
     "metadata": {},
     "output_type": "execute_result"
    }
   ],
   "source": [
    "csv.describe()"
   ]
  },
  {
   "cell_type": "markdown",
   "id": "2e3d84a7",
   "metadata": {},
   "source": [
    "### 피어슨 상관계수"
   ]
  },
  {
   "cell_type": "code",
   "execution_count": 9,
   "id": "20e6f785",
   "metadata": {
    "scrolled": true
   },
   "outputs": [
    {
     "ename": "ValueError",
     "evalue": "could not convert string to float: 'Autauga'",
     "output_type": "error",
     "traceback": [
      "\u001b[1;31m---------------------------------------------------------------------------\u001b[0m",
      "\u001b[1;31mValueError\u001b[0m                                Traceback (most recent call last)",
      "Cell \u001b[1;32mIn[9], line 3\u001b[0m\n\u001b[0;32m      1\u001b[0m \u001b[38;5;66;03m# 데이터에 숫자가 아닌 문자가 포함되어있어서 문자로된 컬럼 무시필요\u001b[39;00m\n\u001b[0;32m      2\u001b[0m \u001b[38;5;66;03m# csv.corr(numeric_only=True)\u001b[39;00m\n\u001b[1;32m----> 3\u001b[0m csv\u001b[38;5;241m.\u001b[39mcorr()\n",
      "File \u001b[1;32m~\\.conda\\envs\\study\\Lib\\site-packages\\pandas\\core\\frame.py:10054\u001b[0m, in \u001b[0;36mDataFrame.corr\u001b[1;34m(self, method, min_periods, numeric_only)\u001b[0m\n\u001b[0;32m  10052\u001b[0m cols \u001b[38;5;241m=\u001b[39m data\u001b[38;5;241m.\u001b[39mcolumns\n\u001b[0;32m  10053\u001b[0m idx \u001b[38;5;241m=\u001b[39m cols\u001b[38;5;241m.\u001b[39mcopy()\n\u001b[1;32m> 10054\u001b[0m mat \u001b[38;5;241m=\u001b[39m data\u001b[38;5;241m.\u001b[39mto_numpy(dtype\u001b[38;5;241m=\u001b[39m\u001b[38;5;28mfloat\u001b[39m, na_value\u001b[38;5;241m=\u001b[39mnp\u001b[38;5;241m.\u001b[39mnan, copy\u001b[38;5;241m=\u001b[39m\u001b[38;5;28;01mFalse\u001b[39;00m)\n\u001b[0;32m  10056\u001b[0m \u001b[38;5;28;01mif\u001b[39;00m method \u001b[38;5;241m==\u001b[39m \u001b[38;5;124m\"\u001b[39m\u001b[38;5;124mpearson\u001b[39m\u001b[38;5;124m\"\u001b[39m:\n\u001b[0;32m  10057\u001b[0m     correl \u001b[38;5;241m=\u001b[39m libalgos\u001b[38;5;241m.\u001b[39mnancorr(mat, minp\u001b[38;5;241m=\u001b[39mmin_periods)\n",
      "File \u001b[1;32m~\\.conda\\envs\\study\\Lib\\site-packages\\pandas\\core\\frame.py:1838\u001b[0m, in \u001b[0;36mDataFrame.to_numpy\u001b[1;34m(self, dtype, copy, na_value)\u001b[0m\n\u001b[0;32m   1836\u001b[0m \u001b[38;5;28;01mif\u001b[39;00m dtype \u001b[38;5;129;01mis\u001b[39;00m \u001b[38;5;129;01mnot\u001b[39;00m \u001b[38;5;28;01mNone\u001b[39;00m:\n\u001b[0;32m   1837\u001b[0m     dtype \u001b[38;5;241m=\u001b[39m np\u001b[38;5;241m.\u001b[39mdtype(dtype)\n\u001b[1;32m-> 1838\u001b[0m result \u001b[38;5;241m=\u001b[39m \u001b[38;5;28mself\u001b[39m\u001b[38;5;241m.\u001b[39m_mgr\u001b[38;5;241m.\u001b[39mas_array(dtype\u001b[38;5;241m=\u001b[39mdtype, copy\u001b[38;5;241m=\u001b[39mcopy, na_value\u001b[38;5;241m=\u001b[39mna_value)\n\u001b[0;32m   1839\u001b[0m \u001b[38;5;28;01mif\u001b[39;00m result\u001b[38;5;241m.\u001b[39mdtype \u001b[38;5;129;01mis\u001b[39;00m \u001b[38;5;129;01mnot\u001b[39;00m dtype:\n\u001b[0;32m   1840\u001b[0m     result \u001b[38;5;241m=\u001b[39m np\u001b[38;5;241m.\u001b[39marray(result, dtype\u001b[38;5;241m=\u001b[39mdtype, copy\u001b[38;5;241m=\u001b[39m\u001b[38;5;28;01mFalse\u001b[39;00m)\n",
      "File \u001b[1;32m~\\.conda\\envs\\study\\Lib\\site-packages\\pandas\\core\\internals\\managers.py:1732\u001b[0m, in \u001b[0;36mBlockManager.as_array\u001b[1;34m(self, dtype, copy, na_value)\u001b[0m\n\u001b[0;32m   1730\u001b[0m         arr\u001b[38;5;241m.\u001b[39mflags\u001b[38;5;241m.\u001b[39mwriteable \u001b[38;5;241m=\u001b[39m \u001b[38;5;28;01mFalse\u001b[39;00m\n\u001b[0;32m   1731\u001b[0m \u001b[38;5;28;01melse\u001b[39;00m:\n\u001b[1;32m-> 1732\u001b[0m     arr \u001b[38;5;241m=\u001b[39m \u001b[38;5;28mself\u001b[39m\u001b[38;5;241m.\u001b[39m_interleave(dtype\u001b[38;5;241m=\u001b[39mdtype, na_value\u001b[38;5;241m=\u001b[39mna_value)\n\u001b[0;32m   1733\u001b[0m     \u001b[38;5;66;03m# The underlying data was copied within _interleave, so no need\u001b[39;00m\n\u001b[0;32m   1734\u001b[0m     \u001b[38;5;66;03m# to further copy if copy=True or setting na_value\u001b[39;00m\n\u001b[0;32m   1736\u001b[0m \u001b[38;5;28;01mif\u001b[39;00m na_value \u001b[38;5;129;01mis\u001b[39;00m \u001b[38;5;129;01mnot\u001b[39;00m lib\u001b[38;5;241m.\u001b[39mno_default:\n",
      "File \u001b[1;32m~\\.conda\\envs\\study\\Lib\\site-packages\\pandas\\core\\internals\\managers.py:1794\u001b[0m, in \u001b[0;36mBlockManager._interleave\u001b[1;34m(self, dtype, na_value)\u001b[0m\n\u001b[0;32m   1792\u001b[0m     \u001b[38;5;28;01melse\u001b[39;00m:\n\u001b[0;32m   1793\u001b[0m         arr \u001b[38;5;241m=\u001b[39m blk\u001b[38;5;241m.\u001b[39mget_values(dtype)\n\u001b[1;32m-> 1794\u001b[0m     result[rl\u001b[38;5;241m.\u001b[39mindexer] \u001b[38;5;241m=\u001b[39m arr\n\u001b[0;32m   1795\u001b[0m     itemmask[rl\u001b[38;5;241m.\u001b[39mindexer] \u001b[38;5;241m=\u001b[39m \u001b[38;5;241m1\u001b[39m\n\u001b[0;32m   1797\u001b[0m \u001b[38;5;28;01mif\u001b[39;00m \u001b[38;5;129;01mnot\u001b[39;00m itemmask\u001b[38;5;241m.\u001b[39mall():\n",
      "\u001b[1;31mValueError\u001b[0m: could not convert string to float: 'Autauga'"
     ]
    }
   ],
   "source": [
    "# 데이터에 숫자가 아닌 문자가 포함되어있어서 문자로된 컬럼 무시필요\n",
    "# csv.corr(numeric_only=True)\n",
    "csv.corr()"
   ]
  },
  {
   "cell_type": "code",
   "execution_count": 10,
   "id": "69b882fe",
   "metadata": {},
   "outputs": [
    {
     "data": {
      "text/html": [
       "<div>\n",
       "<style scoped>\n",
       "    .dataframe tbody tr th:only-of-type {\n",
       "        vertical-align: middle;\n",
       "    }\n",
       "\n",
       "    .dataframe tbody tr th {\n",
       "        vertical-align: top;\n",
       "    }\n",
       "\n",
       "    .dataframe thead th {\n",
       "        text-align: right;\n",
       "    }\n",
       "</style>\n",
       "<table border=\"1\" class=\"dataframe\">\n",
       "  <thead>\n",
       "    <tr style=\"text-align: right;\">\n",
       "      <th></th>\n",
       "      <th>FIPS</th>\n",
       "      <th>Lat</th>\n",
       "      <th>Long_</th>\n",
       "      <th>Confirmed</th>\n",
       "      <th>Deaths</th>\n",
       "      <th>Recovered</th>\n",
       "      <th>Active</th>\n",
       "      <th>Incident_Rate</th>\n",
       "      <th>Case_Fatality_Ratio</th>\n",
       "    </tr>\n",
       "  </thead>\n",
       "  <tbody>\n",
       "    <tr>\n",
       "      <th>FIPS</th>\n",
       "      <td>1.000000</td>\n",
       "      <td>-0.143765</td>\n",
       "      <td>0.200799</td>\n",
       "      <td>-0.071156</td>\n",
       "      <td>-0.067051</td>\n",
       "      <td>NaN</td>\n",
       "      <td>NaN</td>\n",
       "      <td>-0.165065</td>\n",
       "      <td>0.078911</td>\n",
       "    </tr>\n",
       "    <tr>\n",
       "      <th>Lat</th>\n",
       "      <td>-0.143765</td>\n",
       "      <td>1.000000</td>\n",
       "      <td>-0.173910</td>\n",
       "      <td>-0.079388</td>\n",
       "      <td>-0.178461</td>\n",
       "      <td>NaN</td>\n",
       "      <td>NaN</td>\n",
       "      <td>0.325317</td>\n",
       "      <td>-0.151777</td>\n",
       "    </tr>\n",
       "    <tr>\n",
       "      <th>Long_</th>\n",
       "      <td>0.200799</td>\n",
       "      <td>-0.173910</td>\n",
       "      <td>1.000000</td>\n",
       "      <td>0.233557</td>\n",
       "      <td>0.213475</td>\n",
       "      <td>NaN</td>\n",
       "      <td>NaN</td>\n",
       "      <td>-0.460999</td>\n",
       "      <td>-0.133582</td>\n",
       "    </tr>\n",
       "    <tr>\n",
       "      <th>Confirmed</th>\n",
       "      <td>-0.071156</td>\n",
       "      <td>-0.079388</td>\n",
       "      <td>0.233557</td>\n",
       "      <td>1.000000</td>\n",
       "      <td>0.792733</td>\n",
       "      <td>NaN</td>\n",
       "      <td>NaN</td>\n",
       "      <td>-0.028566</td>\n",
       "      <td>-0.005525</td>\n",
       "    </tr>\n",
       "    <tr>\n",
       "      <th>Deaths</th>\n",
       "      <td>-0.067051</td>\n",
       "      <td>-0.178461</td>\n",
       "      <td>0.213475</td>\n",
       "      <td>0.792733</td>\n",
       "      <td>1.000000</td>\n",
       "      <td>NaN</td>\n",
       "      <td>NaN</td>\n",
       "      <td>-0.130660</td>\n",
       "      <td>0.010798</td>\n",
       "    </tr>\n",
       "    <tr>\n",
       "      <th>Recovered</th>\n",
       "      <td>NaN</td>\n",
       "      <td>NaN</td>\n",
       "      <td>NaN</td>\n",
       "      <td>NaN</td>\n",
       "      <td>NaN</td>\n",
       "      <td>NaN</td>\n",
       "      <td>NaN</td>\n",
       "      <td>NaN</td>\n",
       "      <td>NaN</td>\n",
       "    </tr>\n",
       "    <tr>\n",
       "      <th>Active</th>\n",
       "      <td>NaN</td>\n",
       "      <td>NaN</td>\n",
       "      <td>NaN</td>\n",
       "      <td>NaN</td>\n",
       "      <td>NaN</td>\n",
       "      <td>NaN</td>\n",
       "      <td>NaN</td>\n",
       "      <td>NaN</td>\n",
       "      <td>NaN</td>\n",
       "    </tr>\n",
       "    <tr>\n",
       "      <th>Incident_Rate</th>\n",
       "      <td>-0.165065</td>\n",
       "      <td>0.325317</td>\n",
       "      <td>-0.460999</td>\n",
       "      <td>-0.028566</td>\n",
       "      <td>-0.130660</td>\n",
       "      <td>NaN</td>\n",
       "      <td>NaN</td>\n",
       "      <td>1.000000</td>\n",
       "      <td>-0.195981</td>\n",
       "    </tr>\n",
       "    <tr>\n",
       "      <th>Case_Fatality_Ratio</th>\n",
       "      <td>0.078911</td>\n",
       "      <td>-0.151777</td>\n",
       "      <td>-0.133582</td>\n",
       "      <td>-0.005525</td>\n",
       "      <td>0.010798</td>\n",
       "      <td>NaN</td>\n",
       "      <td>NaN</td>\n",
       "      <td>-0.195981</td>\n",
       "      <td>1.000000</td>\n",
       "    </tr>\n",
       "  </tbody>\n",
       "</table>\n",
       "</div>"
      ],
      "text/plain": [
       "                         FIPS       Lat     Long_  Confirmed    Deaths  \\\n",
       "FIPS                 1.000000 -0.143765  0.200799  -0.071156 -0.067051   \n",
       "Lat                 -0.143765  1.000000 -0.173910  -0.079388 -0.178461   \n",
       "Long_                0.200799 -0.173910  1.000000   0.233557  0.213475   \n",
       "Confirmed           -0.071156 -0.079388  0.233557   1.000000  0.792733   \n",
       "Deaths              -0.067051 -0.178461  0.213475   0.792733  1.000000   \n",
       "Recovered                 NaN       NaN       NaN        NaN       NaN   \n",
       "Active                    NaN       NaN       NaN        NaN       NaN   \n",
       "Incident_Rate       -0.165065  0.325317 -0.460999  -0.028566 -0.130660   \n",
       "Case_Fatality_Ratio  0.078911 -0.151777 -0.133582  -0.005525  0.010798   \n",
       "\n",
       "                     Recovered  Active  Incident_Rate  Case_Fatality_Ratio  \n",
       "FIPS                       NaN     NaN      -0.165065             0.078911  \n",
       "Lat                        NaN     NaN       0.325317            -0.151777  \n",
       "Long_                      NaN     NaN      -0.460999            -0.133582  \n",
       "Confirmed                  NaN     NaN      -0.028566            -0.005525  \n",
       "Deaths                     NaN     NaN      -0.130660             0.010798  \n",
       "Recovered                  NaN     NaN            NaN                  NaN  \n",
       "Active                     NaN     NaN            NaN                  NaN  \n",
       "Incident_Rate              NaN     NaN       1.000000            -0.195981  \n",
       "Case_Fatality_Ratio        NaN     NaN      -0.195981             1.000000  "
      ]
     },
     "execution_count": 10,
     "metadata": {},
     "output_type": "execute_result"
    }
   ],
   "source": [
    "csv_convert = csv.corr(numeric_only=True)\n",
    "csv_convert"
   ]
  },
  {
   "cell_type": "markdown",
   "id": "844e0cc1",
   "metadata": {},
   "source": [
    "#### 데이터 시각화\n",
    "- matplotlib : 파이썬에서 가장 기본적으로 사용해서 그래프로 보여줌\n",
    "- 설치 : pip install matplotlib\n",
    "- seaborn : matplotlib 기반으로 다양한 통계 차트 및 색상 테마를 추가\n",
    "- 설치 : pip install seaborn\n",
    "- 위에 두가지를 같이 사용해야됨, 과거에 개발되어있어서 다양한테마 없음\n",
    "\n",
    "#### 데이터 시각화 (최신)\n",
    "- plotly : pandas 기능과 plotly 조합해서 최신/가장 빠르게 시각화 가능\n",
    "- pandas 데이터프레임.iplot() 같은 형태로 데이터프레임을 바로 그래프로 그릴수있음\n",
    "- 공식 사이트 : https://plotly.com/python/"
   ]
  },
  {
   "cell_type": "code",
   "execution_count": 11,
   "id": "b63ab1f8",
   "metadata": {},
   "outputs": [],
   "source": [
    "import matplotlib.pyplot as plt\n",
    "import seaborn as sns"
   ]
  },
  {
   "cell_type": "code",
   "execution_count": 12,
   "id": "80d233c6",
   "metadata": {},
   "outputs": [
    {
     "data": {
      "text/plain": [
       "<Axes: >"
      ]
     },
     "execution_count": 12,
     "metadata": {},
     "output_type": "execute_result"
    },
    {
     "data": {
      "image/png": "[encoded data removed]",
      "text/plain": [
       "<Figure size 500x500 with 2 Axes>"
      ]
     },
     "metadata": {},
     "output_type": "display_data"
    }
   ],
   "source": [
    "plt.figure(figsize=(5, 5))\n",
    "sns.heatmap(data=csv_convert, annot=True, fmt='.2f', linewidths=0.5, cmap='Blues')"
   ]
  },
  {
   "cell_type": "code",
   "execution_count": null,
   "id": "46df7d36",
   "metadata": {},
   "outputs": [],
   "source": []
  },
  {
   "cell_type": "code",
   "execution_count": null,
   "id": "c8aa2731",
   "metadata": {},
   "outputs": [],
   "source": []
  }
 ],
 "metadata": {
  "kernelspec": {
   "display_name": "Python 3 (ipykernel)",
   "language": "python",
   "name": "python3"
  },
  "language_info": {
   "codemirror_mode": {
    "name": "ipython",
    "version": 3
   },
   "file_extension": ".py",
   "mimetype": "text/x-python",
   "name": "python",
   "nbconvert_exporter": "python",
   "pygments_lexer": "ipython3",
   "version": "3.11.3"
  }
 },
 "nbformat": 4,
 "nbformat_minor": 5
}
