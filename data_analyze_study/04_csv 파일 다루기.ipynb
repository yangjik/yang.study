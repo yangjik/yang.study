{
 "cells": [
  {
   "cell_type": "markdown",
   "id": "736685df",
   "metadata": {},
   "source": [
    "### 다양한 데이터 포멧\n",
    "- csv\n",
    "- xml\n",
    "- json"
   ]
  },
  {
   "cell_type": "markdown",
   "id": "94e1c854",
   "metadata": {},
   "source": [
    "### csv 라이브러리\n",
    "- anaconda 기본 패키지\n",
    "- 없을 시 pip install csv"
   ]
  },
  {
   "cell_type": "markdown",
   "id": "d2348866",
   "metadata": {},
   "source": [
    "#### csv.reader(file_path, delimiter='')\n",
    "- delimiter => 파일에서 어떤것으로 구분 문자로 설정할것인지\n",
    "- ex) delimiter=',' 일경우 행간 데이터를 1,2,3 이런식으로 구분 문자 사용"
   ]
  },
  {
   "cell_type": "markdown",
   "id": "384cccf6",
   "metadata": {},
   "source": [
    "#### csv 데이터 읽기\n",
    "- 각 데이터를 읽기위해 reader 사용\n",
    "- list형태로 데이터 받아온다.\n",
    "- 읽고난뒤에는 close()사용"
   ]
  },
  {
   "cell_type": "code",
   "execution_count": 11,
   "id": "4f11080c",
   "metadata": {},
   "outputs": [
    {
     "name": "stdout",
     "output_type": "stream",
     "text": [
      "D:\\yang.study\\data_analyze_study\n"
     ]
    }
   ],
   "source": [
    "import os\n",
    "\n",
    "path = os.getcwd()\n",
    "print(path)"
   ]
  },
  {
   "cell_type": "code",
   "execution_count": 9,
   "id": "442695fa",
   "metadata": {},
   "outputs": [
    {
     "name": "stdout",
     "output_type": "stream",
     "text": [
      "['video_id', 'title', 'channel_title', 'category_id', 'tags', 'views', 'likes', 'dislikes', 'comment_total', 'thumbnail_link', 'date']\n"
     ]
    }
   ],
   "source": [
    "import csv\n",
    "\n",
    "with open('ex_datafile/USvideos.csv', 'r', encoding='utf-8') as data:\n",
    "    data_show = csv.reader(data, delimiter=',')\n",
    "    \n",
    "    for a in data_show:\n",
    "        print(a)\n",
    "        break"
   ]
  },
  {
   "cell_type": "markdown",
   "id": "9eff688c",
   "metadata": {},
   "source": [
    "#### csv 파일 쓰기\n",
    "- open 시 'w' 로 파라미터 설정\n",
    "- 기본 문법\n",
    "    - open(file_path, 'w', encoding='utf-8', newline='')\n",
    "- csv.reader 대신, csv.writer사용"
   ]
  },
  {
   "cell_type": "code",
   "execution_count": 14,
   "id": "1fd90241",
   "metadata": {},
   "outputs": [],
   "source": [
    "import csv\n",
    "\n",
    "with open('ex_datafile/testcsv.csv', 'w', encoding='utf-8') as data:\n",
    "    data_write = csv.writer(data, delimiter=',')\n",
    "    data_write.writerow(['a', 'b', 'c'])\n",
    "    data_write.writerow(['1', '2', '3'])"
   ]
  },
  {
   "cell_type": "markdown",
   "id": "b0cb7d5d",
   "metadata": {},
   "source": [
    "#### csv 파일 다른 방법으로 쓰기\n",
    "- csv.writer 함수 대신 csv.DictWriter 함수 사용\n",
    "- 열 이름 : 데이터"
   ]
  },
  {
   "cell_type": "code",
   "execution_count": 19,
   "id": "7dd05916",
   "metadata": {},
   "outputs": [],
   "source": [
    "import csv\n",
    "\n",
    "with open('ex_datafile/tmp_csv.csv', 'w', encoding='utf-8', newline='') as data:\n",
    "    field = ['성', '이름'] # 필드명 작성\n",
    "    write = csv.DictWriter(data, fieldnames=field) # 필드명을 미리 선언할 수 있음\n",
    "    write.writerow({'성' : '김', '이름' : '김김'})\n",
    "    write.writerow({'성' : '이', '이름' : '이이'})\n",
    "    "
   ]
  },
  {
   "cell_type": "code",
   "execution_count": 20,
   "id": "a38cfa5d",
   "metadata": {},
   "outputs": [
    {
     "name": "stdout",
     "output_type": "stream",
     "text": [
      "김,김김\r\n",
      "\n",
      "이,이이\r\n",
      "\n"
     ]
    }
   ],
   "source": [
    "import csv\n",
    "\n",
    "with open('ex_datafile/tmp_csv.csv', 'r', encoding='utf-8', newline='') as data:\n",
    "    for a in data:\n",
    "        print(a)"
   ]
  },
  {
   "cell_type": "markdown",
   "id": "32b25462",
   "metadata": {},
   "source": [
    "#### pandas 라이브러리로 csv 파일 읽기\n",
    "- "
   ]
  },
  {
   "cell_type": "code",
   "execution_count": null,
   "id": "0a0feeec",
   "metadata": {},
   "outputs": [],
   "source": []
  },
  {
   "cell_type": "code",
   "execution_count": null,
   "id": "71177f19",
   "metadata": {},
   "outputs": [],
   "source": []
  },
  {
   "cell_type": "code",
   "execution_count": null,
   "id": "1812c5a8",
   "metadata": {},
   "outputs": [],
   "source": []
  },
  {
   "cell_type": "code",
   "execution_count": null,
   "id": "f2370580",
   "metadata": {},
   "outputs": [],
   "source": []
  },
  {
   "cell_type": "code",
   "execution_count": null,
   "id": "2186bcd1",
   "metadata": {},
   "outputs": [],
   "source": []
  },
  {
   "cell_type": "code",
   "execution_count": null,
   "id": "b2bf45aa",
   "metadata": {},
   "outputs": [],
   "source": []
  },
  {
   "cell_type": "code",
   "execution_count": null,
   "id": "83bb3db3",
   "metadata": {},
   "outputs": [],
   "source": []
  },
  {
   "cell_type": "code",
   "execution_count": null,
   "id": "b4bc81b4",
   "metadata": {},
   "outputs": [],
   "source": []
  },
  {
   "cell_type": "code",
   "execution_count": null,
   "id": "876ec12b",
   "metadata": {},
   "outputs": [],
   "source": []
  },
  {
   "cell_type": "code",
   "execution_count": null,
   "id": "779b8921",
   "metadata": {},
   "outputs": [],
   "source": []
  },
  {
   "cell_type": "code",
   "execution_count": null,
   "id": "d0e4d9ab",
   "metadata": {},
   "outputs": [],
   "source": []
  },
  {
   "cell_type": "code",
   "execution_count": null,
   "id": "90494226",
   "metadata": {},
   "outputs": [],
   "source": []
  },
  {
   "cell_type": "code",
   "execution_count": null,
   "id": "7b06908f",
   "metadata": {},
   "outputs": [],
   "source": []
  }
 ],
 "metadata": {
  "kernelspec": {
   "display_name": "Python 3 (ipykernel)",
   "language": "python",
   "name": "python3"
  },
  "language_info": {
   "codemirror_mode": {
    "name": "ipython",
    "version": 3
   },
   "file_extension": ".py",
   "mimetype": "text/x-python",
   "name": "python",
   "nbconvert_exporter": "python",
   "pygments_lexer": "ipython3",
   "version": "3.11.3"
  }
 },
 "nbformat": 4,
 "nbformat_minor": 5
}
