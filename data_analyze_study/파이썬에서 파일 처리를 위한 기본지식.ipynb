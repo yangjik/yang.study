{
 "cells": [
  {
   "cell_type": "markdown",
   "id": "042ef3ca",
   "metadata": {},
   "source": [
    "### 파일 오픈 및 작업"
   ]
  },
  {
   "cell_type": "markdown",
   "id": "0e15357e",
   "metadata": {},
   "source": [
    "- 3가지 명령 순서로 처리한다.\n",
    "    - File open\n",
    "    - File read or write\n",
    "    - File close\n",
    "    - ※ File open시 꼭 close 해줘야됨.(메모리 차지)"
   ]
  },
  {
   "cell_type": "markdown",
   "id": "6f8d5042",
   "metadata": {},
   "source": [
    "문법\n",
    "- variable =  open(File name, File open mode, endcoding=\" \")\n",
    "- File open mode\n",
    "    - w : 쓰기 모드\n",
    "    - r : 읽기 모드\n",
    "    - a : 맨마지막에 추가"
   ]
  },
  {
   "cell_type": "code",
   "execution_count": 1,
   "id": "23a78481",
   "metadata": {},
   "outputs": [],
   "source": [
    "file_path = ''\n",
    "data_file = open('ex_datafile/text_data.txt', 'r', encoding='utf-8')"
   ]
  },
  {
   "cell_type": "code",
   "execution_count": null,
   "id": "e1caaa5f",
   "metadata": {},
   "outputs": [],
   "source": []
  },
  {
   "cell_type": "code",
   "execution_count": null,
   "id": "caaa327f",
   "metadata": {},
   "outputs": [],
   "source": []
  },
  {
   "cell_type": "code",
   "execution_count": null,
   "id": "909867bc",
   "metadata": {},
   "outputs": [],
   "source": []
  },
  {
   "cell_type": "code",
   "execution_count": null,
   "id": "1158e0ab",
   "metadata": {},
   "outputs": [],
   "source": []
  },
  {
   "cell_type": "code",
   "execution_count": null,
   "id": "b53b217c",
   "metadata": {},
   "outputs": [],
   "source": []
  },
  {
   "cell_type": "code",
   "execution_count": null,
   "id": "f2fc8c4d",
   "metadata": {},
   "outputs": [],
   "source": []
  },
  {
   "cell_type": "code",
   "execution_count": null,
   "id": "79eba428",
   "metadata": {},
   "outputs": [],
   "source": []
  },
  {
   "cell_type": "code",
   "execution_count": null,
   "id": "d8ebbe5d",
   "metadata": {},
   "outputs": [],
   "source": []
  },
  {
   "cell_type": "code",
   "execution_count": null,
   "id": "8bcd1abe",
   "metadata": {},
   "outputs": [],
   "source": []
  },
  {
   "cell_type": "code",
   "execution_count": null,
   "id": "90ffbb63",
   "metadata": {},
   "outputs": [],
   "source": []
  }
 ],
 "metadata": {
  "kernelspec": {
   "display_name": "Python 3 (ipykernel)",
   "language": "python",
   "name": "python3"
  },
  "language_info": {
   "codemirror_mode": {
    "name": "ipython",
    "version": 3
   },
   "file_extension": ".py",
   "mimetype": "text/x-python",
   "name": "python",
   "nbconvert_exporter": "python",
   "pygments_lexer": "ipython3",
   "version": "3.11.3"
  }
 },
 "nbformat": 4,
 "nbformat_minor": 5
}
