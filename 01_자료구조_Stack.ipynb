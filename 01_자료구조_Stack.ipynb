{
  "nbformat": 4,
  "nbformat_minor": 0,
  "metadata": {
    "colab": {
      "provenance": [],
      "authorship_tag": "ABX9TyOHzS1JPemss5SSQTG0HLcs",
      "include_colab_link": true
    },
    "kernelspec": {
      "name": "python3",
      "display_name": "Python 3"
    },
    "language_info": {
      "name": "python"
    }
  },
  "cells": [
    {
      "cell_type": "markdown",
      "metadata": {
        "id": "view-in-github",
        "colab_type": "text"
      },
      "source": [
        "<a href=\"https://colab.research.google.com/github/yangjik/yang.study/blob/main/01_%EC%9E%90%EB%A3%8C%EA%B5%AC%EC%A1%B0_Stack.ipynb\" target=\"_parent\"><img src=\"https://colab.research.google.com/assets/colab-badge.svg\" alt=\"Open In Colab\"/></a>"
      ]
    },
    {
      "cell_type": "markdown",
      "source": [
        "# 스택\n",
        "\n",
        "- 후입선출(LIFO : Last-In First-Out)\n",
        "- 요소의 삽입과 삭제가 상단에서만 가능한 구조\n",
        "- 스택의 연산\n",
        "  - push() : 새로운 요소 e를 스택의 맨 위에 쌓기\n",
        "  - pop() : 스택의 맨 위에 있는 요소를 꺼내기\n",
        "  - isEmpty() : 스택이 비어 있으면 True, 아니면 False 반환\n",
        "  - isFull() : 스택이 가득 차 있으면 True, 아니면 False 반환\n",
        "  - peek() : 스택의 맨 위에 있는 항목을 삭제하지 않고 반환\n",
        "  - size() : 스택에 들어 있는 전체 요소의 수를 반환"
      ],
      "metadata": {
        "id": "BCa12HbKyGCB"
      }
    },
    {
      "cell_type": "markdown",
      "source": [
        "### 각 연산 함수로 만들기"
      ],
      "metadata": {
        "id": "dJTBlHMq9NTL"
      }
    },
    {
      "cell_type": "code",
      "execution_count": null,
      "metadata": {
        "id": "DoaO6VnuvgUH"
      },
      "outputs": [],
      "source": [
        "# 스택 사용할 변수 지정\n",
        "stack = 10\n",
        "element = [None] * 10\n",
        "index = -1"
      ]
    },
    {
      "cell_type": "code",
      "source": [
        "# 스택 공백 확인\n",
        "def isEmpty():\n",
        "  if index == -1:\n",
        "    return True\n",
        "  else:\n",
        "    return False\n",
        "\n",
        "def isFull():\n",
        "  return index == element"
      ],
      "metadata": {
        "id": "zMYC1FoEGbu3"
      },
      "execution_count": null,
      "outputs": []
    },
    {
      "cell_type": "code",
      "source": [
        "# 데이터 넣기\n",
        "def push(e):\n",
        "  if not isFull():\n",
        "    top += 1\n",
        "    element[top] = e\n",
        "  else:\n",
        "    print('stack overflow')\n",
        "    exit()"
      ],
      "metadata": {
        "id": "adzWzZMvGcJh"
      },
      "execution_count": null,
      "outputs": []
    },
    {
      "cell_type": "code",
      "source": [
        "# 스택 삭제\n",
        "def pop():\n",
        "  if not isEmpty():\n",
        "    top -= 1\n",
        "    return element[top + 1]\n",
        "  else:\n",
        "    print('stack underflow')\n",
        "    exit()"
      ],
      "metadata": {
        "id": "yFP_Dapn1tRM"
      },
      "execution_count": null,
      "outputs": []
    },
    {
      "cell_type": "code",
      "source": [
        "# 스택의 peek 연산\n",
        "def peek():\n",
        "  if not isEmpty():\n",
        "    return element[top]\n",
        "  else:\n",
        "    pass"
      ],
      "metadata": {
        "id": "4U8zg0Xp2Q6R"
      },
      "execution_count": null,
      "outputs": []
    },
    {
      "cell_type": "code",
      "source": [
        "# 현재 스택 사이즈\n",
        "def size():\n",
        "  return top + 1"
      ],
      "metadata": {
        "id": "T0gbYvE926b1"
      },
      "execution_count": null,
      "outputs": []
    },
    {
      "cell_type": "markdown",
      "source": [
        "### 스택 클래스 생성"
      ],
      "metadata": {
        "id": "jC0zBob63Nyt"
      }
    },
    {
      "cell_type": "code",
      "source": [
        "class Stack:\n",
        "  def __init__(self, capacity):\n",
        "    self.capacity = capacity\n",
        "    self.array = [None] * self.capacity\n",
        "    self.top = -1\n",
        "\n",
        "  def isEmpty(self):\n",
        "    return self.top == -1\n",
        "\n",
        "  def isFull(self):\n",
        "    return self.top == self.capacity -1\n",
        "\n",
        "  def push(self, item):\n",
        "    if not self.isFull():\n",
        "      self.top += 1\n",
        "      self.array[self.top] = item\n",
        "    else:\n",
        "      pass\n",
        "\n",
        "  def pop(self) :\n",
        "    if not self.isEmpty():\n",
        "      self.top -= 1\n",
        "      return self.array[self.top + 1]\n",
        "    else:\n",
        "      pass\n",
        "\n",
        "  def peek(self) :\n",
        "    if not self.isEmpty():\n",
        "      return self.array[self.top]\n",
        "    else:\n",
        "      pass\n",
        "\n",
        "  def size():\n",
        "    return top + 1"
      ],
      "metadata": {
        "id": "vH2kmw4o3GLU"
      },
      "execution_count": null,
      "outputs": []
    },
    {
      "cell_type": "markdown",
      "source": [
        "### 위에서 만든 스택 사용하기"
      ],
      "metadata": {
        "id": "TZtVomLS48Zf"
      }
    },
    {
      "cell_type": "code",
      "source": [
        "stack = Stack(100) # 공간 100 개 만듬\n",
        "\n",
        "msg = '안녕하세요'\n",
        "\n",
        "for _ in msg:\n",
        "  stack.push(_)\n",
        "\n",
        "while not stack.isEmpty():\n",
        "  print(stack.pop())"
      ],
      "metadata": {
        "id": "rh75vWM03k-B",
        "colab": {
          "base_uri": "https://localhost:8080/"
        },
        "outputId": "0a6ab3a3-8307-4c88-d619-a48033fa10a9"
      },
      "execution_count": null,
      "outputs": [
        {
          "output_type": "stream",
          "name": "stdout",
          "text": [
            "요\n",
            "세\n",
            "하\n",
            "녕\n",
            "안\n"
          ]
        }
      ]
    },
    {
      "cell_type": "markdown",
      "source": [
        "### 스택 예제 문제 - 괄호 검사 프로그램"
      ],
      "metadata": {
        "id": "eF_arGy76GN_"
      }
    },
    {
      "cell_type": "markdown",
      "source": [
        "- 조건 1. 왼쪽 괄호의 개수와 오른쪽 괄호의 개수가 같아야 합니다.\n",
        "- 조건 2. 같은 종류인 경우 왼쪽 괄호가 오른쪽보다 먼저 나와야 합니다.\n",
        "- 조건 3 다른 종류의 괄호 쌍이 서로 교차하면 안 됩니다."
      ],
      "metadata": {
        "id": "GWgzi9PE6L4M"
      }
    },
    {
      "cell_type": "code",
      "source": [
        "def checkBrackets(statement):\n",
        "  stack = Stack(100)\n",
        "\n",
        "  for ch in statement:\n",
        "    if ch in ('{', '[', '(', '(' ):     # 괄호 시작시 스택에 적재\n",
        "      stack.push(ch)\n",
        "    elif ch in ('}', ']', ')'):         # 괄호 마지막인데 스택이 비워있다면 스택 시작이 안된거.\n",
        "      if stack.isEmpty():\n",
        "        return False\n",
        "      else:\n",
        "        left = stack.pop()\n",
        "        if (ch == '}' and left != '{' ) or \\\n",
        "            (ch == ']' and left != '[') or \\\n",
        "            (ch == ')' and left != '('):\n",
        "            return False\n",
        "\n",
        "  return stack.isEmpty()"
      ],
      "metadata": {
        "id": "i8uhMKkw5dgF"
      },
      "execution_count": null,
      "outputs": []
    },
    {
      "cell_type": "code",
      "source": [],
      "metadata": {
        "id": "U7EuZcVY8Kyi"
      },
      "execution_count": null,
      "outputs": []
    },
    {
      "cell_type": "markdown",
      "source": [
        "### 파이썬에서 스택 사용하기 - List[] 사용하기\n",
        "\n",
        "밑에 판다스로 설명"
      ],
      "metadata": {
        "id": "KxXEIeGD9VnX"
      }
    },
    {
      "cell_type": "code",
      "source": [
        "import pandas as pd\n",
        "\n",
        "pd.DataFrame(data={\n",
        "    '연산' : ['삽입', '삭제', '개수', '공백확인', '포화상태확인', '맨마지막값'],\n",
        "    'Stack' : ['push()', 'pop()', 'size()', 'isEmpty()', 'isFull()', 'peek()'],\n",
        "    '파이썬 list' : ['append()', 'pop()', 'len()', 'len()==0', '무한대 False', 'stack[-1]'],\n",
        "    '사용 예' : ['li.append(e)', 'li.pop()', 'len(li)', 'len(li) == 0', 'False', 'li[-1]']\n",
        "})"
      ],
      "metadata": {
        "colab": {
          "base_uri": "https://localhost:8080/",
          "height": 238
        },
        "id": "WkZJcgQG9bbt",
        "outputId": "c21c4184-81f1-4537-ddf3-f55415d5db3f"
      },
      "execution_count": null,
      "outputs": [
        {
          "output_type": "execute_result",
          "data": {
            "text/plain": [
              "       연산      Stack   파이썬 list          사용 예\n",
              "0      삽입     push()   append()  li.append(e)\n",
              "1      삭제      pop()      pop()      li.pop()\n",
              "2      개수     size()      len()       len(li)\n",
              "3    공백확인  isEmpty()   len()==0  len(li) == 0\n",
              "4  포화상태확인   isFull()  무한대 False         False\n",
              "5   맨마지막값     peek()  stack[-1]        li[-1]"
            ],
            "text/html": [
              "\n",
              "  <div id=\"df-c494bec8-c85c-42cb-8798-db204c429bdd\" class=\"colab-df-container\">\n",
              "    <div>\n",
              "<style scoped>\n",
              "    .dataframe tbody tr th:only-of-type {\n",
              "        vertical-align: middle;\n",
              "    }\n",
              "\n",
              "    .dataframe tbody tr th {\n",
              "        vertical-align: top;\n",
              "    }\n",
              "\n",
              "    .dataframe thead th {\n",
              "        text-align: right;\n",
              "    }\n",
              "</style>\n",
              "<table border=\"1\" class=\"dataframe\">\n",
              "  <thead>\n",
              "    <tr style=\"text-align: right;\">\n",
              "      <th></th>\n",
              "      <th>연산</th>\n",
              "      <th>Stack</th>\n",
              "      <th>파이썬 list</th>\n",
              "      <th>사용 예</th>\n",
              "    </tr>\n",
              "  </thead>\n",
              "  <tbody>\n",
              "    <tr>\n",
              "      <th>0</th>\n",
              "      <td>삽입</td>\n",
              "      <td>push()</td>\n",
              "      <td>append()</td>\n",
              "      <td>li.append(e)</td>\n",
              "    </tr>\n",
              "    <tr>\n",
              "      <th>1</th>\n",
              "      <td>삭제</td>\n",
              "      <td>pop()</td>\n",
              "      <td>pop()</td>\n",
              "      <td>li.pop()</td>\n",
              "    </tr>\n",
              "    <tr>\n",
              "      <th>2</th>\n",
              "      <td>개수</td>\n",
              "      <td>size()</td>\n",
              "      <td>len()</td>\n",
              "      <td>len(li)</td>\n",
              "    </tr>\n",
              "    <tr>\n",
              "      <th>3</th>\n",
              "      <td>공백확인</td>\n",
              "      <td>isEmpty()</td>\n",
              "      <td>len()==0</td>\n",
              "      <td>len(li) == 0</td>\n",
              "    </tr>\n",
              "    <tr>\n",
              "      <th>4</th>\n",
              "      <td>포화상태확인</td>\n",
              "      <td>isFull()</td>\n",
              "      <td>무한대 False</td>\n",
              "      <td>False</td>\n",
              "    </tr>\n",
              "    <tr>\n",
              "      <th>5</th>\n",
              "      <td>맨마지막값</td>\n",
              "      <td>peek()</td>\n",
              "      <td>stack[-1]</td>\n",
              "      <td>li[-1]</td>\n",
              "    </tr>\n",
              "  </tbody>\n",
              "</table>\n",
              "</div>\n",
              "    <div class=\"colab-df-buttons\">\n",
              "\n",
              "  <div class=\"colab-df-container\">\n",
              "    <button class=\"colab-df-convert\" onclick=\"convertToInteractive('df-c494bec8-c85c-42cb-8798-db204c429bdd')\"\n",
              "            title=\"Convert this dataframe to an interactive table.\"\n",
              "            style=\"display:none;\">\n",
              "\n",
              "  <svg xmlns=\"http://www.w3.org/2000/svg\" height=\"24px\" viewBox=\"0 -960 960 960\">\n",
              "    <path d=\"M120-120v-720h720v720H120Zm60-500h600v-160H180v160Zm220 220h160v-160H400v160Zm0 220h160v-160H400v160ZM180-400h160v-160H180v160Zm440 0h160v-160H620v160ZM180-180h160v-160H180v160Zm440 0h160v-160H620v160Z\"/>\n",
              "  </svg>\n",
              "    </button>\n",
              "\n",
              "  <style>\n",
              "    .colab-df-container {\n",
              "      display:flex;\n",
              "      gap: 12px;\n",
              "    }\n",
              "\n",
              "    .colab-df-convert {\n",
              "      background-color: #E8F0FE;\n",
              "      border: none;\n",
              "      border-radius: 50%;\n",
              "      cursor: pointer;\n",
              "      display: none;\n",
              "      fill: #1967D2;\n",
              "      height: 32px;\n",
              "      padding: 0 0 0 0;\n",
              "      width: 32px;\n",
              "    }\n",
              "\n",
              "    .colab-df-convert:hover {\n",
              "      background-color: #E2EBFA;\n",
              "      box-shadow: 0px 1px 2px rgba(60, 64, 67, 0.3), 0px 1px 3px 1px rgba(60, 64, 67, 0.15);\n",
              "      fill: #174EA6;\n",
              "    }\n",
              "\n",
              "    .colab-df-buttons div {\n",
              "      margin-bottom: 4px;\n",
              "    }\n",
              "\n",
              "    [theme=dark] .colab-df-convert {\n",
              "      background-color: #3B4455;\n",
              "      fill: #D2E3FC;\n",
              "    }\n",
              "\n",
              "    [theme=dark] .colab-df-convert:hover {\n",
              "      background-color: #434B5C;\n",
              "      box-shadow: 0px 1px 3px 1px rgba(0, 0, 0, 0.15);\n",
              "      filter: drop-shadow(0px 1px 2px rgba(0, 0, 0, 0.3));\n",
              "      fill: #FFFFFF;\n",
              "    }\n",
              "  </style>\n",
              "\n",
              "    <script>\n",
              "      const buttonEl =\n",
              "        document.querySelector('#df-c494bec8-c85c-42cb-8798-db204c429bdd button.colab-df-convert');\n",
              "      buttonEl.style.display =\n",
              "        google.colab.kernel.accessAllowed ? 'block' : 'none';\n",
              "\n",
              "      async function convertToInteractive(key) {\n",
              "        const element = document.querySelector('#df-c494bec8-c85c-42cb-8798-db204c429bdd');\n",
              "        const dataTable =\n",
              "          await google.colab.kernel.invokeFunction('convertToInteractive',\n",
              "                                                    [key], {});\n",
              "        if (!dataTable) return;\n",
              "\n",
              "        const docLinkHtml = 'Like what you see? Visit the ' +\n",
              "          '<a target=\"_blank\" href=https://colab.research.google.com/notebooks/data_table.ipynb>data table notebook</a>'\n",
              "          + ' to learn more about interactive tables.';\n",
              "        element.innerHTML = '';\n",
              "        dataTable['output_type'] = 'display_data';\n",
              "        await google.colab.output.renderOutput(dataTable, element);\n",
              "        const docLink = document.createElement('div');\n",
              "        docLink.innerHTML = docLinkHtml;\n",
              "        element.appendChild(docLink);\n",
              "      }\n",
              "    </script>\n",
              "  </div>\n",
              "\n",
              "\n",
              "<div id=\"df-fe257ffc-7044-4713-8562-a04f85610797\">\n",
              "  <button class=\"colab-df-quickchart\" onclick=\"quickchart('df-fe257ffc-7044-4713-8562-a04f85610797')\"\n",
              "            title=\"Suggest charts\"\n",
              "            style=\"display:none;\">\n",
              "\n",
              "<svg xmlns=\"http://www.w3.org/2000/svg\" height=\"24px\"viewBox=\"0 0 24 24\"\n",
              "     width=\"24px\">\n",
              "    <g>\n",
              "        <path d=\"M19 3H5c-1.1 0-2 .9-2 2v14c0 1.1.9 2 2 2h14c1.1 0 2-.9 2-2V5c0-1.1-.9-2-2-2zM9 17H7v-7h2v7zm4 0h-2V7h2v10zm4 0h-2v-4h2v4z\"/>\n",
              "    </g>\n",
              "</svg>\n",
              "  </button>\n",
              "\n",
              "<style>\n",
              "  .colab-df-quickchart {\n",
              "      --bg-color: #E8F0FE;\n",
              "      --fill-color: #1967D2;\n",
              "      --hover-bg-color: #E2EBFA;\n",
              "      --hover-fill-color: #174EA6;\n",
              "      --disabled-fill-color: #AAA;\n",
              "      --disabled-bg-color: #DDD;\n",
              "  }\n",
              "\n",
              "  [theme=dark] .colab-df-quickchart {\n",
              "      --bg-color: #3B4455;\n",
              "      --fill-color: #D2E3FC;\n",
              "      --hover-bg-color: #434B5C;\n",
              "      --hover-fill-color: #FFFFFF;\n",
              "      --disabled-bg-color: #3B4455;\n",
              "      --disabled-fill-color: #666;\n",
              "  }\n",
              "\n",
              "  .colab-df-quickchart {\n",
              "    background-color: var(--bg-color);\n",
              "    border: none;\n",
              "    border-radius: 50%;\n",
              "    cursor: pointer;\n",
              "    display: none;\n",
              "    fill: var(--fill-color);\n",
              "    height: 32px;\n",
              "    padding: 0;\n",
              "    width: 32px;\n",
              "  }\n",
              "\n",
              "  .colab-df-quickchart:hover {\n",
              "    background-color: var(--hover-bg-color);\n",
              "    box-shadow: 0 1px 2px rgba(60, 64, 67, 0.3), 0 1px 3px 1px rgba(60, 64, 67, 0.15);\n",
              "    fill: var(--button-hover-fill-color);\n",
              "  }\n",
              "\n",
              "  .colab-df-quickchart-complete:disabled,\n",
              "  .colab-df-quickchart-complete:disabled:hover {\n",
              "    background-color: var(--disabled-bg-color);\n",
              "    fill: var(--disabled-fill-color);\n",
              "    box-shadow: none;\n",
              "  }\n",
              "\n",
              "  .colab-df-spinner {\n",
              "    border: 2px solid var(--fill-color);\n",
              "    border-color: transparent;\n",
              "    border-bottom-color: var(--fill-color);\n",
              "    animation:\n",
              "      spin 1s steps(1) infinite;\n",
              "  }\n",
              "\n",
              "  @keyframes spin {\n",
              "    0% {\n",
              "      border-color: transparent;\n",
              "      border-bottom-color: var(--fill-color);\n",
              "      border-left-color: var(--fill-color);\n",
              "    }\n",
              "    20% {\n",
              "      border-color: transparent;\n",
              "      border-left-color: var(--fill-color);\n",
              "      border-top-color: var(--fill-color);\n",
              "    }\n",
              "    30% {\n",
              "      border-color: transparent;\n",
              "      border-left-color: var(--fill-color);\n",
              "      border-top-color: var(--fill-color);\n",
              "      border-right-color: var(--fill-color);\n",
              "    }\n",
              "    40% {\n",
              "      border-color: transparent;\n",
              "      border-right-color: var(--fill-color);\n",
              "      border-top-color: var(--fill-color);\n",
              "    }\n",
              "    60% {\n",
              "      border-color: transparent;\n",
              "      border-right-color: var(--fill-color);\n",
              "    }\n",
              "    80% {\n",
              "      border-color: transparent;\n",
              "      border-right-color: var(--fill-color);\n",
              "      border-bottom-color: var(--fill-color);\n",
              "    }\n",
              "    90% {\n",
              "      border-color: transparent;\n",
              "      border-bottom-color: var(--fill-color);\n",
              "    }\n",
              "  }\n",
              "</style>\n",
              "\n",
              "  <script>\n",
              "    async function quickchart(key) {\n",
              "      const quickchartButtonEl =\n",
              "        document.querySelector('#' + key + ' button');\n",
              "      quickchartButtonEl.disabled = true;  // To prevent multiple clicks.\n",
              "      quickchartButtonEl.classList.add('colab-df-spinner');\n",
              "      try {\n",
              "        const charts = await google.colab.kernel.invokeFunction(\n",
              "            'suggestCharts', [key], {});\n",
              "      } catch (error) {\n",
              "        console.error('Error during call to suggestCharts:', error);\n",
              "      }\n",
              "      quickchartButtonEl.classList.remove('colab-df-spinner');\n",
              "      quickchartButtonEl.classList.add('colab-df-quickchart-complete');\n",
              "    }\n",
              "    (() => {\n",
              "      let quickchartButtonEl =\n",
              "        document.querySelector('#df-fe257ffc-7044-4713-8562-a04f85610797 button');\n",
              "      quickchartButtonEl.style.display =\n",
              "        google.colab.kernel.accessAllowed ? 'block' : 'none';\n",
              "    })();\n",
              "  </script>\n",
              "</div>\n",
              "\n",
              "    </div>\n",
              "  </div>\n"
            ]
          },
          "metadata": {},
          "execution_count": 10
        }
      ]
    },
    {
      "cell_type": "code",
      "source": [
        "# 문자열 역순 출력(파이썬 리스트 사용)\n",
        "li = []\n",
        "re_li = []\n",
        "msg = '파이썬리스트'\n",
        "\n",
        "for _ in msg:\n",
        "  li.append(_)\n",
        "\n",
        "print(li)\n",
        "\n",
        "while len(li) > 0:\n",
        "  re_li.append(li.pop())\n",
        "\n",
        "print(re_li)"
      ],
      "metadata": {
        "colab": {
          "base_uri": "https://localhost:8080/"
        },
        "id": "FZoVcAcV_H1f",
        "outputId": "f60173e7-d387-4e72-a124-5aa22839d30a"
      },
      "execution_count": null,
      "outputs": [
        {
          "output_type": "stream",
          "name": "stdout",
          "text": [
            "['파', '이', '썬', '리', '스', '트']\n",
            "['트', '스', '리', '썬', '이', '파']\n"
          ]
        }
      ]
    },
    {
      "cell_type": "markdown",
      "source": [
        "#### queue 모듈의 LifoQueue 사용하기\n",
        "\n",
        "queue 모듈은 큐, 스택, 우선순위큐 등 있다."
      ],
      "metadata": {
        "id": "ef_wFRjPAgOF"
      }
    },
    {
      "cell_type": "code",
      "source": [
        "import queue"
      ],
      "metadata": {
        "id": "U4JQqKqzAATu"
      },
      "execution_count": null,
      "outputs": []
    },
    {
      "cell_type": "code",
      "source": [
        "# 스택 객체 생성\n",
        "st = queue.LifoQueue(maxsize=20)"
      ],
      "metadata": {
        "id": "yTegrltHAxNu"
      },
      "execution_count": null,
      "outputs": []
    },
    {
      "cell_type": "code",
      "source": [
        "msg = '파이썬리스트'\n",
        "re_li = []\n",
        "for _ in msg:\n",
        "  st.put(_)\n",
        "\n",
        "print(st)\n",
        "\n",
        "while not st.empty():\n",
        "  re_li.append(st.get())\n",
        "\n",
        "print(re_li)"
      ],
      "metadata": {
        "colab": {
          "base_uri": "https://localhost:8080/"
        },
        "id": "B7KvJvn6A9WO",
        "outputId": "e558d929-e1e1-4fbf-a8dc-630cfcc52e79"
      },
      "execution_count": null,
      "outputs": [
        {
          "output_type": "stream",
          "name": "stdout",
          "text": [
            "<queue.LifoQueue object at 0x790a566e56f0>\n",
            "['트', '스', '리', '썬', '이', '파']\n"
          ]
        }
      ]
    },
    {
      "cell_type": "markdown",
      "source": [
        "### 시스템 스택과 순환 호출\n",
        "\n",
        "- 순환 : 어떤 함수가 자기 자신을 다시 호출하여 문제를 해결하는 프로그래밍 기법"
      ],
      "metadata": {
        "id": "Nc08MSrBOUjV"
      }
    },
    {
      "cell_type": "code",
      "source": [
        "# 반복 구조의 팩토리얼 함수\n",
        "def factor(n):\n",
        "  result = 1\n",
        "  for k in range(2, n+1):   # 1 X 2 X 3 X 4 X ... X N 이여서\n",
        "    result = result * k\n",
        "  return result"
      ],
      "metadata": {
        "id": "tkpTPoY2BVNr"
      },
      "execution_count": null,
      "outputs": []
    },
    {
      "cell_type": "code",
      "source": [
        "# 순환 구조의 팩토리얼\n",
        "def struck_factor(n):\n",
        "  if n ==1 :\n",
        "    return 1\n",
        "  else:\n",
        "    return n * struck_factor(n-1)   # 자신을 순환적으로 호출하는 부분.  <- 호출할수록 크기가 작아져야함.!!!"
      ],
      "metadata": {
        "id": "zGIJjW_4URcc"
      },
      "execution_count": null,
      "outputs": []
    }
  ]
}